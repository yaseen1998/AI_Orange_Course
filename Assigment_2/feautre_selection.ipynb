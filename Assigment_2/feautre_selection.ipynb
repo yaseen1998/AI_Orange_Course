{
 "cells": [
  {
   "cell_type": "code",
   "execution_count": 1,
   "metadata": {},
   "outputs": [],
   "source": [
    "import pandas as pd \n",
    "from sklearn.ensemble import RandomForestClassifier\n",
    "from sklearn.model_selection import train_test_split\n",
    "from sklearn.metrics import accuracy_score"
   ]
  },
  {
   "cell_type": "code",
   "execution_count": 2,
   "metadata": {},
   "outputs": [],
   "source": [
    "def custom_encoding(y):\n",
    "    mapping = {\"Standard\":1,\"Good\":2,\"Poor\":0,\"Bad\":0,'NM':0,\"No\":1,\"Yes\":2}\n",
    "    y = y.map(mapping)\n",
    "    return y"
   ]
  },
  {
   "cell_type": "code",
   "execution_count": 3,
   "metadata": {},
   "outputs": [],
   "source": [
    "df = pd.read_csv('../csv/credit_score_clean_extraction.csv')\n",
    "# use os to store csv file\n",
    "\n",
    "x = df.drop(['Credit_Score'],axis=1)\n",
    "column = x.columns\n",
    "y = custom_encoding(df[\"Credit_Score\"])"
   ]
  },
  {
   "cell_type": "code",
   "execution_count": 25,
   "metadata": {},
   "outputs": [
    {
     "name": "stdout",
     "output_type": "stream",
     "text": [
      "Accuracy: 0.8317\n"
     ]
    }
   ],
   "source": [
    "features=[\n",
    "      \"Outstanding_Debt\",\n",
    "      \"Credit_Mix\",\n",
    "      \"Interest_Loan_Interaction\"\n",
    "    ]\n",
    "\n",
    "X = x[features]\n",
    "x_train,x_test,y_train,y_test = train_test_split(X,y,test_size=0.2,random_state=42)\n",
    "rf = RandomForestClassifier(n_estimators=100,random_state=42)\n",
    "rf.fit(x_train,y_train)\n",
    "y_pred = rf.predict(x_test)\n",
    "print(\"Accuracy:\",accuracy_score(y_test,y_pred))\n",
    "score = accuracy_score(y_test,y_pred)\n"
   ]
  },
  {
   "cell_type": "code",
   "execution_count": 23,
   "metadata": {},
   "outputs": [
    {
     "name": "stdout",
     "output_type": "stream",
     "text": [
      "Accuracy: 0.80535 Annual_Income\n",
      "Accuracy: 0.8077 Monthly_Inhand_Salary\n",
      "Accuracy: 0.80825 Total_Financial_Obligations\n",
      "Final Features: ['Credit_Mix', 'Total_Financial_Obligations']\n",
      "Accuracy: 0.8094 Annual_Income\n",
      "Accuracy: 0.80995 Num_Credit_Card\n",
      "Accuracy: 0.81015 Outstanding_Debt\n",
      "Final Features: ['Credit_Mix', 'Total_Financial_Obligations', 'Outstanding_Debt']\n",
      "Accuracy: 0.81075 Num_Bank_Accounts\n",
      "Accuracy: 0.83095 Credit_History_Age\n",
      "Final Features: ['Credit_Mix', 'Total_Financial_Obligations', 'Outstanding_Debt', 'Credit_History_Age']\n",
      "Accuracy: 0.83135 Annual_Income\n",
      "Accuracy: 0.8317 Interest_Loan_Interaction\n",
      "Final Features: ['Credit_Mix', 'Total_Financial_Obligations', 'Outstanding_Debt', 'Credit_History_Age', 'Interest_Loan_Interaction']\n",
      "Feature already in list\n"
     ]
    }
   ],
   "source": [
    "columns = x.columns\n",
    "for j in column:\n",
    "    for i in column:\n",
    "        if i not in features:\n",
    "            X = x[features+[i]]\n",
    "            x_train,x_test,y_train,y_test = train_test_split(X,y,test_size=0.2,random_state=42)\n",
    "            rf = RandomForestClassifier(n_estimators=100,random_state=42)\n",
    "            rf.fit(x_train,y_train)\n",
    "            y_pred = rf.predict(x_test)\n",
    "            new_score = accuracy_score(y_test,y_pred)\n",
    "            if new_score > score:\n",
    "                print(\"Accuracy:\",new_score,i)\n",
    "                new_feature = i\n",
    "                score = new_score\n",
    "                \n",
    "    \n",
    "    if new_feature in features:\n",
    "        break\n",
    "    features.append(new_feature)\n",
    "    \n",
    "    \n",
    "            "
   ]
  },
  {
   "cell_type": "code",
   "execution_count": 20,
   "metadata": {},
   "outputs": [
    {
     "name": "stdout",
     "output_type": "stream",
     "text": [
      "Final Features: ['Interest_Rate', 'Delay_from_due_date', 'Credit_Mix', 'Interest_Loan_Interaction', 'Monthly_Inhand_Salary', 'Credit_History_Age', 'Age', 'Net_Monthly_Savings', 'Net_Monthly_Savings', 'Net_Monthly_Savings']\n"
     ]
    }
   ],
   "source": [
    "print(\"Final Features:\",features)"
   ]
  }
 ],
 "metadata": {
  "kernelspec": {
   "display_name": ".venv",
   "language": "python",
   "name": "python3"
  },
  "language_info": {
   "codemirror_mode": {
    "name": "ipython",
    "version": 3
   },
   "file_extension": ".py",
   "mimetype": "text/x-python",
   "name": "python",
   "nbconvert_exporter": "python",
   "pygments_lexer": "ipython3",
   "version": "3.10.10"
  },
  "orig_nbformat": 4
 },
 "nbformat": 4,
 "nbformat_minor": 2
}
