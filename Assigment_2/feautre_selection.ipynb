{
 "cells": [
  {
   "cell_type": "code",
   "execution_count": 1,
   "metadata": {},
   "outputs": [],
   "source": [
    "# Import necessary libraries\n",
    "import pandas as pd  # For data processing, CSV file I/O (e.g. pd.read_csv)\n",
    "from sklearn.ensemble import RandomForestClassifier  # For the random forest classifier\n",
    "from sklearn.model_selection import train_test_split  # To split the data into training and testing sets\n",
    "from sklearn.metrics import accuracy_score  # To measure the accuracy of the model\n"
   ]
  },
  {
   "cell_type": "code",
   "execution_count": 2,
   "metadata": {},
   "outputs": [],
   "source": [
    "# Define a function to encode Credit_Score variables into numerical values using a mapping dictionary.\n",
    "def custom_encoding(y):\n",
    "    \"\"\"\n",
    "    Encode Credit_Score variables into numerical values using a mapping dictionary.\n",
    "    \n",
    "    Parameters:\n",
    "    y (Series): A pandas Series containing the Credit_Score variables to be encoded.\n",
    "    \n",
    "    Returns:\n",
    "    Series: A new Series with encoded numerical values.\n",
    "    \"\"\"\n",
    "    mapping = {\n",
    "        \"Standard\": 1,\n",
    "        \"Good\": 2,\n",
    "        \"Poor\": 0,\n",
    "        \"Bad\": 0\n",
    "    }\n",
    "    y = y.map(mapping)\n",
    "    return y\n"
   ]
  },
  {
   "cell_type": "code",
   "execution_count": 3,
   "metadata": {},
   "outputs": [],
   "source": [
    "# Read the CSV file into a DataFrame\n",
    "df = pd.read_csv('credit_score_clean_extraction.csv')  # Read the CSV file\n",
    "\n",
    "# Remove the target variable and store the remaining columns in 'x'\n",
    "x = df.drop(['Credit_Score'], axis=1)  # Drop the target variable\n",
    "\n",
    "# Store all the column names in a variable 'columns'\n",
    "columns = x.columns\n",
    "\n",
    "# Encode the target variable using the 'custom_encoding' function\n",
    "y = custom_encoding(df[\"Credit_Score\"])  # Encode the target variable\n"
   ]
  },
  {
   "cell_type": "code",
   "execution_count": 4,
   "metadata": {},
   "outputs": [
    {
     "name": "stdout",
     "output_type": "stream",
     "text": [
      "Accuracy: 0.6869\n"
     ]
    }
   ],
   "source": [
    "# Define the list of selected features\n",
    "features = [\n",
    "    \"Outstanding_Debt\",\n",
    "    \"Credit_Mix\",\n",
    "    \"Credit_History_Age\",\n",
    "]\n",
    "\n",
    "# Select the feature matrix 'X' using the specified features\n",
    "X = x[features]\n",
    "\n",
    "# Split the data into training and testing sets with a test size of 20% and a random state of 42\n",
    "x_train, x_test, y_train, y_test = train_test_split(X, y, test_size=0.2, random_state=42)\n",
    "\n",
    "# Initialize a Random Forest Classifier with 100 estimators and a random state of 42\n",
    "rf = RandomForestClassifier(n_estimators=100, random_state=42)\n",
    "\n",
    "# Fit the model to the training data\n",
    "rf.fit(x_train, y_train)\n",
    "\n",
    "# Predict the target variable on the test set\n",
    "y_pred = rf.predict(x_test)\n",
    "\n",
    "# Print the accuracy score of the model\n",
    "print(\"Accuracy:\", accuracy_score(y_test, y_pred))\n",
    "\n",
    "# Store the accuracy score in a variable 'score'\n",
    "score = accuracy_score(y_test, y_pred)\n"
   ]
  },
  {
   "cell_type": "markdown",
   "metadata": {},
   "source": [
    "The code performs active feature selection using a nested loop. It iterates through all possible combinations of features and trains a random forest classifier on each combination. It selects the feature that improves the accuracy of the classifier the most and adds it to the list of selected features. The loop continues until all features have been added or until a feature does not improve the accuracy of the classifier. The code could be improved by using more efficient feature selection methods and classifiers."
   ]
  },
  {
   "cell_type": "code",
   "execution_count": 5,
   "metadata": {},
   "outputs": [],
   "source": [
    "# Iterate through all the features\n",
    "columns = x.columns\n",
    "for j in columns:\n",
    "    for i in columns:\n",
    "        if i not in features:  # Check if the feature is not in the current features list\n",
    "            # Create a new feature matrix by adding the current feature to the existing features\n",
    "            X = x[features + [i]]\n",
    "            \n",
    "            # Split the data into training and testing sets with a test size of 20% and a random state of 42\n",
    "            x_train, x_test, y_train, y_test = train_test_split(X, y, test_size=0.2, random_state=42)\n",
    "            \n",
    "            # Initialize a Random Forest Classifier with 100 estimators and a random state of 42\n",
    "            rf = RandomForestClassifier(n_estimators=100, random_state=42)\n",
    "            \n",
    "            # Fit the model to the training data\n",
    "            rf.fit(x_train, y_train)\n",
    "            \n",
    "            # Predict the target variable on the test set\n",
    "            y_pred = rf.predict(x_test)\n",
    "            \n",
    "            # Calculate the new accuracy score\n",
    "            new_score = accuracy_score(y_test, y_pred)\n",
    "            \n",
    "            # Compare the new score with the previous score\n",
    "            if new_score > score:\n",
    "                new_feature = i  # Store the new feature\n",
    "                score = new_score  # Update the score\n",
    "                \n",
    "    if new_feature in features:  # Check if the new feature is already in the features list\n",
    "        break\n",
    "    \n",
    "    features.append(new_feature)  # Append the new feature to the features list\n"
   ]
  },
  {
   "cell_type": "code",
   "execution_count": 7,
   "metadata": {},
   "outputs": [
    {
     "name": "stdout",
     "output_type": "stream",
     "text": [
      "Top features: ['Outstanding_Debt', 'Credit_Mix', 'Credit_History_Age', 'Amount_invested_monthly']\n"
     ]
    }
   ],
   "source": [
    "# Print the top features that have the most impact on model accuracy\n",
    "print(\"Top features:\", features)\n"
   ]
  }
 ],
 "metadata": {
  "kernelspec": {
   "display_name": ".venv",
   "language": "python",
   "name": "python3"
  },
  "language_info": {
   "codemirror_mode": {
    "name": "ipython",
    "version": 3
   },
   "file_extension": ".py",
   "mimetype": "text/x-python",
   "name": "python",
   "nbconvert_exporter": "python",
   "pygments_lexer": "ipython3",
   "version": "3.11.4"
  },
  "orig_nbformat": 4
 },
 "nbformat": 4,
 "nbformat_minor": 2
}
