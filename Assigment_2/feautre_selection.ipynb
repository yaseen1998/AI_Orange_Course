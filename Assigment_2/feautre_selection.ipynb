{
 "cells": [
  {
   "cell_type": "code",
   "execution_count": 1,
   "metadata": {},
   "outputs": [],
   "source": [
    "# import libraries\n",
    "import pandas as pd # data processing, CSV file I/O (e.g. pd.read_csv)\n",
    "from sklearn.ensemble import RandomForestClassifier # for random forest classifier\n",
    "from sklearn.model_selection import train_test_split # to split the data into two parts\n",
    "from sklearn.metrics import accuracy_score # to measure how good we are\n"
   ]
  },
  {
   "cell_type": "code",
   "execution_count": 2,
   "metadata": {},
   "outputs": [],
   "source": [
    "# encodes Credit_Score variables into numerical values using a mapping dictionary.\n",
    "def custom_encoding(y):\n",
    "    mapping = {\"Standard\":1,\"Good\":2,\"Poor\":0,\"Bad\":0}\n",
    "    y = y.map(mapping)\n",
    "    return y\n",
    "    "
   ]
  },
  {
   "cell_type": "code",
   "execution_count": 3,
   "metadata": {},
   "outputs": [],
   "source": [
    "df = pd.read_csv('credit_score_clean_extraction.csv') # read the csv file\n",
    "x = df.drop(['Credit_Score'],axis=1) # drop the target variable\n",
    "column = x.columns # store all the column names in a variable\n",
    "y = custom_encoding(df[\"Credit_Score\"]) # encode the target variable"
   ]
  },
  {
   "cell_type": "code",
   "execution_count": 13,
   "metadata": {},
   "outputs": [
    {
     "name": "stdout",
     "output_type": "stream",
     "text": [
      "Accuracy: 0.6869\n"
     ]
    }
   ],
   "source": [
    "features=[\n",
    "      \"Outstanding_Debt\",\n",
    "      \"Credit_Mix\",\n",
    "      \"Credit_History_Age\",\n",
    "    ]\n",
    "\n",
    "X = x[features] # store the feature matrix\n",
    "x_train,x_test,y_train,y_test = train_test_split(X,y,test_size=0.2,random_state=42) # split the data\n",
    "rf = RandomForestClassifier(n_estimators=100,random_state=42) # random forest classifier with n_estimators=100\n",
    "rf.fit(x_train,y_train) # fit the model\n",
    "y_pred = rf.predict(x_test) # predict on the test set\n",
    "print(\"Accuracy:\",accuracy_score(y_test,y_pred)) # print accuracy score\n",
    "score = accuracy_score(y_test,y_pred) # store accuracy score in a variable\n"
   ]
  },
  {
   "cell_type": "markdown",
   "metadata": {},
   "source": [
    "The code performs active feature selection using a nested loop. It iterates through all possible combinations of features and trains a random forest classifier on each combination. It selects the feature that improves the accuracy of the classifier the most and adds it to the list of selected features. The loop continues until all features have been added or until a feature does not improve the accuracy of the classifier. The code could be improved by using more efficient feature selection methods and classifiers."
   ]
  },
  {
   "cell_type": "code",
   "execution_count": null,
   "metadata": {},
   "outputs": [],
   "source": [
    "columns = x.columns\n",
    "for j in column: # iterate through all the features\n",
    "    for i in column: # iterate through all the features\n",
    "        if i not in features: # check if the feature is not in the features list\n",
    "            X = x[features+[i]] # store the feature matrix\n",
    "            x_train,x_test,y_train,y_test = train_test_split(X,y,test_size=0.2,random_state=42) # split the data\n",
    "            rf = RandomForestClassifier(n_estimators=100,random_state=42) # random forest classifier with n_estimators=100\n",
    "            rf.fit(x_train,y_train) # fit the model\n",
    "            y_pred = rf.predict(x_test) # predict on the test set\n",
    "            new_score = accuracy_score(y_test,y_pred) # get the new accuracy score\n",
    "            if new_score > score: # compare the new score with the previous score\n",
    "                new_feature = i # store the new feature\n",
    "                score = new_score # store the new score\n",
    "                \n",
    "    \n",
    "    if new_feature in features: # check if the new feature is in the features list\n",
    "        break\n",
    "    features.append(new_feature) # append the new feature to the features list\n",
    "    \n",
    "    \n",
    "            "
   ]
  },
  {
   "cell_type": "code",
   "execution_count": 16,
   "metadata": {},
   "outputs": [
    {
     "name": "stdout",
     "output_type": "stream",
     "text": [
      "Top features: ['Credit_Mix', 'Total_Financial_Obligations', 'Outstanding_Debt', 'Credit_History_Age', 'Interest_Loan_Interaction']\n"
     ]
    }
   ],
   "source": [
    "print(\"Top features:\",features) # print the top features"
   ]
  }
 ],
 "metadata": {
  "kernelspec": {
   "display_name": ".venv",
   "language": "python",
   "name": "python3"
  },
  "language_info": {
   "codemirror_mode": {
    "name": "ipython",
    "version": 3
   },
   "file_extension": ".py",
   "mimetype": "text/x-python",
   "name": "python",
   "nbconvert_exporter": "python",
   "pygments_lexer": "ipython3",
   "version": "3.10.10"
  },
  "orig_nbformat": 4
 },
 "nbformat": 4,
 "nbformat_minor": 2
}
