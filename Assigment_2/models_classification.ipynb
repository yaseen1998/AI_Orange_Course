{
 "cells": [
  {
   "cell_type": "code",
   "execution_count": 33,
   "metadata": {},
   "outputs": [],
   "source": [
    "# import libraries\n",
    "from sklearn.ensemble import ExtraTreesClassifier,GradientBoostingClassifier,HistGradientBoostingClassifier,RandomForestClassifier,VotingClassifier\n",
    "import pandas as pd\n",
    "from sklearn.model_selection import train_test_split,cross_val_predict\n",
    "from sklearn.metrics import accuracy_score, confusion_matrix, classification_report\n",
    "from sklearn.neighbors import KNeighborsClassifier\n",
    "from sklearn.tree import DecisionTreeClassifier\n",
    "import seaborn as sns\n",
    "import matplotlib.pyplot as plt\n",
    "from xgboost import XGBClassifier\n",
    "from catboost import CatBoostClassifier"
   ]
  },
  {
   "cell_type": "code",
   "execution_count": 34,
   "metadata": {},
   "outputs": [],
   "source": [
    "df = pd.read_csv('scaled_data.csv') # use os to store csv file\n",
    "# use os to store csv file\n",
    "\n",
    "x = df.drop(['Credit_Score'],axis=1) # drop target variable\n",
    "column = x.columns  # store column names\n",
    "y = df[\"Credit_Score\"] # target variable\n"
   ]
  },
  {
   "cell_type": "code",
   "execution_count": 35,
   "metadata": {},
   "outputs": [],
   "source": [
    "rf_model = RandomForestClassifier(n_estimators=100, random_state=42) # random forest model\n",
    "et_model = ExtraTreesClassifier(n_estimators=100, random_state=42) # extra tree model\n",
    "knn_model = KNeighborsClassifier(n_neighbors=3) # knn model\n",
    "des_tree = DecisionTreeClassifier(random_state=42) # decision tree model"
   ]
  },
  {
   "cell_type": "code",
   "execution_count": 13,
   "metadata": {},
   "outputs": [],
   "source": [
    "gb_model = GradientBoostingClassifier(n_estimators=100, random_state=42) # gradient boosting model\n",
    "hist_model = HistGradientBoostingClassifier(random_state=42) # histogram gradient boosting model\n"
   ]
  },
  {
   "cell_type": "code",
   "execution_count": 14,
   "metadata": {},
   "outputs": [],
   "source": [
    "cat_model = CatBoostClassifier(verbose=0, n_estimators=100) # catboost model\n",
    "xgb_model = XGBClassifier(n_estimators=100, random_state=42) # xgboost model"
   ]
  },
  {
   "cell_type": "code",
   "execution_count": 29,
   "metadata": {},
   "outputs": [],
   "source": [
    "x_train, x_test, y_train, y_test = train_test_split(x, y, test_size=0.2, random_state=42) # split data into train and test"
   ]
  },
  {
   "cell_type": "code",
   "execution_count": 16,
   "metadata": {},
   "outputs": [
    {
     "name": "stdout",
     "output_type": "stream",
     "text": [
      "Gradient Boosting Accuracy:  0.6772\n"
     ]
    }
   ],
   "source": [
    "gb_model.fit(x_train, y_train) # fit gradient boosting model\n",
    "print(\"Gradient Boosting Accuracy: \", accuracy_score(y_test, gb_model.predict(x_test))) # print accuracy score"
   ]
  },
  {
   "cell_type": "code",
   "execution_count": 17,
   "metadata": {},
   "outputs": [
    {
     "name": "stdout",
     "output_type": "stream",
     "text": [
      "Hist Gradient Boosting Accuracy:  0.72755\n"
     ]
    }
   ],
   "source": [
    "hist_model.fit(x_train, y_train) # fit histogram gradient boosting model\n",
    "print(\"Hist Gradient Boosting Accuracy: \", accuracy_score(y_test, hist_model.predict(x_test))) # print accuracy score"
   ]
  },
  {
   "cell_type": "code",
   "execution_count": 18,
   "metadata": {},
   "outputs": [
    {
     "name": "stdout",
     "output_type": "stream",
     "text": [
      "CatBoost Accuracy:  0.7017\n",
      "XGBoost Accuracy:  0.74705\n"
     ]
    }
   ],
   "source": [
    "cat_model.fit(x_train, y_train) # fit catboost model\n",
    "print(\"CatBoost Accuracy: \", accuracy_score(y_test, cat_model.predict(x_test))) # print accuracy score\n",
    "xgb_model.fit(x_train, y_train) # fit xgboost model\n",
    "print(\"XGBoost Accuracy: \", accuracy_score(y_test, xgb_model.predict(x_test))) # print accuracy score"
   ]
  },
  {
   "cell_type": "code",
   "execution_count": 36,
   "metadata": {},
   "outputs": [
    {
     "name": "stdout",
     "output_type": "stream",
     "text": [
      "Random Forest Accuracy:  0.82985\n",
      "Extra Trees Accuracy:  0.82985\n",
      "KNN Accuracy:  0.815\n",
      "Decision Tree Accuracy:  0.8113\n"
     ]
    }
   ],
   "source": [
    "rf_model.fit(x_train, y_train) # fit random forest model\n",
    "print(\"Random Forest Accuracy: \", accuracy_score(y_test, rf_model.predict(x_test))) # print accuracy score\n",
    "et_model.fit(x_train, y_train) # fit extra tree model\n",
    "print(\"Extra Trees Accuracy: \", accuracy_score(y_test, et_model.predict(x_test))) # print accuracy score\n",
    "knn_model.fit(x_train, y_train) # fit knn model\n",
    "print(\"KNN Accuracy: \", accuracy_score(y_test, knn_model.predict(x_test))) # print accuracy score\n",
    "des_tree.fit(x_train, y_train) # fit decision tree model\n",
    "print(\"Decision Tree Accuracy: \", accuracy_score(y_test, des_tree.predict(x_test))) # print accuracy score"
   ]
  },
  {
   "cell_type": "markdown",
   "metadata": {},
   "source": [
    "confusion matrix it is used to evaluate the performance of a classification model\n",
    "classification report it is used to measure the quality of predictions from a classification algorithm"
   ]
  },
  {
   "cell_type": "code",
   "execution_count": 18,
   "metadata": {},
   "outputs": [
    {
     "name": "stdout",
     "output_type": "stream",
     "text": [
      "Confusion Matrix: \n",
      " [[4875  996    3]\n",
      " [1015 8918  666]\n",
      " [   2  697 2828]]\n",
      "Classification Report: \n",
      "               precision    recall  f1-score   support\n",
      "\n",
      "           0       0.83      0.83      0.83      5874\n",
      "           1       0.84      0.84      0.84     10599\n",
      "           2       0.81      0.80      0.81      3527\n",
      "\n",
      "    accuracy                           0.83     20000\n",
      "   macro avg       0.83      0.82      0.82     20000\n",
      "weighted avg       0.83      0.83      0.83     20000\n",
      "\n",
      "Confusion Matrix: \n",
      " [[4875  997    2]\n",
      " [ 999 8939  661]\n",
      " [   2  726 2799]]\n",
      "Classification Report: \n",
      "               precision    recall  f1-score   support\n",
      "\n",
      "           0       0.83      0.83      0.83      5874\n",
      "           1       0.84      0.84      0.84     10599\n",
      "           2       0.81      0.79      0.80      3527\n",
      "\n",
      "    accuracy                           0.83     20000\n",
      "   macro avg       0.83      0.82      0.82     20000\n",
      "weighted avg       0.83      0.83      0.83     20000\n",
      "\n",
      "Confusion Matrix: \n",
      " [[5052  814    8]\n",
      " [1263 8507  829]\n",
      " [  16  646 2865]]\n",
      "Classification Report: \n",
      "               precision    recall  f1-score   support\n",
      "\n",
      "           0       0.80      0.86      0.83      5874\n",
      "           1       0.85      0.80      0.83     10599\n",
      "           2       0.77      0.81      0.79      3527\n",
      "\n",
      "    accuracy                           0.82     20000\n",
      "   macro avg       0.81      0.82      0.82     20000\n",
      "weighted avg       0.82      0.82      0.82     20000\n",
      "\n",
      "Confusion Matrix: \n",
      " [[4807 1056   11]\n",
      " [1058 8849  692]\n",
      " [   9  748 2770]]\n",
      "Classification Report: \n",
      "               precision    recall  f1-score   support\n",
      "\n",
      "           0       0.82      0.82      0.82      5874\n",
      "           1       0.83      0.83      0.83     10599\n",
      "           2       0.80      0.79      0.79      3527\n",
      "\n",
      "    accuracy                           0.82     20000\n",
      "   macro avg       0.82      0.81      0.81     20000\n",
      "weighted avg       0.82      0.82      0.82     20000\n",
      "\n"
     ]
    }
   ],
   "source": [
    "# confusion matrix\n",
    "print(\"Confusion Matrix: \\n\", confusion_matrix(y_test, rf_model.predict(x_test))) # print confusion matrix for random forest\n",
    "print(\"Classification Report: \\n\", classification_report(y_test, rf_model.predict(x_test))) # print classification report for random forest\n",
    "\n",
    "print(\"Confusion Matrix: \\n\", confusion_matrix(y_test, et_model.predict(x_test))) # print confusion matrix for extra tree\n",
    "print(\"Classification Report: \\n\", classification_report(y_test, et_model.predict(x_test))) # print classification report for extra tree\n",
    "\n",
    "print(\"Confusion Matrix: \\n\", confusion_matrix(y_test, knn_model.predict(x_test))) # print confusion matrix for knn\n",
    "print(\"Classification Report: \\n\", classification_report(y_test, knn_model.predict(x_test))) # print classification report for knn\n",
    "\n",
    "print(\"Confusion Matrix: \\n\", confusion_matrix(y_test, des_tree.predict(x_test))) # print confusion matrix for decision tree\n",
    "print(\"Classification Report: \\n\", classification_report(y_test, des_tree.predict(x_test)))  # print classification report for decision tree\n",
    "\n"
   ]
  },
  {
   "cell_type": "markdown",
   "metadata": {},
   "source": [
    "voting classifier with hard voting it will take the majority of votes from all the models"
   ]
  },
  {
   "cell_type": "code",
   "execution_count": 31,
   "metadata": {},
   "outputs": [
    {
     "name": "stdout",
     "output_type": "stream",
     "text": [
      "Ensemble Accuracy:  0.8346\n"
     ]
    }
   ],
   "source": [
    "ensemble_model = VotingClassifier(estimators=[ # ensemble model with voting classifier\n",
    "    ('Random Forest', rf_model), # Random Forest model\n",
    "    ('Extra Trees', et_model), # Extra Trees model\n",
    "    (\"Decision Tree\", des_tree), # Decision Tree model\n",
    "    (\"KNN\", knn_model) # KNN model\n",
    "], voting='hard',weights=[1,1,1,1])\n",
    "ensemble_model.fit(x_train, y_train) # fit ensemble model\n",
    "print(\"Ensemble Accuracy: \", accuracy_score(y_test, ensemble_model.predict(x_test))) # print accuracy score\n",
    "\n"
   ]
  },
  {
   "cell_type": "markdown",
   "metadata": {},
   "source": [
    "creates a bar plot that displays the accuracy of different machine learning models. It uses the scikit-learn library to calculate the accuracy scores and stores them in a pandas DataFrame. The seaborn library is used to create the bar plot, and the `annotate` method is used to add text to the plot. Finally, the plot is displayed using the `show` method from matplotlib."
   ]
  },
  {
   "cell_type": "code",
   "execution_count": 32,
   "metadata": {},
   "outputs": [
    {
     "data": {
      "image/png": "[encoded data removed]",
      "text/plain": [
       "<Figure size 1200x500 with 1 Axes>"
      ]
     },
     "metadata": {},
     "output_type": "display_data"
    }
   ],
   "source": [
    "\n",
    "res_plot = pd.DataFrame({\n",
    "    \"Random Forest\": [accuracy_score(y_test, rf_model.predict(x_test))],\n",
    "    \"Extra Trees\": [accuracy_score(y_test, et_model.predict(x_test))],\n",
    "    \"KNN\": [accuracy_score(y_test, knn_model.predict(x_test))],\n",
    "    \"Decision Tree\": [accuracy_score(y_test, des_tree.predict(x_test))],\n",
    "    'Ensemble': [accuracy_score(y_test, ensemble_model.predict(x_test))],\n",
    "    'Catboost': [accuracy_score(y_test, cat_model.predict(x_test))],\n",
    "    'Xgboost': [accuracy_score(y_test, xgb_model.predict(x_test))],\n",
    "    'Gradient': [accuracy_score(y_test, gb_model.predict(x_test))],\n",
    "    'Hist': [accuracy_score(y_test, hist_model.predict(x_test))],\n",
    "}, index=[\"Accuracy\"])\n",
    "plt.figure(figsize=(12, 5))\n",
    "sns.set_theme(style=\"darkgrid\")\n",
    "# add gap between bars\n",
    "sns.barplot(data=res_plot, palette=\"Blues_d\", linewidth=1, edgecolor=\"black\", saturation=1)\n",
    "# add text to barplot\n",
    "for p in plt.gca().patches:\n",
    "    plt.gca().annotate(\n",
    "        f\"{round((p.get_height()+.0001) * 100, 2)}%\",\n",
    "        (p.get_x() + p.get_width() / 2, p.get_height()),\n",
    "        ha=\"center\",\n",
    "        va=\"center\",\n",
    "        fontsize=12,\n",
    "        color=\"black\",\n",
    "        xytext=(0, 10),\n",
    "        textcoords=\"offset points\",\n",
    "    )\n",
    "plt.title(\"Accuracy of Different Models\")\n",
    "plt.show()"
   ]
  },
  {
   "cell_type": "code",
   "execution_count": 26,
   "metadata": {},
   "outputs": [
    {
     "name": "stdout",
     "output_type": "stream",
     "text": [
      "Random Forest Classifier Accuracy: 0.820825\n",
      "Extra Trees Classifier Accuracy: 0.8217\n",
      "KNN Classifier Accuracy: 0.812925\n",
      "Ensemble Model Accuracy: 0.8243875\n",
      "Decision Tree Accuracy: 0.80845\n"
     ]
    }
   ],
   "source": [
    "cross_val_rf = cross_val_predict(rf_model, x_train, y_train, cv=10) # cross validation for random forest\n",
    "cross_val_et = cross_val_predict(et_model, x_train, y_train, cv=10) # cross validation for extra tree\n",
    "cross_val_knn = cross_val_predict(knn_model, x_train, y_train, cv=10) # cross validation for knn\n",
    "cross_val_des = cross_val_predict(des_tree, x_train, y_train, cv=10) # cross validation for decision tree\n",
    "cross_val_ensemble = cross_val_predict(ensemble_model, x_train, y_train, cv=10) # cross validation for ensemble model\n",
    "\n",
    "print(f\"Random Forest Classifier Accuracy: {accuracy_score(y_train, cross_val_rf)}\") # print accuracy score for random forest\n",
    "print(f\"Extra Trees Classifier Accuracy: {accuracy_score(y_train, cross_val_et)}\") # print accuracy score for extra tree\n",
    "print(f\"KNN Classifier Accuracy: {accuracy_score(y_train, cross_val_knn)}\") # print accuracy score for knn\n",
    "print(f\"Ensemble Model Accuracy: {accuracy_score(y_train, cross_val_ensemble)}\") # print accuracy score for ensemble model\n",
    "print(f\"Decision Tree Accuracy: {accuracy_score(y_train, cross_val_des)}\") # print accuracy score for decision tree"
   ]
  },
  {
   "cell_type": "markdown",
   "metadata": {},
   "source": [
    "creates a bar plot that shows the accuracy of different machine learning models with cross-validation. It uses the scikit-learn library to calculate the accuracy scores and stores them in a pandas DataFrame. The seaborn library is used to create the bar plot, and the `annotate` method is used to add text to the plot. Finally, the plot is displayed using the `show` method from matplotlib."
   ]
  },
  {
   "cell_type": "code",
   "execution_count": 27,
   "metadata": {},
   "outputs": [
    {
     "data": {
      "image/png": "[encoded data removed]",
      "text/plain": [
       "<Figure size 640x480 with 1 Axes>"
      ]
     },
     "metadata": {},
     "output_type": "display_data"
    }
   ],
   "source": [
    "res_plot_vol = pd.DataFrame({\n",
    "    \"Random Forest\": [accuracy_score(y_train, cross_val_rf)],\n",
    "    \"Extra Trees\": [accuracy_score(y_train, cross_val_et)],\n",
    "    \"KNN\": [accuracy_score(y_train, cross_val_knn)],\n",
    "    \"Decision Tree\": [accuracy_score(y_train, cross_val_des)],\n",
    "    \"Ensemble\": [accuracy_score(y_train, cross_val_ensemble)]\n",
    "})\n",
    "sns.set_theme(style=\"darkgrid\")\n",
    "sns.barplot(data=res_plot_vol, palette=\"Blues_d\", linewidth=1, edgecolor=\"black\", saturation=1)\n",
    "# add text to barplot\n",
    "for p in plt.gca().patches:\n",
    "    plt.gca().annotate(\n",
    "        f\"{round(p.get_height() * 100, 2)}%\",\n",
    "        (p.get_x() + p.get_width() / 2, p.get_height()),\n",
    "        ha=\"center\",\n",
    "        va=\"center\",\n",
    "        fontsize=12,\n",
    "        color=\"black\",\n",
    "        xytext=(0, 10),\n",
    "        textcoords=\"offset points\",\n",
    "    )\n",
    "plt.title(\"Accuracy of Different Models with Cross Validation\")\n",
    "plt.show()"
   ]
  }
 ],
 "metadata": {
  "kernelspec": {
   "display_name": ".venv",
   "language": "python",
   "name": "python3"
  },
  "language_info": {
   "codemirror_mode": {
    "name": "ipython",
    "version": 3
   },
   "file_extension": ".py",
   "mimetype": "text/x-python",
   "name": "python",
   "nbconvert_exporter": "python",
   "pygments_lexer": "ipython3",
   "version": "3.10.10"
  },
  "orig_nbformat": 4
 },
 "nbformat": 4,
 "nbformat_minor": 2
}
