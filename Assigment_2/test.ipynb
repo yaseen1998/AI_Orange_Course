{
 "cells": [
  {
   "cell_type": "code",
   "execution_count": 2,
   "metadata": {},
   "outputs": [
    {
     "name": "stdout",
     "output_type": "stream",
     "text": [
      "       Personal Loan  Home Equity Loan  Payday Loan  Debt Consolidation Loan  \\\n",
      "0               True              True        False                    False   \n",
      "1               True              True        False                    False   \n",
      "2               True              True        False                    False   \n",
      "3               True              True        False                    False   \n",
      "4               True              True        False                    False   \n",
      "...              ...               ...          ...                      ...   \n",
      "99995          False             False        False                    False   \n",
      "99996          False             False        False                    False   \n",
      "99997          False             False        False                    False   \n",
      "99998          False             False        False                    False   \n",
      "99999          False             False        False                    False   \n",
      "\n",
      "       Mortgage Loan  Auto Loan  Student Loan  Not Specified  \\\n",
      "0              False       True         False          False   \n",
      "1              False       True         False          False   \n",
      "2              False       True         False          False   \n",
      "3              False       True         False          False   \n",
      "4              False       True         False          False   \n",
      "...              ...        ...           ...            ...   \n",
      "99995          False       True          True          False   \n",
      "99996          False       True          True          False   \n",
      "99997          False       True          True          False   \n",
      "99998          False       True          True          False   \n",
      "99999          False       True          True          False   \n",
      "\n",
      "       Credit-Builder Loan                                          Loan_Type  \n",
      "0                     True  Personal Loan, Home Equity Loan, Auto Loan, Cr...  \n",
      "1                     True  Personal Loan, Home Equity Loan, Auto Loan, Cr...  \n",
      "2                     True  Personal Loan, Home Equity Loan, Auto Loan, Cr...  \n",
      "3                     True  Personal Loan, Home Equity Loan, Auto Loan, Cr...  \n",
      "4                     True  Personal Loan, Home Equity Loan, Auto Loan, Cr...  \n",
      "...                    ...                                                ...  \n",
      "99995                False                            Auto Loan, Student Loan  \n",
      "99996                False                            Auto Loan, Student Loan  \n",
      "99997                False                            Auto Loan, Student Loan  \n",
      "99998                False                            Auto Loan, Student Loan  \n",
      "99999                False                            Auto Loan, Student Loan  \n",
      "\n",
      "[100000 rows x 10 columns]\n"
     ]
    },
    {
     "name": "stderr",
     "output_type": "stream",
     "text": [
      "/var/folders/34/_2zdrybn1lj85gxn2k84gfnh0000gn/T/ipykernel_27628/2874273612.py:29: SettingWithCopyWarning: \n",
      "A value is trying to be set on a copy of a slice from a DataFrame.\n",
      "Try using .loc[row_indexer,col_indexer] = value instead\n",
      "\n",
      "See the caveats in the documentation: https://pandas.pydata.org/pandas-docs/stable/user_guide/indexing.html#returning-a-view-versus-a-copy\n",
      "  x['Loan_Type'] = x.apply(identify_loan_type, axis=1)\n"
     ]
    }
   ],
   "source": [
    "import pandas as pd\n",
    "\n",
    "# Sample DataFrame with loan type columns\n",
    "data = {'Loan_A': [True, False, True, False],\n",
    "        'Loan_B': [False, True, True, False],\n",
    "        'Loan_C': [False, False, False, True]}\n",
    "\n",
    "df = pd.read_csv('../csv/credit_score_clean_extraction.csv')\n",
    "features = ['Personal Loan', 'Home Equity Loan', 'Payday Loan', 'Debt Consolidation Loan', 'Mortgage Loan', 'Auto Loan', 'Student Loan', 'Not Specified', 'Credit-Builder Loan']\n",
    "x = df[features]\n",
    "# Define a custom function to identify the loan type\n",
    "def identify_loan_type(row):\n",
    "    # Initialize an empty list to store loan types\n",
    "    loan_types = []\n",
    "    \n",
    "    # Loop through columns to find which loan types are True\n",
    "    for column in row.index:\n",
    "        if row[column]:\n",
    "            loan_types.append(column)\n",
    "    \n",
    "    # If loan types are found, concatenate them with ',' as a separator\n",
    "    if loan_types:\n",
    "        return ', '.join(loan_types)\n",
    "    \n",
    "    # If none of the loan types are True, return 'No Loan'\n",
    "    return 'No Loan'\n",
    "\n",
    "# Apply the custom function to create a new 'Loan_Type' column\n",
    "x['Loan_Type'] = x.apply(identify_loan_type, axis=1)\n",
    "\n",
    "# Print the resulting DataFrame\n",
    "print(x)\n",
    "\n",
    "\n",
    "\n"
   ]
  },
  {
   "cell_type": "code",
   "execution_count": 4,
   "metadata": {},
   "outputs": [
    {
     "name": "stderr",
     "output_type": "stream",
     "text": [
      "/var/folders/34/_2zdrybn1lj85gxn2k84gfnh0000gn/T/ipykernel_27628/3677530734.py:6: SettingWithCopyWarning: \n",
      "A value is trying to be set on a copy of a slice from a DataFrame.\n",
      "Try using .loc[row_indexer,col_indexer] = value instead\n",
      "\n",
      "See the caveats in the documentation: https://pandas.pydata.org/pandas-docs/stable/user_guide/indexing.html#returning-a-view-versus-a-copy\n",
      "  x['Loan_Type'] = le.transform(x['Loan_Type'])\n"
     ]
    },
    {
     "name": "stdout",
     "output_type": "stream",
     "text": [
      "Loan_Type\n",
      "169    4071\n",
      "185    3246\n",
      "41     2769\n",
      "251    2719\n",
      "503    2621\n",
      "       ... \n",
      "399      16\n",
      "129      16\n",
      "126      16\n",
      "384       8\n",
      "459       8\n",
      "Name: count, Length: 507, dtype: int64\n"
     ]
    }
   ],
   "source": [
    "# label encoding\n",
    "from sklearn.preprocessing import LabelEncoder\n",
    "# with how much this is used, it should be a function\n",
    "le = LabelEncoder()\n",
    "le.fit(x['Loan_Type'])\n",
    "x['Loan_Type'] = le.transform(x['Loan_Type'])\n",
    "print(x['Loan_Type'].value_counts())\n",
    "\n",
    "df_2 = pd.read_csv('../csv/scale_Robust.csv')\n",
    "df_2['Loan_Type'] = x['Loan_Type']\n",
    "df_2.to_csv('../csv/scale_Robust.csv', index=False)\n"
   ]
  },
  {
   "cell_type": "code",
   "execution_count": 5,
   "metadata": {},
   "outputs": [
    {
     "name": "stdout",
     "output_type": "stream",
     "text": [
      "Month\n",
      "1    12500\n",
      "2    12500\n",
      "3    12500\n",
      "4    12500\n",
      "5    12500\n",
      "6    12500\n",
      "7    12500\n",
      "8    12500\n",
      "Name: count, dtype: int64\n"
     ]
    }
   ],
   "source": [
    "df = pd.read_csv('../csv/NM.csv')\n",
    "print(df['Month'].value_counts())"
   ]
  }
 ],
 "metadata": {
  "kernelspec": {
   "display_name": ".venv",
   "language": "python",
   "name": "python3"
  },
  "language_info": {
   "codemirror_mode": {
    "name": "ipython",
    "version": 3
   },
   "file_extension": ".py",
   "mimetype": "text/x-python",
   "name": "python",
   "nbconvert_exporter": "python",
   "pygments_lexer": "ipython3",
   "version": "3.10.10"
  },
  "orig_nbformat": 4
 },
 "nbformat": 4,
 "nbformat_minor": 2
}
