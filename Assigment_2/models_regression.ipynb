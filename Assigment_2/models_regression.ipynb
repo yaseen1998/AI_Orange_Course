{
 "cells": [
  {
   "cell_type": "code",
   "execution_count": 15,
   "metadata": {},
   "outputs": [],
   "source": [
    "# import SVC\n",
    "from sklearn.svm import SVC\n",
    "# import KNN \n",
    "from sklearn.neighbors import KNeighborsClassifier\n",
    "# import MultinomialNB\n",
    "from sklearn.naive_bayes import MultinomialNB\n",
    "# import train_test_split\n",
    "from sklearn.model_selection import train_test_split\n",
    "\n",
    "import matplotlib.pyplot as plt\n",
    "import seaborn as sns\n",
    "import pandas as pd\n",
    "import json"
   ]
  },
  {
   "cell_type": "code",
   "execution_count": 30,
   "metadata": {},
   "outputs": [],
   "source": [
    "df = pd.read_csv('../csv/scale_min_sklearn.csv')"
   ]
  },
  {
   "cell_type": "code",
   "execution_count": 21,
   "metadata": {},
   "outputs": [],
   "source": [
    "def ApplyModel(x_train, x_test, y_train, y_test,res):\n",
    "    svc_model = SVC()\n",
    "    svc_model.fit(x_train, y_train)\n",
    "    svc_score = svc_model.score(x_test, y_test)\n",
    "    res['SVC'] = svc_score\n",
    "    print(\"SVC Score: \", svc_score)\n",
    "    knn = KNeighborsClassifier(n_neighbors=3)\n",
    "    knn.fit(x_train, y_train)\n",
    "    knn_score = knn.score(x_test, y_test)\n",
    "    res['KNN'] = knn_score\n",
    "    print(\"KNN Score: \", knn_score)"
   ]
  },
  {
   "cell_type": "code",
   "execution_count": 31,
   "metadata": {},
   "outputs": [
    {
     "name": "stdout",
     "output_type": "stream",
     "text": [
      "SVC Score:  0.68455\n",
      "KNN Score:  0.79475\n",
      "SVC Score:  0.6918\n",
      "KNN Score:  0.79285\n",
      "SVC Score:  0.6933\n",
      "KNN Score:  0.77475\n",
      "SVC Score:  0.6909\n",
      "KNN Score:  0.64505\n"
     ]
    }
   ],
   "source": [
    "path =\"feature_selected_2.json\"\n",
    "loads = json.loads(open(path).read()) \n",
    "common = {}\n",
    "common['common'] = loads['common']\n",
    "common['common_1'] = loads['common_1']\n",
    "common['common_2'] = loads['common_2']\n",
    "common['common_3'] = loads['common_3']\n",
    "y = df['Credit_Score']\n",
    "res = {}\n",
    "for co in common:\n",
    "    features = common[co]\n",
    "    res[co] = {}\n",
    "    X = df[features]\n",
    "    x_train, x_test, y_train, y_test = train_test_split(X, y, test_size=0.2, random_state=42)\n",
    "    ApplyModel(x_train, x_test, y_train, y_test,res[co])\n",
    "\n"
   ]
  },
  {
   "cell_type": "code",
   "execution_count": 32,
   "metadata": {},
   "outputs": [
    {
     "name": "stdout",
     "output_type": "stream",
     "text": [
      "{'common': {'SVC': 0.68455, 'KNN': 0.79475}, 'common_1': {'SVC': 0.6918, 'KNN': 0.79285}, 'common_2': {'SVC': 0.6933, 'KNN': 0.77475}, 'common_3': {'SVC': 0.6909, 'KNN': 0.64505}}\n"
     ]
    }
   ],
   "source": [
    "print(res)"
   ]
  }
 ],
 "metadata": {
  "kernelspec": {
   "display_name": ".venv",
   "language": "python",
   "name": "python3"
  },
  "language_info": {
   "codemirror_mode": {
    "name": "ipython",
    "version": 3
   },
   "file_extension": ".py",
   "mimetype": "text/x-python",
   "name": "python",
   "nbconvert_exporter": "python",
   "pygments_lexer": "ipython3",
   "version": "3.10.10"
  },
  "orig_nbformat": 4
 },
 "nbformat": 4,
 "nbformat_minor": 2
}
