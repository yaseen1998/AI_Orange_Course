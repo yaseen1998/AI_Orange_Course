{
 "cells": [
  {
   "cell_type": "code",
   "execution_count": 1,
   "metadata": {},
   "outputs": [],
   "source": [
    "# import SVC\n",
    "from pycaret.classification import *\n",
    "\n",
    "import numpy as np\n",
    "\n",
    "from sklearn.metrics import accuracy_score\n",
    "\n",
    "# import train_test_split\n",
    "from sklearn.model_selection import train_test_split,cross_val_predict\n",
    "# import random forest\n",
    "from sklearn.ensemble import RandomForestClassifier, ExtraTreesClassifier, VotingClassifier,StackingClassifier,BaggingClassifier,AdaBoostClassifier,GradientBoostingClassifier,HistGradientBoostingClassifier,RandomTreesEmbedding\n",
    "from sklearn.neighbors import KNeighborsClassifier\n",
    "# import Decision Tree\n",
    "from sklearn.tree import DecisionTreeClassifier\n",
    "import pandas as pd\n",
    "from imblearn.over_sampling import SMOTE\n",
    "import matplotlib.pyplot as plt\n",
    "import seaborn as sns\n",
    "# import standard scaler\n",
    "from sklearn.preprocessing import StandardScaler"
   ]
  },
  {
   "cell_type": "code",
   "execution_count": 2,
   "metadata": {},
   "outputs": [],
   "source": [
    "def custom_encoding(y):\n",
    "    mapping = {\"Standard\":1,\"Good\":2,\"Poor\":0,\"Bad\":0,'NM':0,\"No\":1,\"Yes\":2}\n",
    "    y = y.map(mapping)\n",
    "    return y"
   ]
  },
  {
   "cell_type": "code",
   "execution_count": 3,
   "metadata": {},
   "outputs": [
    {
     "name": "stdout",
     "output_type": "stream",
     "text": [
      "0    2\n",
      "1    2\n",
      "2    2\n",
      "3    2\n",
      "4    2\n",
      "Name: Credit_Score, dtype: int64\n",
      "                 Age  Annual_Income  Monthly_Inhand_Salary  Num_Bank_Accounts  \\\n",
      "count  100000.000000  100000.000000          100000.000000      100000.000000   \n",
      "mean       33.316340   50505.123449            4197.270835           5.368820   \n",
      "std        10.764812   38299.422093            3186.432497           2.593314   \n",
      "min        14.000000    7005.930000             303.645417           0.000000   \n",
      "25%        24.000000   19342.972500            1626.594167           3.000000   \n",
      "50%        33.000000   36999.705000            3095.905000           5.000000   \n",
      "75%        42.000000   71683.470000            5957.715000           7.000000   \n",
      "max        56.000000  179987.280000           15204.633333          11.000000   \n",
      "\n",
      "       Num_Credit_Card  Interest_Rate    Num_of_Loan  Delay_from_due_date  \\\n",
      "count    100000.000000   100000.00000  100000.000000         100000.00000   \n",
      "mean          5.533570       14.53208       3.532880             21.08141   \n",
      "std           2.067098        8.74133       2.446356             14.80456   \n",
      "min           0.000000        1.00000       0.000000              0.00000   \n",
      "25%           4.000000        7.00000       2.000000             10.00000   \n",
      "50%           5.000000       13.00000       3.000000             18.00000   \n",
      "75%           7.000000       20.00000       5.000000             28.00000   \n",
      "max          11.000000       34.00000       9.000000             62.00000   \n",
      "\n",
      "       Num_of_Delayed_Payment  Changed_Credit_Limit  ...  Monthly_Balance  \\\n",
      "count           100000.000000         100000.000000  ...    100000.000000   \n",
      "mean                13.313120             10.470323  ...       392.697586   \n",
      "std                  6.237166              6.609481  ...       201.652719   \n",
      "min                  0.000000              0.500000  ...         0.007760   \n",
      "25%                  9.000000              5.380000  ...       267.615983   \n",
      "50%                 14.000000              9.400000  ...       333.865366   \n",
      "75%                 18.000000             14.850000  ...       463.215683   \n",
      "max                 25.000000             29.980000  ...      1183.930696   \n",
      "\n",
      "       Type_of_Loan  Debt_to_Income_Ratio  EMI_to_Income_Ratio  \\\n",
      "count  100000.00000         100000.000000        100000.000000   \n",
      "mean      211.35634              0.062220             0.029797   \n",
      "std       151.74002              0.095064             0.031453   \n",
      "min         0.00000              0.000003             0.000000   \n",
      "25%        79.00000              0.009574             0.012129   \n",
      "50%       187.00000              0.028298             0.024409   \n",
      "75%       308.00000              0.070109             0.040346   \n",
      "max       506.00000              1.063535             1.979212   \n",
      "\n",
      "       Investment_to_Income_Ratio  Loan_to_Income_Ratio  \\\n",
      "count               100000.000000         100000.000000   \n",
      "mean                     0.015598              0.062220   \n",
      "std                      0.008404              0.095064   \n",
      "min                      0.000000              0.000003   \n",
      "25%                      0.009952              0.009574   \n",
      "50%                      0.013347              0.028298   \n",
      "75%                      0.019098              0.070109   \n",
      "max                      0.065474              1.063535   \n",
      "\n",
      "       Total_Financial_Obligations  Credit_Utilization  Net_Monthly_Savings  \\\n",
      "count                100000.000000       100000.000000        100000.000000   \n",
      "mean                    162.800523          228.728507          4034.470312   \n",
      "std                     150.420196          400.499727          3101.566487   \n",
      "min                       0.000000            0.021642          -874.081193   \n",
      "25%                      66.562591           67.547222          1548.274694   \n",
      "50%                     114.876513          129.377156          2971.296841   \n",
      "75%                     216.987445          219.399504          5711.478598   \n",
      "max                    2062.290275         9461.500000         14898.010717   \n",
      "\n",
      "       Interest_Loan_Interaction  \n",
      "count              100000.000000  \n",
      "mean                   63.297200  \n",
      "std                    68.847028  \n",
      "min                     0.000000  \n",
      "25%                    12.000000  \n",
      "50%                    36.000000  \n",
      "75%                   100.000000  \n",
      "max                   306.000000  \n",
      "\n",
      "[8 rows x 28 columns]\n"
     ]
    }
   ],
   "source": [
    "df = pd.read_csv('../csv/credit_score_clean_extraction.csv')\n",
    "# use os to store csv file\n",
    "\n",
    "x = df.drop(['Credit_Score'],axis=1)\n",
    "column = x.columns\n",
    "y = custom_encoding(df[\"Credit_Score\"])\n",
    "print(y.head())\n",
    "print(df.describe())"
   ]
  },
  {
   "cell_type": "code",
   "execution_count": 4,
   "metadata": {},
   "outputs": [],
   "source": [
    "def out_liar(column_data):\n",
    "    Q1 = column_data.quantile(0.25)\n",
    "    Q3 = column_data.quantile(0.75)\n",
    "    IQR = Q3 - Q1\n",
    "    lowerBand = Q1 - 1.5 * IQR\n",
    "    upperBand = Q3 + 1.5 * IQR\n",
    "    # number of outlier in column\n",
    "    print(column_data[column_data > upperBand].count() + column_data[column_data < lowerBand].count())\n",
    "    \n",
    "    # convert any outlier value to upper or lower bound\n",
    "    column_data = column_data.apply(lambda x: upperBand if x > upperBand else lowerBand if x < lowerBand else x)\n",
    "    return column_data\n",
    "\n",
    "   \n"
   ]
  },
  {
   "cell_type": "code",
   "execution_count": 5,
   "metadata": {},
   "outputs": [
    {
     "name": "stdout",
     "output_type": "stream",
     "text": [
      "5272\n",
      "2221\n"
     ]
    }
   ],
   "source": [
    "features=[\n",
    "    \"Outstanding_Debt\",\n",
    "    \"Net_Monthly_Savings\",\n",
    "]   \n",
    "for feature in features:\n",
    "    x[feature] = out_liar(x[feature])\n",
    "    \n",
    "\n"
   ]
  },
  {
   "cell_type": "code",
   "execution_count": 10,
   "metadata": {},
   "outputs": [
    {
     "name": "stdout",
     "output_type": "stream",
     "text": [
      "       Outstanding_Debt  Net_Monthly_Savings\n",
      "count     100000.000000        100000.000000\n",
      "mean        1399.859920          4004.212918\n",
      "std         1086.193704          3013.910963\n",
      "min            0.230000          -874.081193\n",
      "25%          566.072500          1548.274694\n",
      "50%         1166.155000          2971.296841\n",
      "75%         1945.962500          5711.478598\n",
      "max         4015.797500         11956.284455\n"
     ]
    }
   ],
   "source": [
    "print(x[features].describe())"
   ]
  },
  {
   "cell_type": "code",
   "execution_count": 6,
   "metadata": {},
   "outputs": [],
   "source": [
    "features=[\n",
    "    \"Interest_Rate\",\n",
    "    \"Credit_History_Age\",\n",
    "    \"Credit_Mix\",\n",
    "    'Type_of_Loan',\n",
    "    \"Interest_Loan_Interaction\",\n",
    "    \"Num_Credit_Card\",\n",
    "    \"Outstanding_Debt\",\n",
    "    \"Net_Monthly_Savings\",\n",
    "]\n",
    "\n",
    "\n",
    "scaler = StandardScaler()\n",
    "X = x[features]\n",
    "scaled_data = scaler.fit_transform(X)\n",
    "\n",
    "x_train, x_test, y_train, y_test = train_test_split(scaled_data, y, test_size=0.2, random_state=42)"
   ]
  },
  {
   "cell_type": "code",
   "execution_count": null,
   "metadata": {},
   "outputs": [],
   "source": []
  },
  {
   "cell_type": "code",
   "execution_count": 28,
   "metadata": {},
   "outputs": [
    {
     "name": "stdout",
     "output_type": "stream",
     "text": [
      "[ 4.  5.  1.  7.  6.  8.  3.  9.  2. 10. 11.  0.]\n"
     ]
    }
   ],
   "source": [
    "features=[\n",
    "    \"Num_Credit_Card\",\n",
    "    \"Outstanding_Debt\",\n",
    "    \"Net_Monthly_Savings\",\n",
    "]\n",
    "for feature in features:\n",
    "    # check if all data in integer\n",
    "    print(x[feature].unique())"
   ]
  },
  {
   "cell_type": "code",
   "execution_count": 29,
   "metadata": {},
   "outputs": [
    {
     "name": "stdout",
     "output_type": "stream",
     "text": [
      "{'Num_Credit_Card': 4.0}\n",
      "[ 0.62552806  0.79032271 -1.45471355  1.24320929  0.53310919  1.19319058\n",
      "  0.55342163  1.98938095]\n"
     ]
    }
   ],
   "source": [
    "first_index = x[features].loc[0]\n",
    "dict_first_index = first_index.to_dict()\n",
    "input_user = {'Interest_Rate': 20, 'Credit_History_Age': 300.0, 'Credit_Mix': 0.0, 'Type_of_Loan': 400.0, 'Interest_Loan_Interaction': 100.0, 'Num_Credit_Card': 8.0, 'Outstanding_Debt': 2000.98, 'Net_Monthly_Savings': 10000}\n",
    "print(dict_first_index)\n",
    "data_frame = pd.DataFrame(input_user,index=[0])\n",
    "scaled_data_first = scaler.transform(data_frame)\n",
    "print(scaled_data_first[0])"
   ]
  },
  {
   "cell_type": "code",
   "execution_count": 14,
   "metadata": {},
   "outputs": [],
   "source": [
    "def ApplyModel(x_train, x_test, y_train, y_test):\n",
    "    random_forest = RandomForestClassifier(n_estimators=200, max_depth=100)\n",
    "    random_forest.fit(x_train, y_train)\n",
    "    y_pred = random_forest.predict(x_test)\n",
    "    print(\"Random Forest Accuracy: \", accuracy_score(y_test, y_pred))"
   ]
  },
  {
   "cell_type": "code",
   "execution_count": 15,
   "metadata": {},
   "outputs": [
    {
     "data": {
      "text/html": [
       "<style>#sk-container-id-1 {color: black;background-color: white;}#sk-container-id-1 pre{padding: 0;}#sk-container-id-1 div.sk-toggleable {background-color: white;}#sk-container-id-1 label.sk-toggleable__label {cursor: pointer;display: block;width: 100%;margin-bottom: 0;padding: 0.3em;box-sizing: border-box;text-align: center;}#sk-container-id-1 label.sk-toggleable__label-arrow:before {content: \"▸\";float: left;margin-right: 0.25em;color: #696969;}#sk-container-id-1 label.sk-toggleable__label-arrow:hover:before {color: black;}#sk-container-id-1 div.sk-estimator:hover label.sk-toggleable__label-arrow:before {color: black;}#sk-container-id-1 div.sk-toggleable__content {max-height: 0;max-width: 0;overflow: hidden;text-align: left;background-color: #f0f8ff;}#sk-container-id-1 div.sk-toggleable__content pre {margin: 0.2em;color: black;border-radius: 0.25em;background-color: #f0f8ff;}#sk-container-id-1 input.sk-toggleable__control:checked~div.sk-toggleable__content {max-height: 200px;max-width: 100%;overflow: auto;}#sk-container-id-1 input.sk-toggleable__control:checked~label.sk-toggleable__label-arrow:before {content: \"▾\";}#sk-container-id-1 div.sk-estimator input.sk-toggleable__control:checked~label.sk-toggleable__label {background-color: #d4ebff;}#sk-container-id-1 div.sk-label input.sk-toggleable__control:checked~label.sk-toggleable__label {background-color: #d4ebff;}#sk-container-id-1 input.sk-hidden--visually {border: 0;clip: rect(1px 1px 1px 1px);clip: rect(1px, 1px, 1px, 1px);height: 1px;margin: -1px;overflow: hidden;padding: 0;position: absolute;width: 1px;}#sk-container-id-1 div.sk-estimator {font-family: monospace;background-color: #f0f8ff;border: 1px dotted black;border-radius: 0.25em;box-sizing: border-box;margin-bottom: 0.5em;}#sk-container-id-1 div.sk-estimator:hover {background-color: #d4ebff;}#sk-container-id-1 div.sk-parallel-item::after {content: \"\";width: 100%;border-bottom: 1px solid gray;flex-grow: 1;}#sk-container-id-1 div.sk-label:hover label.sk-toggleable__label {background-color: #d4ebff;}#sk-container-id-1 div.sk-serial::before {content: \"\";position: absolute;border-left: 1px solid gray;box-sizing: border-box;top: 0;bottom: 0;left: 50%;z-index: 0;}#sk-container-id-1 div.sk-serial {display: flex;flex-direction: column;align-items: center;background-color: white;padding-right: 0.2em;padding-left: 0.2em;position: relative;}#sk-container-id-1 div.sk-item {position: relative;z-index: 1;}#sk-container-id-1 div.sk-parallel {display: flex;align-items: stretch;justify-content: center;background-color: white;position: relative;}#sk-container-id-1 div.sk-item::before, #sk-container-id-1 div.sk-parallel-item::before {content: \"\";position: absolute;border-left: 1px solid gray;box-sizing: border-box;top: 0;bottom: 0;left: 50%;z-index: -1;}#sk-container-id-1 div.sk-parallel-item {display: flex;flex-direction: column;z-index: 1;position: relative;background-color: white;}#sk-container-id-1 div.sk-parallel-item:first-child::after {align-self: flex-end;width: 50%;}#sk-container-id-1 div.sk-parallel-item:last-child::after {align-self: flex-start;width: 50%;}#sk-container-id-1 div.sk-parallel-item:only-child::after {width: 0;}#sk-container-id-1 div.sk-dashed-wrapped {border: 1px dashed gray;margin: 0 0.4em 0.5em 0.4em;box-sizing: border-box;padding-bottom: 0.4em;background-color: white;}#sk-container-id-1 div.sk-label label {font-family: monospace;font-weight: bold;display: inline-block;line-height: 1.2em;}#sk-container-id-1 div.sk-label-container {text-align: center;}#sk-container-id-1 div.sk-container {/* jupyter's `normalize.less` sets `[hidden] { display: none; }` but bootstrap.min.css set `[hidden] { display: none !important; }` so we also need the `!important` here to be able to override the default hidden behavior on the sphinx rendered scikit-learn.org. See: https://github.com/scikit-learn/scikit-learn/issues/21755 */display: inline-block !important;position: relative;}#sk-container-id-1 div.sk-text-repr-fallback {display: none;}</style><div id=\"sk-container-id-1\" class=\"sk-top-container\"><div class=\"sk-text-repr-fallback\"><pre>RandomForestClassifier(max_depth=100, n_estimators=200)</pre><b>In a Jupyter environment, please rerun this cell to show the HTML representation or trust the notebook. <br />On GitHub, the HTML representation is unable to render, please try loading this page with nbviewer.org.</b></div><div class=\"sk-container\" hidden><div class=\"sk-item\"><div class=\"sk-estimator sk-toggleable\"><input class=\"sk-toggleable__control sk-hidden--visually\" id=\"sk-estimator-id-1\" type=\"checkbox\" checked><label for=\"sk-estimator-id-1\" class=\"sk-toggleable__label sk-toggleable__label-arrow\">RandomForestClassifier</label><div class=\"sk-toggleable__content\"><pre>RandomForestClassifier(max_depth=100, n_estimators=200)</pre></div></div></div></div></div>"
      ],
      "text/plain": [
       "RandomForestClassifier(max_depth=100, n_estimators=200)"
      ]
     },
     "execution_count": 15,
     "metadata": {},
     "output_type": "execute_result"
    }
   ],
   "source": [
    "random_forest = RandomForestClassifier(n_estimators=200, max_depth=100)\n",
    "random_forest.fit(x_train, y_train)\n"
   ]
  },
  {
   "cell_type": "code",
   "execution_count": 30,
   "metadata": {},
   "outputs": [
    {
     "name": "stdout",
     "output_type": "stream",
     "text": [
      "[[ 0.62552806  0.79032271 -1.45471355  1.24320929  0.53310919  1.19319058\n",
      "   0.55342163  1.98938095]]\n",
      "[0]\n"
     ]
    }
   ],
   "source": [
    "print(scaled_data_first)\n",
    "y_predict = random_forest.predict(scaled_data_first)\n",
    "print(y_predict)"
   ]
  },
  {
   "cell_type": "code",
   "execution_count": 17,
   "metadata": {},
   "outputs": [
    {
     "name": "stdout",
     "output_type": "stream",
     "text": [
      "Random Forest Accuracy:  0.832\n"
     ]
    }
   ],
   "source": [
    "ApplyModel(x_train, x_test, y_train, y_test)"
   ]
  },
  {
   "cell_type": "code",
   "execution_count": 7,
   "metadata": {},
   "outputs": [],
   "source": [
    "sm = SMOTE(k_neighbors=5)\n",
    "x_train_sm,y_train_sm=sm.fit_resample(x_train,y_train)\n",
    "rf_model = RandomForestClassifier(n_estimators=100, random_state=42)\n",
    "et_model = ExtraTreesClassifier(n_estimators=100, random_state=42)\n",
    "knn_model = KNeighborsClassifier(n_neighbors=5)\n",
    "des_tree = DecisionTreeClassifier(random_state=42)"
   ]
  },
  {
   "cell_type": "code",
   "execution_count": 8,
   "metadata": {},
   "outputs": [],
   "source": [
    "bagging_model = BaggingClassifier(base_estimator=rf_model, n_estimators=100, random_state=42)\n",
    "ada_model = AdaBoostClassifier(base_estimator=rf_model, n_estimators=100, random_state=42)\n",
    "gb_model = GradientBoostingClassifier(n_estimators=100, random_state=42)\n",
    "hist_model = HistGradientBoostingClassifier(random_state=42)\n",
    "random_tree_model = RandomTreesEmbedding(n_estimators=100, random_state=42)\n"
   ]
  },
  {
   "cell_type": "code",
   "execution_count": 10,
   "metadata": {},
   "outputs": [],
   "source": [
    "\n",
    "ada_model.fit(x_train_sm, y_train_sm)\n",
    "print(\"AdaBoost Accuracy: \", accuracy_score(y_test, ada_model.predict(x_test)))\n",
    "gb_model.fit(x_train_sm, y_train_sm)\n",
    "print(\"Gradient Boosting Accuracy: \", accuracy_score(y_test, gb_model.predict(x_test)))\n",
    "hist_model.fit(x_train_sm, y_train_sm)\n",
    "print(\"Hist Gradient Boosting Accuracy: \", accuracy_score(y_test, hist_model.predict(x_test)))\n",
    "random_tree_model.fit(x_train_sm, y_train_sm)\n",
    "print(\"Random Tree Embedding Accuracy: \", accuracy_score(y_test, random_tree_model.predict(x_test)))"
   ]
  },
  {
   "cell_type": "code",
   "execution_count": null,
   "metadata": {},
   "outputs": [],
   "source": [
    "bagging_model.fit(x_train_sm, y_train_sm)\n",
    "print(\"Bagging Accuracy: \", accuracy_score(y_test, bagging_model.predict(x_test)))\n"
   ]
  },
  {
   "cell_type": "code",
   "execution_count": 29,
   "metadata": {},
   "outputs": [
    {
     "data": {
      "text/html": [
       "<style>#sk-container-id-7 {color: black;background-color: white;}#sk-container-id-7 pre{padding: 0;}#sk-container-id-7 div.sk-toggleable {background-color: white;}#sk-container-id-7 label.sk-toggleable__label {cursor: pointer;display: block;width: 100%;margin-bottom: 0;padding: 0.3em;box-sizing: border-box;text-align: center;}#sk-container-id-7 label.sk-toggleable__label-arrow:before {content: \"▸\";float: left;margin-right: 0.25em;color: #696969;}#sk-container-id-7 label.sk-toggleable__label-arrow:hover:before {color: black;}#sk-container-id-7 div.sk-estimator:hover label.sk-toggleable__label-arrow:before {color: black;}#sk-container-id-7 div.sk-toggleable__content {max-height: 0;max-width: 0;overflow: hidden;text-align: left;background-color: #f0f8ff;}#sk-container-id-7 div.sk-toggleable__content pre {margin: 0.2em;color: black;border-radius: 0.25em;background-color: #f0f8ff;}#sk-container-id-7 input.sk-toggleable__control:checked~div.sk-toggleable__content {max-height: 200px;max-width: 100%;overflow: auto;}#sk-container-id-7 input.sk-toggleable__control:checked~label.sk-toggleable__label-arrow:before {content: \"▾\";}#sk-container-id-7 div.sk-estimator input.sk-toggleable__control:checked~label.sk-toggleable__label {background-color: #d4ebff;}#sk-container-id-7 div.sk-label input.sk-toggleable__control:checked~label.sk-toggleable__label {background-color: #d4ebff;}#sk-container-id-7 input.sk-hidden--visually {border: 0;clip: rect(1px 1px 1px 1px);clip: rect(1px, 1px, 1px, 1px);height: 1px;margin: -1px;overflow: hidden;padding: 0;position: absolute;width: 1px;}#sk-container-id-7 div.sk-estimator {font-family: monospace;background-color: #f0f8ff;border: 1px dotted black;border-radius: 0.25em;box-sizing: border-box;margin-bottom: 0.5em;}#sk-container-id-7 div.sk-estimator:hover {background-color: #d4ebff;}#sk-container-id-7 div.sk-parallel-item::after {content: \"\";width: 100%;border-bottom: 1px solid gray;flex-grow: 1;}#sk-container-id-7 div.sk-label:hover label.sk-toggleable__label {background-color: #d4ebff;}#sk-container-id-7 div.sk-serial::before {content: \"\";position: absolute;border-left: 1px solid gray;box-sizing: border-box;top: 0;bottom: 0;left: 50%;z-index: 0;}#sk-container-id-7 div.sk-serial {display: flex;flex-direction: column;align-items: center;background-color: white;padding-right: 0.2em;padding-left: 0.2em;position: relative;}#sk-container-id-7 div.sk-item {position: relative;z-index: 1;}#sk-container-id-7 div.sk-parallel {display: flex;align-items: stretch;justify-content: center;background-color: white;position: relative;}#sk-container-id-7 div.sk-item::before, #sk-container-id-7 div.sk-parallel-item::before {content: \"\";position: absolute;border-left: 1px solid gray;box-sizing: border-box;top: 0;bottom: 0;left: 50%;z-index: -1;}#sk-container-id-7 div.sk-parallel-item {display: flex;flex-direction: column;z-index: 1;position: relative;background-color: white;}#sk-container-id-7 div.sk-parallel-item:first-child::after {align-self: flex-end;width: 50%;}#sk-container-id-7 div.sk-parallel-item:last-child::after {align-self: flex-start;width: 50%;}#sk-container-id-7 div.sk-parallel-item:only-child::after {width: 0;}#sk-container-id-7 div.sk-dashed-wrapped {border: 1px dashed gray;margin: 0 0.4em 0.5em 0.4em;box-sizing: border-box;padding-bottom: 0.4em;background-color: white;}#sk-container-id-7 div.sk-label label {font-family: monospace;font-weight: bold;display: inline-block;line-height: 1.2em;}#sk-container-id-7 div.sk-label-container {text-align: center;}#sk-container-id-7 div.sk-container {/* jupyter's `normalize.less` sets `[hidden] { display: none; }` but bootstrap.min.css set `[hidden] { display: none !important; }` so we also need the `!important` here to be able to override the default hidden behavior on the sphinx rendered scikit-learn.org. See: https://github.com/scikit-learn/scikit-learn/issues/21755 */display: inline-block !important;position: relative;}#sk-container-id-7 div.sk-text-repr-fallback {display: none;}</style><div id=\"sk-container-id-7\" class=\"sk-top-container\"><div class=\"sk-text-repr-fallback\"><pre>DecisionTreeClassifier(random_state=42)</pre><b>In a Jupyter environment, please rerun this cell to show the HTML representation or trust the notebook. <br />On GitHub, the HTML representation is unable to render, please try loading this page with nbviewer.org.</b></div><div class=\"sk-container\" hidden><div class=\"sk-item\"><div class=\"sk-estimator sk-toggleable\"><input class=\"sk-toggleable__control sk-hidden--visually\" id=\"sk-estimator-id-15\" type=\"checkbox\" checked><label for=\"sk-estimator-id-15\" class=\"sk-toggleable__label sk-toggleable__label-arrow\">DecisionTreeClassifier</label><div class=\"sk-toggleable__content\"><pre>DecisionTreeClassifier(random_state=42)</pre></div></div></div></div></div>"
      ],
      "text/plain": [
       "DecisionTreeClassifier(random_state=42)"
      ]
     },
     "execution_count": 29,
     "metadata": {},
     "output_type": "execute_result"
    }
   ],
   "source": [
    "rf_model.fit(x_train_sm, y_train_sm)\n",
    "et_model.fit(x_train_sm, y_train_sm)\n",
    "knn_model.fit(x_train_sm, y_train_sm)\n",
    "des_tree.fit(x_train_sm, y_train_sm)"
   ]
  },
  {
   "cell_type": "code",
   "execution_count": 30,
   "metadata": {},
   "outputs": [],
   "source": [
    "rf_predictions = rf_model.predict(x_test)\n",
    "et_predictions = et_model.predict(x_test)\n",
    "knn_predictions = knn_model.predict(x_test)\n",
    "des_predictions = des_tree.predict(x_test)"
   ]
  },
  {
   "cell_type": "code",
   "execution_count": 46,
   "metadata": {},
   "outputs": [],
   "source": [
    "ensemble_model = VotingClassifier(estimators=[\n",
    "    ('Random Forest', rf_model),\n",
    "    ('Extra Trees', et_model),\n",
    "    (\"Decision Tree\", des_tree),\n",
    "    (\"KNN\", knn_model)\n",
    "], voting='hard',weights=[1,1,1,1])"
   ]
  },
  {
   "cell_type": "code",
   "execution_count": 47,
   "metadata": {},
   "outputs": [
    {
     "data": {
      "text/html": [
       "<style>#sk-container-id-12 {color: black;background-color: white;}#sk-container-id-12 pre{padding: 0;}#sk-container-id-12 div.sk-toggleable {background-color: white;}#sk-container-id-12 label.sk-toggleable__label {cursor: pointer;display: block;width: 100%;margin-bottom: 0;padding: 0.3em;box-sizing: border-box;text-align: center;}#sk-container-id-12 label.sk-toggleable__label-arrow:before {content: \"▸\";float: left;margin-right: 0.25em;color: #696969;}#sk-container-id-12 label.sk-toggleable__label-arrow:hover:before {color: black;}#sk-container-id-12 div.sk-estimator:hover label.sk-toggleable__label-arrow:before {color: black;}#sk-container-id-12 div.sk-toggleable__content {max-height: 0;max-width: 0;overflow: hidden;text-align: left;background-color: #f0f8ff;}#sk-container-id-12 div.sk-toggleable__content pre {margin: 0.2em;color: black;border-radius: 0.25em;background-color: #f0f8ff;}#sk-container-id-12 input.sk-toggleable__control:checked~div.sk-toggleable__content {max-height: 200px;max-width: 100%;overflow: auto;}#sk-container-id-12 input.sk-toggleable__control:checked~label.sk-toggleable__label-arrow:before {content: \"▾\";}#sk-container-id-12 div.sk-estimator input.sk-toggleable__control:checked~label.sk-toggleable__label {background-color: #d4ebff;}#sk-container-id-12 div.sk-label input.sk-toggleable__control:checked~label.sk-toggleable__label {background-color: #d4ebff;}#sk-container-id-12 input.sk-hidden--visually {border: 0;clip: rect(1px 1px 1px 1px);clip: rect(1px, 1px, 1px, 1px);height: 1px;margin: -1px;overflow: hidden;padding: 0;position: absolute;width: 1px;}#sk-container-id-12 div.sk-estimator {font-family: monospace;background-color: #f0f8ff;border: 1px dotted black;border-radius: 0.25em;box-sizing: border-box;margin-bottom: 0.5em;}#sk-container-id-12 div.sk-estimator:hover {background-color: #d4ebff;}#sk-container-id-12 div.sk-parallel-item::after {content: \"\";width: 100%;border-bottom: 1px solid gray;flex-grow: 1;}#sk-container-id-12 div.sk-label:hover label.sk-toggleable__label {background-color: #d4ebff;}#sk-container-id-12 div.sk-serial::before {content: \"\";position: absolute;border-left: 1px solid gray;box-sizing: border-box;top: 0;bottom: 0;left: 50%;z-index: 0;}#sk-container-id-12 div.sk-serial {display: flex;flex-direction: column;align-items: center;background-color: white;padding-right: 0.2em;padding-left: 0.2em;position: relative;}#sk-container-id-12 div.sk-item {position: relative;z-index: 1;}#sk-container-id-12 div.sk-parallel {display: flex;align-items: stretch;justify-content: center;background-color: white;position: relative;}#sk-container-id-12 div.sk-item::before, #sk-container-id-12 div.sk-parallel-item::before {content: \"\";position: absolute;border-left: 1px solid gray;box-sizing: border-box;top: 0;bottom: 0;left: 50%;z-index: -1;}#sk-container-id-12 div.sk-parallel-item {display: flex;flex-direction: column;z-index: 1;position: relative;background-color: white;}#sk-container-id-12 div.sk-parallel-item:first-child::after {align-self: flex-end;width: 50%;}#sk-container-id-12 div.sk-parallel-item:last-child::after {align-self: flex-start;width: 50%;}#sk-container-id-12 div.sk-parallel-item:only-child::after {width: 0;}#sk-container-id-12 div.sk-dashed-wrapped {border: 1px dashed gray;margin: 0 0.4em 0.5em 0.4em;box-sizing: border-box;padding-bottom: 0.4em;background-color: white;}#sk-container-id-12 div.sk-label label {font-family: monospace;font-weight: bold;display: inline-block;line-height: 1.2em;}#sk-container-id-12 div.sk-label-container {text-align: center;}#sk-container-id-12 div.sk-container {/* jupyter's `normalize.less` sets `[hidden] { display: none; }` but bootstrap.min.css set `[hidden] { display: none !important; }` so we also need the `!important` here to be able to override the default hidden behavior on the sphinx rendered scikit-learn.org. See: https://github.com/scikit-learn/scikit-learn/issues/21755 */display: inline-block !important;position: relative;}#sk-container-id-12 div.sk-text-repr-fallback {display: none;}</style><div id=\"sk-container-id-12\" class=\"sk-top-container\"><div class=\"sk-text-repr-fallback\"><pre>VotingClassifier(estimators=[(&#x27;Random Forest&#x27;,\n",
       "                              RandomForestClassifier(random_state=42)),\n",
       "                             (&#x27;Extra Trees&#x27;,\n",
       "                              ExtraTreesClassifier(random_state=42)),\n",
       "                             (&#x27;Decision Tree&#x27;,\n",
       "                              DecisionTreeClassifier(random_state=42)),\n",
       "                             (&#x27;KNN&#x27;, KNeighborsClassifier())],\n",
       "                 weights=[1, 1, 1, 1])</pre><b>In a Jupyter environment, please rerun this cell to show the HTML representation or trust the notebook. <br />On GitHub, the HTML representation is unable to render, please try loading this page with nbviewer.org.</b></div><div class=\"sk-container\" hidden><div class=\"sk-item sk-dashed-wrapped\"><div class=\"sk-label-container\"><div class=\"sk-label sk-toggleable\"><input class=\"sk-toggleable__control sk-hidden--visually\" id=\"sk-estimator-id-38\" type=\"checkbox\" ><label for=\"sk-estimator-id-38\" class=\"sk-toggleable__label sk-toggleable__label-arrow\">VotingClassifier</label><div class=\"sk-toggleable__content\"><pre>VotingClassifier(estimators=[(&#x27;Random Forest&#x27;,\n",
       "                              RandomForestClassifier(random_state=42)),\n",
       "                             (&#x27;Extra Trees&#x27;,\n",
       "                              ExtraTreesClassifier(random_state=42)),\n",
       "                             (&#x27;Decision Tree&#x27;,\n",
       "                              DecisionTreeClassifier(random_state=42)),\n",
       "                             (&#x27;KNN&#x27;, KNeighborsClassifier())],\n",
       "                 weights=[1, 1, 1, 1])</pre></div></div></div><div class=\"sk-parallel\"><div class=\"sk-parallel-item\"><div class=\"sk-item\"><div class=\"sk-label-container\"><div class=\"sk-label sk-toggleable\"><label>Random Forest</label></div></div><div class=\"sk-serial\"><div class=\"sk-item\"><div class=\"sk-estimator sk-toggleable\"><input class=\"sk-toggleable__control sk-hidden--visually\" id=\"sk-estimator-id-39\" type=\"checkbox\" ><label for=\"sk-estimator-id-39\" class=\"sk-toggleable__label sk-toggleable__label-arrow\">RandomForestClassifier</label><div class=\"sk-toggleable__content\"><pre>RandomForestClassifier(random_state=42)</pre></div></div></div></div></div></div><div class=\"sk-parallel-item\"><div class=\"sk-item\"><div class=\"sk-label-container\"><div class=\"sk-label sk-toggleable\"><label>Extra Trees</label></div></div><div class=\"sk-serial\"><div class=\"sk-item\"><div class=\"sk-estimator sk-toggleable\"><input class=\"sk-toggleable__control sk-hidden--visually\" id=\"sk-estimator-id-40\" type=\"checkbox\" ><label for=\"sk-estimator-id-40\" class=\"sk-toggleable__label sk-toggleable__label-arrow\">ExtraTreesClassifier</label><div class=\"sk-toggleable__content\"><pre>ExtraTreesClassifier(random_state=42)</pre></div></div></div></div></div></div><div class=\"sk-parallel-item\"><div class=\"sk-item\"><div class=\"sk-label-container\"><div class=\"sk-label sk-toggleable\"><label>Decision Tree</label></div></div><div class=\"sk-serial\"><div class=\"sk-item\"><div class=\"sk-estimator sk-toggleable\"><input class=\"sk-toggleable__control sk-hidden--visually\" id=\"sk-estimator-id-41\" type=\"checkbox\" ><label for=\"sk-estimator-id-41\" class=\"sk-toggleable__label sk-toggleable__label-arrow\">DecisionTreeClassifier</label><div class=\"sk-toggleable__content\"><pre>DecisionTreeClassifier(random_state=42)</pre></div></div></div></div></div></div><div class=\"sk-parallel-item\"><div class=\"sk-item\"><div class=\"sk-label-container\"><div class=\"sk-label sk-toggleable\"><label>KNN</label></div></div><div class=\"sk-serial\"><div class=\"sk-item\"><div class=\"sk-estimator sk-toggleable\"><input class=\"sk-toggleable__control sk-hidden--visually\" id=\"sk-estimator-id-42\" type=\"checkbox\" ><label for=\"sk-estimator-id-42\" class=\"sk-toggleable__label sk-toggleable__label-arrow\">KNeighborsClassifier</label><div class=\"sk-toggleable__content\"><pre>KNeighborsClassifier()</pre></div></div></div></div></div></div></div></div></div></div>"
      ],
      "text/plain": [
       "VotingClassifier(estimators=[('Random Forest',\n",
       "                              RandomForestClassifier(random_state=42)),\n",
       "                             ('Extra Trees',\n",
       "                              ExtraTreesClassifier(random_state=42)),\n",
       "                             ('Decision Tree',\n",
       "                              DecisionTreeClassifier(random_state=42)),\n",
       "                             ('KNN', KNeighborsClassifier())],\n",
       "                 weights=[1, 1, 1, 1])"
      ]
     },
     "execution_count": 47,
     "metadata": {},
     "output_type": "execute_result"
    }
   ],
   "source": [
    "ensemble_model.fit(x_train_sm, y_train_sm)"
   ]
  },
  {
   "cell_type": "code",
   "execution_count": 48,
   "metadata": {},
   "outputs": [
    {
     "name": "stdout",
     "output_type": "stream",
     "text": [
      "Ensemble Model Accuracy: 0.84325\n"
     ]
    }
   ],
   "source": [
    "ensemble_predictions = ensemble_model.predict(x_test)\n",
    "ensemble_accuracy = accuracy_score(y_test, ensemble_predictions)\n",
    "print(f\"Ensemble Model Accuracy: {ensemble_accuracy}\")"
   ]
  },
  {
   "cell_type": "code",
   "execution_count": 1,
   "metadata": {},
   "outputs": [
    {
     "ename": "NameError",
     "evalue": "name 'accuracy_score' is not defined",
     "output_type": "error",
     "traceback": [
      "\u001b[0;31m---------------------------------------------------------------------------\u001b[0m",
      "\u001b[0;31mNameError\u001b[0m                                 Traceback (most recent call last)",
      "\u001b[1;32m/Users/yaseen/developer/AI/AI_Orange_Course/Assigment_2/models_regression.ipynb Cell 25\u001b[0m line \u001b[0;36m1\n\u001b[0;32m----> <a href='vscode-notebook-cell:/Users/yaseen/developer/AI/AI_Orange_Course/Assigment_2/models_regression.ipynb#X31sZmlsZQ%3D%3D?line=0'>1</a>\u001b[0m rf_accuracy \u001b[39m=\u001b[39m accuracy_score(y_test, rf_predictions)\n\u001b[1;32m      <a href='vscode-notebook-cell:/Users/yaseen/developer/AI/AI_Orange_Course/Assigment_2/models_regression.ipynb#X31sZmlsZQ%3D%3D?line=1'>2</a>\u001b[0m et_accuracy \u001b[39m=\u001b[39m accuracy_score(y_test, et_predictions)\n\u001b[1;32m      <a href='vscode-notebook-cell:/Users/yaseen/developer/AI/AI_Orange_Course/Assigment_2/models_regression.ipynb#X31sZmlsZQ%3D%3D?line=2'>3</a>\u001b[0m knn_accuracy \u001b[39m=\u001b[39m accuracy_score(y_test, knn_predictions)\n",
      "\u001b[0;31mNameError\u001b[0m: name 'accuracy_score' is not defined"
     ]
    }
   ],
   "source": [
    "rf_accuracy = accuracy_score(y_test, rf_predictions)\n",
    "et_accuracy = accuracy_score(y_test, et_predictions)\n",
    "knn_accuracy = accuracy_score(y_test, knn_predictions)\n",
    "ensemble_accuracy = accuracy_score(y_test, ensemble_predictions)\n",
    "des_accuracy = accuracy_score(y_test, des_predictions)\n",
    "\n",
    "\n",
    "print(f\"Random Forest Classifier Accuracy: {rf_accuracy}\")\n",
    "print(f\"Extra Trees Classifier Accuracy: {et_accuracy}\")\n",
    "print(f\"KNN Classifier Accuracy: {knn_accuracy}\")\n",
    "print(f\"Ensemble Model Accuracy: {ensemble_accuracy}\")\n",
    "print(f\"Decision Tree Accuracy: {des_accuracy}\")\n",
    "\n",
    "\n",
    "\n",
    "\n"
   ]
  },
  {
   "cell_type": "code",
   "execution_count": 35,
   "metadata": {},
   "outputs": [
    {
     "name": "stdout",
     "output_type": "stream",
     "text": [
      "Random Forest Classifier Accuracy: 0.8803758073987081\n",
      "Extra Trees Classifier Accuracy: 0.8806028577020943\n",
      "KNN Classifier Accuracy: 0.8608259933450774\n",
      "Ensemble Model Accuracy: 0.8816754746525739\n",
      "Decision Tree Accuracy: 0.8642239185750636\n"
     ]
    }
   ],
   "source": [
    "cross_val_rf = cross_val_predict(rf_model, x_train_sm, y_train_sm, cv=5)\n",
    "cross_val_et = cross_val_predict(et_model, x_train_sm, y_train_sm, cv=5)\n",
    "cross_val_knn = cross_val_predict(knn_model, x_train_sm, y_train_sm, cv=5)\n",
    "cross_val_des = cross_val_predict(des_tree, x_train_sm, y_train_sm, cv=5)\n",
    "cross_val_ensemble = cross_val_predict(ensemble_model, x_train_sm, y_train_sm, cv=5)\n",
    "\n",
    "print(f\"Random Forest Classifier Accuracy: {accuracy_score(y_train_sm, cross_val_rf)}\")\n",
    "print(f\"Extra Trees Classifier Accuracy: {accuracy_score(y_train_sm, cross_val_et)}\")\n",
    "print(f\"KNN Classifier Accuracy: {accuracy_score(y_train_sm, cross_val_knn)}\")\n",
    "print(f\"Ensemble Model Accuracy: {accuracy_score(y_train_sm, cross_val_ensemble)}\")\n",
    "print(f\"Decision Tree Accuracy: {accuracy_score(y_train_sm, cross_val_des)}\")"
   ]
  },
  {
   "cell_type": "code",
   "execution_count": null,
   "metadata": {},
   "outputs": [
    {
     "name": "stdout",
     "output_type": "stream",
     "text": [
      "{'Age': 0.83015, 'Annual_Income': 0.8319, 'Monthly_Inhand_Salary': 0.83195, 'Num_Bank_Accounts': 0.8315, 'Credit_Utilization': 0.8227, 'Net_Monthly_Savings': 0.8323, 'Amount_invested_monthly': 0.83175, 'Total_EMI_per_month': 0.8311, 'Payment_of_Min_Amount': 0.8313, 'Num_Credit_Inquiries': 0.8302, 'Changed_Credit_Limit': 0.81965, 'Num_of_Delayed_Payment': 0.8209, 'Delay_from_due_date': 0.8223, 'Num_of_Loan': 0.8314, 'Payment_Behaviour': 0.80715, 'Monthly_Balance': 0.81445, 'Debt_to_Income_Ratio': 0.8316, 'EMI_to_Income_Ratio': 0.83115, 'Investment_to_Income_Ratio': 0.8317, 'Loan_to_Income_Ratio': 0.8318, 'Total_Financial_Obligations': 0.83105}\n"
     ]
    }
   ],
   "source": [
    "classifiy = {\n",
    "   \"Age\":0.83015,\n",
    "   \"Annual_Income\":0.8319,\n",
    "   \"Monthly_Inhand_Salary\":0.83195,\n",
    "   \"Num_Bank_Accounts\":0.8315,\n",
    "   \"Credit_Utilization\":0.8227,\n",
    "   \"Net_Monthly_Savings\":0.8323,\n",
    "   \"Amount_invested_monthly\":0.83175,\n",
    "   \"Total_EMI_per_month\":0.8311,\n",
    "   \"Payment_of_Min_Amount\":0.8313,\n",
    "   \"Num_Credit_Inquiries\":0.8302,\n",
    "   \"Changed_Credit_Limit\":0.81965,\n",
    "   \"Num_of_Delayed_Payment\":0.8209,\n",
    "   \"Delay_from_due_date\":0.8223,\n",
    "   \"Num_of_Loan\":0.8314,\n",
    "   \"Payment_Behaviour\":0.80715,\n",
    "   \"Monthly_Balance\":0.81445,\n",
    "   \"Debt_to_Income_Ratio\":0.8316,\n",
    "   \"EMI_to_Income_Ratio\":0.83115,\n",
    "   \"Investment_to_Income_Ratio\":0.8317,\n",
    "   \"Loan_to_Income_Ratio\":0.8318,\n",
    "   \"Total_Financial_Obligations\":0.83105,\n",
    "}\n",
    "print(classifiy) \n"
   ]
  }
 ],
 "metadata": {
  "kernelspec": {
   "display_name": ".venv",
   "language": "python",
   "name": "python3"
  },
  "language_info": {
   "codemirror_mode": {
    "name": "ipython",
    "version": 3
   },
   "file_extension": ".py",
   "mimetype": "text/x-python",
   "name": "python",
   "nbconvert_exporter": "python",
   "pygments_lexer": "ipython3",
   "version": "3.10.10"
  },
  "orig_nbformat": 4
 },
 "nbformat": 4,
 "nbformat_minor": 2
}
