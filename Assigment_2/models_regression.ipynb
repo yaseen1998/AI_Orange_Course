{
 "cells": [
  {
   "cell_type": "code",
   "execution_count": 71,
   "metadata": {},
   "outputs": [],
   "source": [
    "# import SVC\n",
    "import tensorflow as tf\n",
    "from tensorflow import keras\n",
    "from sklearn.svm import SVC\n",
    "from xgboost import XGBClassifier\n",
    "# import KNN \n",
    "from sklearn.neighbors import KNeighborsClassifier\n",
    "# import MultinomialNB\n",
    "from sklearn.naive_bayes import MultinomialNB,GaussianNB\n",
    "#import GMM \n",
    "from sklearn.metrics import accuracy_score\n",
    "\n",
    "from sklearn.mixture import GaussianMixture\n",
    "from sklearn.discriminant_analysis import QuadraticDiscriminantAnalysis\n",
    "\n",
    "# import train_test_split\n",
    "from sklearn.model_selection import train_test_split\n",
    "# import random forest\n",
    "from sklearn.ensemble import RandomForestClassifier\n",
    "import matplotlib.pyplot as plt\n",
    "import seaborn as sns\n",
    "import pandas as pd\n",
    "import json\n",
    "from sklearn.ensemble import AdaBoostClassifier\n",
    "from sklearn.tree import DecisionTreeClassifier\n"
   ]
  },
  {
   "cell_type": "code",
   "execution_count": 80,
   "metadata": {},
   "outputs": [],
   "source": [
    "df = pd.read_csv('../csv/credit_score_clean_extraction.csv')\n"
   ]
  },
  {
   "cell_type": "code",
   "execution_count": 72,
   "metadata": {},
   "outputs": [],
   "source": [
    "def ApplyModel(X_train, X_test, y_train, y_test,res):\n",
    "    xgb_classifier = XGBClassifier(learning_rate=0.1, n_estimators=100, max_depth=3, objective='binary:logistic', random_state=42)\n",
    "\n",
    "# Fit the XGBoost model to the training data\n",
    "    xgb_classifier.fit(X_train, y_train)\n",
    "\n",
    "    # Make predictions on the test data\n",
    "    y_pred = xgb_classifier.predict(X_test)\n",
    "\n",
    "    # Calculate the accuracy of the XGBoost classifier\n",
    "    accuracy = accuracy_score(y_test, y_pred)\n",
    "    print(f'Accuracy: {accuracy:.4f}')\n"
   ]
  },
  {
   "cell_type": "code",
   "execution_count": 75,
   "metadata": {},
   "outputs": [],
   "source": [
    "def ApplyModel(x_train, x_test, y_train, y_test,res):\n",
    "    random_forest = RandomForestClassifier(n_estimators=200, max_depth=100)\n",
    "    random_forest.fit(x_train, y_train)\n",
    "    y_pred = random_forest.predict(x_test)\n",
    "    res['Random Forest'] = accuracy_score(y_test, y_pred)\n",
    "    print(\"Random Forest Accuracy: \", accuracy_score(y_test, y_pred))"
   ]
  },
  {
   "cell_type": "code",
   "execution_count": 81,
   "metadata": {},
   "outputs": [
    {
     "name": "stdout",
     "output_type": "stream",
     "text": [
      "Random Forest Accuracy:  0.82215\n"
     ]
    }
   ],
   "source": [
    "path =\"feature_selected_2.json\"\n",
    "loads = json.loads(open(path).read()) \n",
    "common = {}\n",
    "common['common'] = loads['common']\n",
    "# common['common_1'] = loads['common_1']\n",
    "# common['common_2'] = loads['common_2']\n",
    "# common['common_3'] = loads['common_3']\n",
    "y = df['Credit_Score']\n",
    "res = {}\n",
    "for co in common:\n",
    "    features = common[co]\n",
    "    res[co] = {}\n",
    "    X = df[features]\n",
    "    x_train, x_test, y_train, y_test = train_test_split(X, y, test_size=0.2, random_state=42)\n",
    "    ApplyModel(x_train, x_test, y_train, y_test,res[co])\n",
    "\n"
   ]
  },
  {
   "cell_type": "code",
   "execution_count": 64,
   "metadata": {},
   "outputs": [
    {
     "name": "stdout",
     "output_type": "stream",
     "text": [
      "['Interest_Rate', 'Delay_from_due_date', 'Num_Credit_Inquiries', 'Credit_Mix', 'Interest_Loan_Interaction']\n"
     ]
    }
   ],
   "source": [
    "path =\"feature_selected_2.json\"\n",
    "loads = json.loads(open(path).read()) \n",
    "scale_Robust = loads['scale_Robust']\n",
    "# take similar features for common_1, common_2, common_3\n",
    "column_1 = scale_Robust['column_1']\n",
    "column_2 = scale_Robust['column_2']\n",
    "column_3 = scale_Robust['column_3']\n",
    "result = []\n",
    "for i in column_1:\n",
    "    if i in column_2 and i in column_3:\n",
    "        result.append(i)\n",
    "print(result)\n"
   ]
  }
 ],
 "metadata": {
  "kernelspec": {
   "display_name": ".venv",
   "language": "python",
   "name": "python3"
  },
  "language_info": {
   "codemirror_mode": {
    "name": "ipython",
    "version": 3
   },
   "file_extension": ".py",
   "mimetype": "text/x-python",
   "name": "python",
   "nbconvert_exporter": "python",
   "pygments_lexer": "ipython3",
   "version": "3.10.10"
  },
  "orig_nbformat": 4
 },
 "nbformat": 4,
 "nbformat_minor": 2
}
