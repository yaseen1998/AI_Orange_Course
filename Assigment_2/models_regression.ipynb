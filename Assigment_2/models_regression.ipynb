{
 "cells": [
  {
   "cell_type": "code",
   "execution_count": 5,
   "metadata": {},
   "outputs": [],
   "source": [
    "# import SVC\n",
    "from pycaret.classification import *\n",
    "\n",
    "\n",
    "from sklearn.metrics import accuracy_score\n",
    "\n",
    "# import train_test_split\n",
    "from sklearn.model_selection import train_test_split,cross_val_predict\n",
    "# import random forest\n",
    "from sklearn.ensemble import RandomForestClassifier\n",
    "import pandas as pd\n",
    "from imblearn.over_sampling import SMOTE\n",
    "import matplotlib.pyplot as plt\n",
    "import seaborn as sns\n",
    "# import standard scaler\n",
    "from sklearn.preprocessing import StandardScaler"
   ]
  },
  {
   "cell_type": "code",
   "execution_count": 6,
   "metadata": {},
   "outputs": [],
   "source": [
    "def custom_encoding(y):\n",
    "    mapping = {\"Standard\":1,\"Good\":2,\"Poor\":0,\"Bad\":0,'NM':0,\"No\":1,\"Yes\":2}\n",
    "    y = y.map(mapping)\n",
    "    return y"
   ]
  },
  {
   "cell_type": "code",
   "execution_count": 7,
   "metadata": {},
   "outputs": [
    {
     "name": "stdout",
     "output_type": "stream",
     "text": [
      "0    2\n",
      "1    2\n",
      "2    2\n",
      "3    2\n",
      "4    2\n",
      "Name: Credit_Score, dtype: int64\n",
      "                 Age  Annual_Income  Monthly_Inhand_Salary  Num_Bank_Accounts  \\\n",
      "count  100000.000000  100000.000000          100000.000000      100000.000000   \n",
      "mean       33.316340   50505.123449            4197.270835           5.368820   \n",
      "std        10.764812   38299.422093            3186.432497           2.593314   \n",
      "min        14.000000    7005.930000             303.645417           0.000000   \n",
      "25%        24.000000   19342.972500            1626.594167           3.000000   \n",
      "50%        33.000000   36999.705000            3095.905000           5.000000   \n",
      "75%        42.000000   71683.470000            5957.715000           7.000000   \n",
      "max        56.000000  179987.280000           15204.633333          11.000000   \n",
      "\n",
      "       Num_Credit_Card  Interest_Rate    Num_of_Loan  Delay_from_due_date  \\\n",
      "count    100000.000000   100000.00000  100000.000000         100000.00000   \n",
      "mean          5.533570       14.53208       3.532880             21.08141   \n",
      "std           2.067098        8.74133       2.446356             14.80456   \n",
      "min           0.000000        1.00000       0.000000              0.00000   \n",
      "25%           4.000000        7.00000       2.000000             10.00000   \n",
      "50%           5.000000       13.00000       3.000000             18.00000   \n",
      "75%           7.000000       20.00000       5.000000             28.00000   \n",
      "max          11.000000       34.00000       9.000000             62.00000   \n",
      "\n",
      "       Num_of_Delayed_Payment  Changed_Credit_Limit  ...  Monthly_Balance  \\\n",
      "count           100000.000000         100000.000000  ...    100000.000000   \n",
      "mean                13.313120             10.470323  ...       392.697586   \n",
      "std                  6.237166              6.609481  ...       201.652719   \n",
      "min                  0.000000              0.500000  ...         0.007760   \n",
      "25%                  9.000000              5.380000  ...       267.615983   \n",
      "50%                 14.000000              9.400000  ...       333.865366   \n",
      "75%                 18.000000             14.850000  ...       463.215683   \n",
      "max                 25.000000             29.980000  ...      1183.930696   \n",
      "\n",
      "       Type_of_Loan  Debt_to_Income_Ratio  EMI_to_Income_Ratio  \\\n",
      "count  100000.00000         100000.000000        100000.000000   \n",
      "mean      211.35634              0.062220             0.029797   \n",
      "std       151.74002              0.095064             0.031453   \n",
      "min         0.00000              0.000003             0.000000   \n",
      "25%        79.00000              0.009574             0.012129   \n",
      "50%       187.00000              0.028298             0.024409   \n",
      "75%       308.00000              0.070109             0.040346   \n",
      "max       506.00000              1.063535             1.979212   \n",
      "\n",
      "       Investment_to_Income_Ratio  Loan_to_Income_Ratio  \\\n",
      "count               100000.000000         100000.000000   \n",
      "mean                     0.015598              0.062220   \n",
      "std                      0.008404              0.095064   \n",
      "min                      0.000000              0.000003   \n",
      "25%                      0.009952              0.009574   \n",
      "50%                      0.013347              0.028298   \n",
      "75%                      0.019098              0.070109   \n",
      "max                      0.065474              1.063535   \n",
      "\n",
      "       Total_Financial_Obligations  Credit_Utilization  Net_Monthly_Savings  \\\n",
      "count                100000.000000       100000.000000        100000.000000   \n",
      "mean                    162.800523          228.728507          4034.470312   \n",
      "std                     150.420196          400.499727          3101.566487   \n",
      "min                       0.000000            0.021642          -874.081193   \n",
      "25%                      66.562591           67.547222          1548.274694   \n",
      "50%                     114.876513          129.377156          2971.296841   \n",
      "75%                     216.987445          219.399504          5711.478598   \n",
      "max                    2062.290275         9461.500000         14898.010717   \n",
      "\n",
      "       Interest_Loan_Interaction  \n",
      "count              100000.000000  \n",
      "mean                   63.297200  \n",
      "std                    68.847028  \n",
      "min                     0.000000  \n",
      "25%                    12.000000  \n",
      "50%                    36.000000  \n",
      "75%                   100.000000  \n",
      "max                   306.000000  \n",
      "\n",
      "[8 rows x 28 columns]\n"
     ]
    }
   ],
   "source": [
    "df = pd.read_csv('../csv/credit_score_clean_extraction.csv')\n",
    "x = df.drop(['Credit_Score'],axis=1)\n",
    "column = x.columns\n",
    "y = custom_encoding(df[\"Credit_Score\"])\n",
    "print(y.head())\n",
    "print(df.describe())"
   ]
  },
  {
   "cell_type": "code",
   "execution_count": 8,
   "metadata": {},
   "outputs": [],
   "source": [
    "def out_liar(column_data):\n",
    "    Q1 = column_data.quantile(0.25)\n",
    "    Q3 = column_data.quantile(0.75)\n",
    "    IQR = Q3 - Q1\n",
    "    lowerBand = Q1 - 1.5 * IQR\n",
    "    upperBand = Q3 + 1.5 * IQR\n",
    "    # number of outlier in column\n",
    "    print(column_data[column_data > upperBand].count() + column_data[column_data < lowerBand].count())\n",
    "    \n",
    "    # convert any outlier value to upper or lower bound\n",
    "    column_data = column_data.apply(lambda x: upperBand if x > upperBand else lowerBand if x < lowerBand else x)\n",
    "    return column_data\n",
    "\n",
    "   \n"
   ]
  },
  {
   "cell_type": "code",
   "execution_count": 9,
   "metadata": {},
   "outputs": [
    {
     "name": "stdout",
     "output_type": "stream",
     "text": [
      "5272\n",
      "2221\n"
     ]
    },
    {
     "data": {
      "image/png": "[encoded data removed]",
      "text/plain": [
       "<Figure size 2000x1000 with 1 Axes>"
      ]
     },
     "metadata": {},
     "output_type": "display_data"
    }
   ],
   "source": [
    "features=[\n",
    "    \"Outstanding_Debt\",\n",
    "    \"Net_Monthly_Savings\",\n",
    "]   \n",
    "for feature in features:\n",
    "    x[feature] = out_liar(x[feature])\n",
    "    \n",
    "# box plot\n",
    "plt.figure(figsize=(20,10))\n",
    "sns.boxplot(data=x[features])\n",
    "plt.show()\n"
   ]
  },
  {
   "cell_type": "code",
   "execution_count": 10,
   "metadata": {},
   "outputs": [
    {
     "name": "stdout",
     "output_type": "stream",
     "text": [
      "       Outstanding_Debt  Net_Monthly_Savings\n",
      "count     100000.000000        100000.000000\n",
      "mean        1399.859920          4004.212918\n",
      "std         1086.193704          3013.910963\n",
      "min            0.230000          -874.081193\n",
      "25%          566.072500          1548.274694\n",
      "50%         1166.155000          2971.296841\n",
      "75%         1945.962500          5711.478598\n",
      "max         4015.797500         11956.284455\n"
     ]
    }
   ],
   "source": [
    "print(x[features].describe())"
   ]
  },
  {
   "cell_type": "code",
   "execution_count": 11,
   "metadata": {},
   "outputs": [
    {
     "name": "stdout",
     "output_type": "stream",
     "text": [
      "[-1.31926575  0.43919988  1.27417057  0.55123281 -0.74509326 -0.74189873\n",
      " -0.54307336 -0.74667805]\n"
     ]
    }
   ],
   "source": [
    "features=[\n",
    "    \"Interest_Rate\",\n",
    "    \"Credit_History_Age\",\n",
    "    \"Credit_Mix\",\n",
    "    'Type_of_Loan',\n",
    "    \"Interest_Loan_Interaction\",\n",
    "    \"Num_Credit_Card\",\n",
    "    \"Outstanding_Debt\",\n",
    "    \"Net_Monthly_Savings\",\n",
    "]\n",
    "\n",
    "\n",
    "scaler = StandardScaler()\n",
    "X = x[features]\n",
    "scaled_data = scaler.fit_transform(X)\n",
    "print(scaled_data[0])\n",
    "\n",
    "x_train, x_test, y_train, y_test = train_test_split(scaled_data, y, test_size=0.2, random_state=42)"
   ]
  },
  {
   "cell_type": "code",
   "execution_count": 28,
   "metadata": {},
   "outputs": [
    {
     "name": "stdout",
     "output_type": "stream",
     "text": [
      "[ 4.  5.  1.  7.  6.  8.  3.  9.  2. 10. 11.  0.]\n"
     ]
    }
   ],
   "source": [
    "features=[\n",
    "    \"Num_Credit_Card\",\n",
    "    \"Outstanding_Debt\",\n",
    "    \"Net_Monthly_Savings\",\n",
    "]\n",
    "for feature in features:\n",
    "    # check if all data in integer\n",
    "    print(x[feature].unique())"
   ]
  },
  {
   "cell_type": "code",
   "execution_count": 29,
   "metadata": {},
   "outputs": [
    {
     "name": "stdout",
     "output_type": "stream",
     "text": [
      "{'Num_Credit_Card': 4.0}\n",
      "[ 0.62552806  0.79032271 -1.45471355  1.24320929  0.53310919  1.19319058\n",
      "  0.55342163  1.98938095]\n"
     ]
    }
   ],
   "source": [
    "first_index = x[features].loc[0]\n",
    "dict_first_index = first_index.to_dict()\n",
    "input_user = {'Interest_Rate': 20, 'Credit_History_Age': 300.0, 'Credit_Mix': 0.0, 'Type_of_Loan': 400.0, 'Interest_Loan_Interaction': 100.0, 'Num_Credit_Card': 8.0, 'Outstanding_Debt': 2000.98, 'Net_Monthly_Savings': 10000}\n",
    "print(dict_first_index)\n",
    "data_frame = pd.DataFrame(input_user,index=[0])\n",
    "scaled_data_first = scaler.transform(data_frame)\n",
    "print(scaled_data_first[0])"
   ]
  },
  {
   "cell_type": "code",
   "execution_count": 14,
   "metadata": {},
   "outputs": [],
   "source": [
    "def ApplyModel(x_train, x_test, y_train, y_test):\n",
    "    random_forest = RandomForestClassifier(n_estimators=200, max_depth=100)\n",
    "    random_forest.fit(x_train, y_train)\n",
    "    y_pred = random_forest.predict(x_test)\n",
    "    print(\"Random Forest Accuracy: \", accuracy_score(y_test, y_pred))"
   ]
  },
  {
   "cell_type": "code",
   "execution_count": 15,
   "metadata": {},
   "outputs": [
    {
     "data": {
      "text/html": [
       "<style>#sk-container-id-1 {color: black;background-color: white;}#sk-container-id-1 pre{padding: 0;}#sk-container-id-1 div.sk-toggleable {background-color: white;}#sk-container-id-1 label.sk-toggleable__label {cursor: pointer;display: block;width: 100%;margin-bottom: 0;padding: 0.3em;box-sizing: border-box;text-align: center;}#sk-container-id-1 label.sk-toggleable__label-arrow:before {content: \"▸\";float: left;margin-right: 0.25em;color: #696969;}#sk-container-id-1 label.sk-toggleable__label-arrow:hover:before {color: black;}#sk-container-id-1 div.sk-estimator:hover label.sk-toggleable__label-arrow:before {color: black;}#sk-container-id-1 div.sk-toggleable__content {max-height: 0;max-width: 0;overflow: hidden;text-align: left;background-color: #f0f8ff;}#sk-container-id-1 div.sk-toggleable__content pre {margin: 0.2em;color: black;border-radius: 0.25em;background-color: #f0f8ff;}#sk-container-id-1 input.sk-toggleable__control:checked~div.sk-toggleable__content {max-height: 200px;max-width: 100%;overflow: auto;}#sk-container-id-1 input.sk-toggleable__control:checked~label.sk-toggleable__label-arrow:before {content: \"▾\";}#sk-container-id-1 div.sk-estimator input.sk-toggleable__control:checked~label.sk-toggleable__label {background-color: #d4ebff;}#sk-container-id-1 div.sk-label input.sk-toggleable__control:checked~label.sk-toggleable__label {background-color: #d4ebff;}#sk-container-id-1 input.sk-hidden--visually {border: 0;clip: rect(1px 1px 1px 1px);clip: rect(1px, 1px, 1px, 1px);height: 1px;margin: -1px;overflow: hidden;padding: 0;position: absolute;width: 1px;}#sk-container-id-1 div.sk-estimator {font-family: monospace;background-color: #f0f8ff;border: 1px dotted black;border-radius: 0.25em;box-sizing: border-box;margin-bottom: 0.5em;}#sk-container-id-1 div.sk-estimator:hover {background-color: #d4ebff;}#sk-container-id-1 div.sk-parallel-item::after {content: \"\";width: 100%;border-bottom: 1px solid gray;flex-grow: 1;}#sk-container-id-1 div.sk-label:hover label.sk-toggleable__label {background-color: #d4ebff;}#sk-container-id-1 div.sk-serial::before {content: \"\";position: absolute;border-left: 1px solid gray;box-sizing: border-box;top: 0;bottom: 0;left: 50%;z-index: 0;}#sk-container-id-1 div.sk-serial {display: flex;flex-direction: column;align-items: center;background-color: white;padding-right: 0.2em;padding-left: 0.2em;position: relative;}#sk-container-id-1 div.sk-item {position: relative;z-index: 1;}#sk-container-id-1 div.sk-parallel {display: flex;align-items: stretch;justify-content: center;background-color: white;position: relative;}#sk-container-id-1 div.sk-item::before, #sk-container-id-1 div.sk-parallel-item::before {content: \"\";position: absolute;border-left: 1px solid gray;box-sizing: border-box;top: 0;bottom: 0;left: 50%;z-index: -1;}#sk-container-id-1 div.sk-parallel-item {display: flex;flex-direction: column;z-index: 1;position: relative;background-color: white;}#sk-container-id-1 div.sk-parallel-item:first-child::after {align-self: flex-end;width: 50%;}#sk-container-id-1 div.sk-parallel-item:last-child::after {align-self: flex-start;width: 50%;}#sk-container-id-1 div.sk-parallel-item:only-child::after {width: 0;}#sk-container-id-1 div.sk-dashed-wrapped {border: 1px dashed gray;margin: 0 0.4em 0.5em 0.4em;box-sizing: border-box;padding-bottom: 0.4em;background-color: white;}#sk-container-id-1 div.sk-label label {font-family: monospace;font-weight: bold;display: inline-block;line-height: 1.2em;}#sk-container-id-1 div.sk-label-container {text-align: center;}#sk-container-id-1 div.sk-container {/* jupyter's `normalize.less` sets `[hidden] { display: none; }` but bootstrap.min.css set `[hidden] { display: none !important; }` so we also need the `!important` here to be able to override the default hidden behavior on the sphinx rendered scikit-learn.org. See: https://github.com/scikit-learn/scikit-learn/issues/21755 */display: inline-block !important;position: relative;}#sk-container-id-1 div.sk-text-repr-fallback {display: none;}</style><div id=\"sk-container-id-1\" class=\"sk-top-container\"><div class=\"sk-text-repr-fallback\"><pre>RandomForestClassifier(max_depth=100, n_estimators=200)</pre><b>In a Jupyter environment, please rerun this cell to show the HTML representation or trust the notebook. <br />On GitHub, the HTML representation is unable to render, please try loading this page with nbviewer.org.</b></div><div class=\"sk-container\" hidden><div class=\"sk-item\"><div class=\"sk-estimator sk-toggleable\"><input class=\"sk-toggleable__control sk-hidden--visually\" id=\"sk-estimator-id-1\" type=\"checkbox\" checked><label for=\"sk-estimator-id-1\" class=\"sk-toggleable__label sk-toggleable__label-arrow\">RandomForestClassifier</label><div class=\"sk-toggleable__content\"><pre>RandomForestClassifier(max_depth=100, n_estimators=200)</pre></div></div></div></div></div>"
      ],
      "text/plain": [
       "RandomForestClassifier(max_depth=100, n_estimators=200)"
      ]
     },
     "execution_count": 15,
     "metadata": {},
     "output_type": "execute_result"
    }
   ],
   "source": [
    "random_forest = RandomForestClassifier(n_estimators=200, max_depth=100)\n",
    "random_forest.fit(x_train, y_train)\n"
   ]
  },
  {
   "cell_type": "code",
   "execution_count": 30,
   "metadata": {},
   "outputs": [
    {
     "name": "stdout",
     "output_type": "stream",
     "text": [
      "[[ 0.62552806  0.79032271 -1.45471355  1.24320929  0.53310919  1.19319058\n",
      "   0.55342163  1.98938095]]\n",
      "[0]\n"
     ]
    }
   ],
   "source": [
    "print(scaled_data_first)\n",
    "y_predict = random_forest.predict(scaled_data_first)\n",
    "print(y_predict)"
   ]
  },
  {
   "cell_type": "code",
   "execution_count": 17,
   "metadata": {},
   "outputs": [
    {
     "name": "stdout",
     "output_type": "stream",
     "text": [
      "Random Forest Accuracy:  0.832\n"
     ]
    }
   ],
   "source": [
    "ApplyModel(x_train, x_test, y_train, y_test)"
   ]
  },
  {
   "cell_type": "code",
   "execution_count": 18,
   "metadata": {},
   "outputs": [
    {
     "ename": "KeyboardInterrupt",
     "evalue": "",
     "output_type": "error",
     "traceback": [
      "\u001b[0;31m---------------------------------------------------------------------------\u001b[0m",
      "\u001b[0;31mKeyboardInterrupt\u001b[0m                         Traceback (most recent call last)",
      "\u001b[1;32m/Users/yaseen/developer/AI/AI_Orange_Course/Assigment_2/models_regression.ipynb Cell 14\u001b[0m line \u001b[0;36m3\n\u001b[1;32m      <a href='vscode-notebook-cell:/Users/yaseen/developer/AI/AI_Orange_Course/Assigment_2/models_regression.ipynb#X15sZmlsZQ%3D%3D?line=0'>1</a>\u001b[0m sm \u001b[39m=\u001b[39m SMOTE(k_neighbors\u001b[39m=\u001b[39m\u001b[39m5\u001b[39m)\n\u001b[1;32m      <a href='vscode-notebook-cell:/Users/yaseen/developer/AI/AI_Orange_Course/Assigment_2/models_regression.ipynb#X15sZmlsZQ%3D%3D?line=1'>2</a>\u001b[0m x_train_sm,y_train_sm\u001b[39m=\u001b[39msm\u001b[39m.\u001b[39mfit_resample(x_train,y_train)\n\u001b[0;32m----> <a href='vscode-notebook-cell:/Users/yaseen/developer/AI/AI_Orange_Course/Assigment_2/models_regression.ipynb#X15sZmlsZQ%3D%3D?line=2'>3</a>\u001b[0m ApplyModel(x_train_sm, x_test, y_train_sm, y_test)\n",
      "\u001b[1;32m/Users/yaseen/developer/AI/AI_Orange_Course/Assigment_2/models_regression.ipynb Cell 14\u001b[0m line \u001b[0;36m3\n\u001b[1;32m      <a href='vscode-notebook-cell:/Users/yaseen/developer/AI/AI_Orange_Course/Assigment_2/models_regression.ipynb#X15sZmlsZQ%3D%3D?line=0'>1</a>\u001b[0m \u001b[39mdef\u001b[39;00m \u001b[39mApplyModel\u001b[39m(x_train, x_test, y_train, y_test):\n\u001b[1;32m      <a href='vscode-notebook-cell:/Users/yaseen/developer/AI/AI_Orange_Course/Assigment_2/models_regression.ipynb#X15sZmlsZQ%3D%3D?line=1'>2</a>\u001b[0m     random_forest \u001b[39m=\u001b[39m RandomForestClassifier(n_estimators\u001b[39m=\u001b[39m\u001b[39m200\u001b[39m, max_depth\u001b[39m=\u001b[39m\u001b[39m100\u001b[39m)\n\u001b[0;32m----> <a href='vscode-notebook-cell:/Users/yaseen/developer/AI/AI_Orange_Course/Assigment_2/models_regression.ipynb#X15sZmlsZQ%3D%3D?line=2'>3</a>\u001b[0m     random_forest\u001b[39m.\u001b[39;49mfit(x_train, y_train)\n\u001b[1;32m      <a href='vscode-notebook-cell:/Users/yaseen/developer/AI/AI_Orange_Course/Assigment_2/models_regression.ipynb#X15sZmlsZQ%3D%3D?line=3'>4</a>\u001b[0m     y_pred \u001b[39m=\u001b[39m random_forest\u001b[39m.\u001b[39mpredict(x_test)\n\u001b[1;32m      <a href='vscode-notebook-cell:/Users/yaseen/developer/AI/AI_Orange_Course/Assigment_2/models_regression.ipynb#X15sZmlsZQ%3D%3D?line=4'>5</a>\u001b[0m     \u001b[39mprint\u001b[39m(\u001b[39m\"\u001b[39m\u001b[39mRandom Forest Accuracy: \u001b[39m\u001b[39m\"\u001b[39m, accuracy_score(y_test, y_pred))\n",
      "File \u001b[0;32m~/developer/AI/AI_Orange_Course/.venv/lib/python3.10/site-packages/sklearn/ensemble/_forest.py:473\u001b[0m, in \u001b[0;36mBaseForest.fit\u001b[0;34m(self, X, y, sample_weight)\u001b[0m\n\u001b[1;32m    462\u001b[0m trees \u001b[39m=\u001b[39m [\n\u001b[1;32m    463\u001b[0m     \u001b[39mself\u001b[39m\u001b[39m.\u001b[39m_make_estimator(append\u001b[39m=\u001b[39m\u001b[39mFalse\u001b[39;00m, random_state\u001b[39m=\u001b[39mrandom_state)\n\u001b[1;32m    464\u001b[0m     \u001b[39mfor\u001b[39;00m i \u001b[39min\u001b[39;00m \u001b[39mrange\u001b[39m(n_more_estimators)\n\u001b[1;32m    465\u001b[0m ]\n\u001b[1;32m    467\u001b[0m \u001b[39m# Parallel loop: we prefer the threading backend as the Cython code\u001b[39;00m\n\u001b[1;32m    468\u001b[0m \u001b[39m# for fitting the trees is internally releasing the Python GIL\u001b[39;00m\n\u001b[1;32m    469\u001b[0m \u001b[39m# making threading more efficient than multiprocessing in\u001b[39;00m\n\u001b[1;32m    470\u001b[0m \u001b[39m# that case. However, for joblib 0.12+ we respect any\u001b[39;00m\n\u001b[1;32m    471\u001b[0m \u001b[39m# parallel_backend contexts set at a higher level,\u001b[39;00m\n\u001b[1;32m    472\u001b[0m \u001b[39m# since correctness does not rely on using threads.\u001b[39;00m\n\u001b[0;32m--> 473\u001b[0m trees \u001b[39m=\u001b[39m Parallel(\n\u001b[1;32m    474\u001b[0m     n_jobs\u001b[39m=\u001b[39;49m\u001b[39mself\u001b[39;49m\u001b[39m.\u001b[39;49mn_jobs,\n\u001b[1;32m    475\u001b[0m     verbose\u001b[39m=\u001b[39;49m\u001b[39mself\u001b[39;49m\u001b[39m.\u001b[39;49mverbose,\n\u001b[1;32m    476\u001b[0m     prefer\u001b[39m=\u001b[39;49m\u001b[39m\"\u001b[39;49m\u001b[39mthreads\u001b[39;49m\u001b[39m\"\u001b[39;49m,\n\u001b[1;32m    477\u001b[0m )(\n\u001b[1;32m    478\u001b[0m     delayed(_parallel_build_trees)(\n\u001b[1;32m    479\u001b[0m         t,\n\u001b[1;32m    480\u001b[0m         \u001b[39mself\u001b[39;49m\u001b[39m.\u001b[39;49mbootstrap,\n\u001b[1;32m    481\u001b[0m         X,\n\u001b[1;32m    482\u001b[0m         y,\n\u001b[1;32m    483\u001b[0m         sample_weight,\n\u001b[1;32m    484\u001b[0m         i,\n\u001b[1;32m    485\u001b[0m         \u001b[39mlen\u001b[39;49m(trees),\n\u001b[1;32m    486\u001b[0m         verbose\u001b[39m=\u001b[39;49m\u001b[39mself\u001b[39;49m\u001b[39m.\u001b[39;49mverbose,\n\u001b[1;32m    487\u001b[0m         class_weight\u001b[39m=\u001b[39;49m\u001b[39mself\u001b[39;49m\u001b[39m.\u001b[39;49mclass_weight,\n\u001b[1;32m    488\u001b[0m         n_samples_bootstrap\u001b[39m=\u001b[39;49mn_samples_bootstrap,\n\u001b[1;32m    489\u001b[0m     )\n\u001b[1;32m    490\u001b[0m     \u001b[39mfor\u001b[39;49;00m i, t \u001b[39min\u001b[39;49;00m \u001b[39menumerate\u001b[39;49m(trees)\n\u001b[1;32m    491\u001b[0m )\n\u001b[1;32m    493\u001b[0m \u001b[39m# Collect newly grown trees\u001b[39;00m\n\u001b[1;32m    494\u001b[0m \u001b[39mself\u001b[39m\u001b[39m.\u001b[39mestimators_\u001b[39m.\u001b[39mextend(trees)\n",
      "File \u001b[0;32m~/developer/AI/AI_Orange_Course/.venv/lib/python3.10/site-packages/sklearn/utils/parallel.py:63\u001b[0m, in \u001b[0;36mParallel.__call__\u001b[0;34m(self, iterable)\u001b[0m\n\u001b[1;32m     58\u001b[0m config \u001b[39m=\u001b[39m get_config()\n\u001b[1;32m     59\u001b[0m iterable_with_config \u001b[39m=\u001b[39m (\n\u001b[1;32m     60\u001b[0m     (_with_config(delayed_func, config), args, kwargs)\n\u001b[1;32m     61\u001b[0m     \u001b[39mfor\u001b[39;00m delayed_func, args, kwargs \u001b[39min\u001b[39;00m iterable\n\u001b[1;32m     62\u001b[0m )\n\u001b[0;32m---> 63\u001b[0m \u001b[39mreturn\u001b[39;00m \u001b[39msuper\u001b[39;49m()\u001b[39m.\u001b[39;49m\u001b[39m__call__\u001b[39;49m(iterable_with_config)\n",
      "File \u001b[0;32m~/developer/AI/AI_Orange_Course/.venv/lib/python3.10/site-packages/joblib/parallel.py:1863\u001b[0m, in \u001b[0;36mParallel.__call__\u001b[0;34m(self, iterable)\u001b[0m\n\u001b[1;32m   1861\u001b[0m     output \u001b[39m=\u001b[39m \u001b[39mself\u001b[39m\u001b[39m.\u001b[39m_get_sequential_output(iterable)\n\u001b[1;32m   1862\u001b[0m     \u001b[39mnext\u001b[39m(output)\n\u001b[0;32m-> 1863\u001b[0m     \u001b[39mreturn\u001b[39;00m output \u001b[39mif\u001b[39;00m \u001b[39mself\u001b[39m\u001b[39m.\u001b[39mreturn_generator \u001b[39melse\u001b[39;00m \u001b[39mlist\u001b[39;49m(output)\n\u001b[1;32m   1865\u001b[0m \u001b[39m# Let's create an ID that uniquely identifies the current call. If the\u001b[39;00m\n\u001b[1;32m   1866\u001b[0m \u001b[39m# call is interrupted early and that the same instance is immediately\u001b[39;00m\n\u001b[1;32m   1867\u001b[0m \u001b[39m# re-used, this id will be used to prevent workers that were\u001b[39;00m\n\u001b[1;32m   1868\u001b[0m \u001b[39m# concurrently finalizing a task from the previous call to run the\u001b[39;00m\n\u001b[1;32m   1869\u001b[0m \u001b[39m# callback.\u001b[39;00m\n\u001b[1;32m   1870\u001b[0m \u001b[39mwith\u001b[39;00m \u001b[39mself\u001b[39m\u001b[39m.\u001b[39m_lock:\n",
      "File \u001b[0;32m~/developer/AI/AI_Orange_Course/.venv/lib/python3.10/site-packages/joblib/parallel.py:1792\u001b[0m, in \u001b[0;36mParallel._get_sequential_output\u001b[0;34m(self, iterable)\u001b[0m\n\u001b[1;32m   1790\u001b[0m \u001b[39mself\u001b[39m\u001b[39m.\u001b[39mn_dispatched_batches \u001b[39m+\u001b[39m\u001b[39m=\u001b[39m \u001b[39m1\u001b[39m\n\u001b[1;32m   1791\u001b[0m \u001b[39mself\u001b[39m\u001b[39m.\u001b[39mn_dispatched_tasks \u001b[39m+\u001b[39m\u001b[39m=\u001b[39m \u001b[39m1\u001b[39m\n\u001b[0;32m-> 1792\u001b[0m res \u001b[39m=\u001b[39m func(\u001b[39m*\u001b[39;49margs, \u001b[39m*\u001b[39;49m\u001b[39m*\u001b[39;49mkwargs)\n\u001b[1;32m   1793\u001b[0m \u001b[39mself\u001b[39m\u001b[39m.\u001b[39mn_completed_tasks \u001b[39m+\u001b[39m\u001b[39m=\u001b[39m \u001b[39m1\u001b[39m\n\u001b[1;32m   1794\u001b[0m \u001b[39mself\u001b[39m\u001b[39m.\u001b[39mprint_progress()\n",
      "File \u001b[0;32m~/developer/AI/AI_Orange_Course/.venv/lib/python3.10/site-packages/sklearn/utils/parallel.py:123\u001b[0m, in \u001b[0;36m_FuncWrapper.__call__\u001b[0;34m(self, *args, **kwargs)\u001b[0m\n\u001b[1;32m    121\u001b[0m     config \u001b[39m=\u001b[39m {}\n\u001b[1;32m    122\u001b[0m \u001b[39mwith\u001b[39;00m config_context(\u001b[39m*\u001b[39m\u001b[39m*\u001b[39mconfig):\n\u001b[0;32m--> 123\u001b[0m     \u001b[39mreturn\u001b[39;00m \u001b[39mself\u001b[39;49m\u001b[39m.\u001b[39;49mfunction(\u001b[39m*\u001b[39;49margs, \u001b[39m*\u001b[39;49m\u001b[39m*\u001b[39;49mkwargs)\n",
      "File \u001b[0;32m~/developer/AI/AI_Orange_Course/.venv/lib/python3.10/site-packages/sklearn/ensemble/_forest.py:184\u001b[0m, in \u001b[0;36m_parallel_build_trees\u001b[0;34m(tree, bootstrap, X, y, sample_weight, tree_idx, n_trees, verbose, class_weight, n_samples_bootstrap)\u001b[0m\n\u001b[1;32m    181\u001b[0m     \u001b[39melif\u001b[39;00m class_weight \u001b[39m==\u001b[39m \u001b[39m\"\u001b[39m\u001b[39mbalanced_subsample\u001b[39m\u001b[39m\"\u001b[39m:\n\u001b[1;32m    182\u001b[0m         curr_sample_weight \u001b[39m*\u001b[39m\u001b[39m=\u001b[39m compute_sample_weight(\u001b[39m\"\u001b[39m\u001b[39mbalanced\u001b[39m\u001b[39m\"\u001b[39m, y, indices\u001b[39m=\u001b[39mindices)\n\u001b[0;32m--> 184\u001b[0m     tree\u001b[39m.\u001b[39;49mfit(X, y, sample_weight\u001b[39m=\u001b[39;49mcurr_sample_weight, check_input\u001b[39m=\u001b[39;49m\u001b[39mFalse\u001b[39;49;00m)\n\u001b[1;32m    185\u001b[0m \u001b[39melse\u001b[39;00m:\n\u001b[1;32m    186\u001b[0m     tree\u001b[39m.\u001b[39mfit(X, y, sample_weight\u001b[39m=\u001b[39msample_weight, check_input\u001b[39m=\u001b[39m\u001b[39mFalse\u001b[39;00m)\n",
      "File \u001b[0;32m~/developer/AI/AI_Orange_Course/.venv/lib/python3.10/site-packages/sklearn/tree/_classes.py:889\u001b[0m, in \u001b[0;36mDecisionTreeClassifier.fit\u001b[0;34m(self, X, y, sample_weight, check_input)\u001b[0m\n\u001b[1;32m    859\u001b[0m \u001b[39mdef\u001b[39;00m \u001b[39mfit\u001b[39m(\u001b[39mself\u001b[39m, X, y, sample_weight\u001b[39m=\u001b[39m\u001b[39mNone\u001b[39;00m, check_input\u001b[39m=\u001b[39m\u001b[39mTrue\u001b[39;00m):\n\u001b[1;32m    860\u001b[0m \u001b[39m    \u001b[39m\u001b[39m\"\"\"Build a decision tree classifier from the training set (X, y).\u001b[39;00m\n\u001b[1;32m    861\u001b[0m \n\u001b[1;32m    862\u001b[0m \u001b[39m    Parameters\u001b[39;00m\n\u001b[0;32m   (...)\u001b[0m\n\u001b[1;32m    886\u001b[0m \u001b[39m        Fitted estimator.\u001b[39;00m\n\u001b[1;32m    887\u001b[0m \u001b[39m    \"\"\"\u001b[39;00m\n\u001b[0;32m--> 889\u001b[0m     \u001b[39msuper\u001b[39;49m()\u001b[39m.\u001b[39;49mfit(\n\u001b[1;32m    890\u001b[0m         X,\n\u001b[1;32m    891\u001b[0m         y,\n\u001b[1;32m    892\u001b[0m         sample_weight\u001b[39m=\u001b[39;49msample_weight,\n\u001b[1;32m    893\u001b[0m         check_input\u001b[39m=\u001b[39;49mcheck_input,\n\u001b[1;32m    894\u001b[0m     )\n\u001b[1;32m    895\u001b[0m     \u001b[39mreturn\u001b[39;00m \u001b[39mself\u001b[39m\n",
      "File \u001b[0;32m~/developer/AI/AI_Orange_Course/.venv/lib/python3.10/site-packages/sklearn/tree/_classes.py:379\u001b[0m, in \u001b[0;36mBaseDecisionTree.fit\u001b[0;34m(self, X, y, sample_weight, check_input)\u001b[0m\n\u001b[1;32m    368\u001b[0m \u001b[39melse\u001b[39;00m:\n\u001b[1;32m    369\u001b[0m     builder \u001b[39m=\u001b[39m BestFirstTreeBuilder(\n\u001b[1;32m    370\u001b[0m         splitter,\n\u001b[1;32m    371\u001b[0m         min_samples_split,\n\u001b[0;32m   (...)\u001b[0m\n\u001b[1;32m    376\u001b[0m         \u001b[39mself\u001b[39m\u001b[39m.\u001b[39mmin_impurity_decrease,\n\u001b[1;32m    377\u001b[0m     )\n\u001b[0;32m--> 379\u001b[0m builder\u001b[39m.\u001b[39;49mbuild(\u001b[39mself\u001b[39;49m\u001b[39m.\u001b[39;49mtree_, X, y, sample_weight)\n\u001b[1;32m    381\u001b[0m \u001b[39mif\u001b[39;00m \u001b[39mself\u001b[39m\u001b[39m.\u001b[39mn_outputs_ \u001b[39m==\u001b[39m \u001b[39m1\u001b[39m \u001b[39mand\u001b[39;00m is_classifier(\u001b[39mself\u001b[39m):\n\u001b[1;32m    382\u001b[0m     \u001b[39mself\u001b[39m\u001b[39m.\u001b[39mn_classes_ \u001b[39m=\u001b[39m \u001b[39mself\u001b[39m\u001b[39m.\u001b[39mn_classes_[\u001b[39m0\u001b[39m]\n",
      "\u001b[0;31mKeyboardInterrupt\u001b[0m: "
     ]
    }
   ],
   "source": [
    "sm = SMOTE(k_neighbors=5)\n",
    "x_train_sm,y_train_sm=sm.fit_resample(x_train,y_train)\n",
    "ApplyModel(x_train_sm, x_test, y_train_sm, y_test)"
   ]
  },
  {
   "cell_type": "code",
   "execution_count": null,
   "metadata": {},
   "outputs": [
    {
     "name": "stdout",
     "output_type": "stream",
     "text": [
      "{'Age': 0.83015, 'Annual_Income': 0.8319, 'Monthly_Inhand_Salary': 0.83195, 'Num_Bank_Accounts': 0.8315, 'Credit_Utilization': 0.8227, 'Net_Monthly_Savings': 0.8323, 'Amount_invested_monthly': 0.83175, 'Total_EMI_per_month': 0.8311, 'Payment_of_Min_Amount': 0.8313, 'Num_Credit_Inquiries': 0.8302, 'Changed_Credit_Limit': 0.81965, 'Num_of_Delayed_Payment': 0.8209, 'Delay_from_due_date': 0.8223, 'Num_of_Loan': 0.8314, 'Payment_Behaviour': 0.80715, 'Monthly_Balance': 0.81445, 'Debt_to_Income_Ratio': 0.8316, 'EMI_to_Income_Ratio': 0.83115, 'Investment_to_Income_Ratio': 0.8317, 'Loan_to_Income_Ratio': 0.8318, 'Total_Financial_Obligations': 0.83105}\n"
     ]
    }
   ],
   "source": [
    "classifiy = {\n",
    "   \"Age\":0.83015,\n",
    "   \"Annual_Income\":0.8319,\n",
    "   \"Monthly_Inhand_Salary\":0.83195,\n",
    "   \"Num_Bank_Accounts\":0.8315,\n",
    "   \"Credit_Utilization\":0.8227,\n",
    "   \"Net_Monthly_Savings\":0.8323,\n",
    "   \"Amount_invested_monthly\":0.83175,\n",
    "   \"Total_EMI_per_month\":0.8311,\n",
    "   \"Payment_of_Min_Amount\":0.8313,\n",
    "   \"Num_Credit_Inquiries\":0.8302,\n",
    "   \"Changed_Credit_Limit\":0.81965,\n",
    "   \"Num_of_Delayed_Payment\":0.8209,\n",
    "   \"Delay_from_due_date\":0.8223,\n",
    "   \"Num_of_Loan\":0.8314,\n",
    "   \"Payment_Behaviour\":0.80715,\n",
    "   \"Monthly_Balance\":0.81445,\n",
    "   \"Debt_to_Income_Ratio\":0.8316,\n",
    "   \"EMI_to_Income_Ratio\":0.83115,\n",
    "   \"Investment_to_Income_Ratio\":0.8317,\n",
    "   \"Loan_to_Income_Ratio\":0.8318,\n",
    "   \"Total_Financial_Obligations\":0.83105,\n",
    "}\n",
    "print(classifiy) \n"
   ]
  }
 ],
 "metadata": {
  "kernelspec": {
   "display_name": ".venv",
   "language": "python",
   "name": "python3"
  },
  "language_info": {
   "codemirror_mode": {
    "name": "ipython",
    "version": 3
   },
   "file_extension": ".py",
   "mimetype": "text/x-python",
   "name": "python",
   "nbconvert_exporter": "python",
   "pygments_lexer": "ipython3",
   "version": "3.10.10"
  },
  "orig_nbformat": 4
 },
 "nbformat": 4,
 "nbformat_minor": 2
}
