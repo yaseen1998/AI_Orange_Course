{
 "cells": [
  {
   "cell_type": "code",
   "execution_count": 1,
   "metadata": {},
   "outputs": [],
   "source": [
    "import pandas as pd\n",
    "from scipy.stats import pearsonr\n",
    "import matplotlib.pyplot as plt\n",
    "import json"
   ]
  },
  {
   "cell_type": "code",
   "execution_count": 2,
   "metadata": {},
   "outputs": [],
   "source": [
    "def Convert_y_to_numeric(y):\n",
    "    unique_value = y.unique()\n",
    "    mapping = {}\n",
    "    for i in range(len(unique_value)):\n",
    "        mapping[unique_value[i]] = i+1\n",
    "    y = y.map(mapping)\n",
    "    return y"
   ]
  },
  {
   "cell_type": "code",
   "execution_count": 3,
   "metadata": {},
   "outputs": [],
   "source": [
    "def Outliar(column_data,description_dict):\n",
    "    Q1 = column_data.quantile(0.25)\n",
    "    Q3 = column_data.quantile(0.75)\n",
    "    IQR = Q3 - Q1\n",
    "    lowerBand = Q1 - 1.5 * IQR\n",
    "    upperBand = Q3 + 1.5 * IQR\n",
    "    outlier_lower = column_data[(column_data < lowerBand)]\n",
    "    outlier_upper = column_data[(column_data > upperBand)]\n",
    "    description_dict[\"outlier\"] = {\n",
    "        \"lower\": len(outlier_lower),\n",
    "        \"upper\": len(outlier_upper),\n",
    "        \"Q1\": Q1,\n",
    "        \"Q3\": Q3,\n",
    "        \"IQR\": IQR,\n",
    "        \"total\": len(outlier_lower) + len(outlier_upper),\n",
    "    }\n",
    "    \n",
    "    return description_dict"
   ]
  },
  {
   "cell_type": "code",
   "execution_count": 4,
   "metadata": {},
   "outputs": [],
   "source": [
    "def Column_Description(column_data,result,column):\n",
    "    description = column_data.describe()\n",
    "    description_dict = description.to_dict()\n",
    "    # number of null values\n",
    "    description_dict['null'] = str(column_data.isnull().sum())\n",
    "    result['column'][column]=Outliar(column_data,description_dict)"
   ]
  },
  {
   "cell_type": "code",
   "execution_count": 5,
   "metadata": {},
   "outputs": [],
   "source": [
    "def Hypothesis_testing(column_data, y,result,column):\n",
    "    p_value = pearsonr(column_data, y)[1]\n",
    "    if p_value > 0.04:\n",
    "        if \"remove_colmn\" not in result:\n",
    "            result[\"remove_colmn\"] = {\n",
    "                \"column\": [],\n",
    "                \"reason\": \"p_value > 0.04\"\n",
    "            }\n",
    "        result[\"remove_colmn\"][\"column\"].append(column)\n",
    "    else:\n",
    "        Column_Description(column_data,result,column)"
   ]
  },
  {
   "cell_type": "code",
   "execution_count": 6,
   "metadata": {},
   "outputs": [],
   "source": [
    "def clean_data(x, y):\n",
    "    get_all_columns = x.columns\n",
    "    result = {\"column\":{}}\n",
    "    for column in get_all_columns:\n",
    "        try:\n",
    "            column_data = x[column]\n",
    "            if column_data.dtype == \"object\":\n",
    "                if \"string_column\" not in result:\n",
    "                    result[\"string_column\"] = []\n",
    "                result[\"string_column\"].append(column)\n",
    "                continue\n",
    "            Hypothesis_testing(column_data, y, result,column)\n",
    "            \n",
    "        except Exception as e:\n",
    "            continue\n",
    "    with open(\"result.json\", \"w\") as f:\n",
    "        json.dump(result, f)"
   ]
  },
  {
   "cell_type": "code",
   "execution_count": 7,
   "metadata": {},
   "outputs": [],
   "source": [
    "df = pd.read_csv(\"csv/credit_score.csv\")\n",
    "# x all columns except credit score\n",
    "x = df.iloc[:, 0:-1]\n",
    "# y credit score\n",
    "y  = df.iloc[:, -1]\n",
    "y = Convert_y_to_numeric(y)\n",
    "clean_data(x, y)"
   ]
  }
 ],
 "metadata": {
  "kernelspec": {
   "display_name": ".venv",
   "language": "python",
   "name": "python3"
  },
  "language_info": {
   "codemirror_mode": {
    "name": "ipython",
    "version": 3
   },
   "file_extension": ".py",
   "mimetype": "text/x-python",
   "name": "python",
   "nbconvert_exporter": "python",
   "pygments_lexer": "ipython3",
   "version": "3.10.10"
  },
  "orig_nbformat": 4
 },
 "nbformat": 4,
 "nbformat_minor": 2
}
