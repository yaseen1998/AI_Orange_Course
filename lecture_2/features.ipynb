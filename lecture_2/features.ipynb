{
 "cells": [
  {
   "cell_type": "code",
   "execution_count": 1,
   "metadata": {},
   "outputs": [],
   "source": [
    "import numpy as np\n",
    "import pandas as pd\n",
    "import category_encoders as ce\n",
    "from sklearn.linear_model import LinearRegression\n",
    "from sklearn.model_selection import train_test_split"
   ]
  },
  {
   "cell_type": "code",
   "execution_count": 2,
   "metadata": {},
   "outputs": [],
   "source": [
    "# Read the data 'CarPrice.csv'\n",
    "df = pd.read_csv('../csv/CarPrice.csv')"
   ]
  },
  {
   "cell_type": "code",
   "execution_count": 3,
   "metadata": {},
   "outputs": [],
   "source": [
    "# Define a list of categorical and numerical columns(separately) mentioned above.\n",
    "# Select [\"fueltype\", \"aspiration\", \"doornumber\", \"drivewheel\", \"carbody\"] as categorical columns and [\"curbweight\", \"carwidth\", \"carlength\"] as numerical columns. Target variable is 'price'\n",
    "categorical_columns = [\"fueltype\", \"aspiration\", \"doornumber\", \"drivewheel\", \"carbody\"]\n",
    "numerical_columns = [\"curbweight\", \"carwidth\", \"carlength\"]\n",
    "target_variable = 'price'\n"
   ]
  },
  {
   "cell_type": "code",
   "execution_count": 4,
   "metadata": {},
   "outputs": [],
   "source": [
    "# Choose the numerical and categorical columns to be your independent variables.\n",
    "x = df[numerical_columns + categorical_columns]\n",
    "y = df[target_variable]"
   ]
  },
  {
   "cell_type": "code",
   "execution_count": 5,
   "metadata": {},
   "outputs": [],
   "source": [
    "# Split the data into training and testing dataset.\n",
    "X_train, X_test, y_train, y_test = train_test_split(x, y, test_size=0.2, random_state=42)"
   ]
  },
  {
   "cell_type": "code",
   "execution_count": 6,
   "metadata": {},
   "outputs": [],
   "source": [
    "# Initialise the function 'get_score' with encoder, training and testing data.\n",
    "def get_score(encoder, X_train, X_test, y_train, y_test):\n",
    "    # Fit a LinearRegression() model on the transformed data.\n",
    "    model = LinearRegression()\n",
    "    model.fit(encoder.fit_transform(X_train), y_train)\n",
    "    # Return the score of the model for both training and testing dataset.\n",
    "    return model.score(encoder.transform(X_test), y_test)\n"
   ]
  },
  {
   "cell_type": "code",
   "execution_count": 7,
   "metadata": {},
   "outputs": [
    {
     "name": "stdout",
     "output_type": "stream",
     "text": [
      "Binary Encoder Score:  0.7305940762049484\n"
     ]
    }
   ],
   "source": [
    "# Use category_encoders library to define an instance of BinaryEncoder\n",
    "binary_encoder = ce.BinaryEncoder(cols=categorical_columns)\n",
    "binary_encoder.fit(X_train, y_train)\n",
    "binary_encoder_score = get_score(binary_encoder, X_train, X_test, y_train, y_test)\n",
    "print(\"Binary Encoder Score: \", binary_encoder_score)"
   ]
  },
  {
   "cell_type": "code",
   "execution_count": 8,
   "metadata": {},
   "outputs": [
    {
     "name": "stdout",
     "output_type": "stream",
     "text": [
      "OneHot Encoder Score:  0.7066290183990757\n"
     ]
    }
   ],
   "source": [
    "# Use category_encoders library to define an instance of OneHotEncoder\n",
    "onehot_encoder = ce.OneHotEncoder(cols=categorical_columns)\n",
    "onehot_encoder.fit(X_train, y_train)\n",
    "onehot_encoder_score = get_score(onehot_encoder, X_train, X_test, y_train, y_test)\n",
    "print(\"OneHot Encoder Score: \", onehot_encoder_score)"
   ]
  },
  {
   "cell_type": "code",
   "execution_count": 9,
   "metadata": {},
   "outputs": [
    {
     "name": "stdout",
     "output_type": "stream",
     "text": [
      "Hashing Encoder Score:  0.7050681516261597\n"
     ]
    }
   ],
   "source": [
    "# Use category_encoders library to define an instance of HashingEncoder\n",
    "hashing_encoder = ce.HashingEncoder(cols=categorical_columns)\n",
    "hashing_encoder.fit(X_train, y_train)\n",
    "hashing_encoder_score = get_score(hashing_encoder, X_train, X_test, y_train, y_test)\n",
    "print(\"Hashing Encoder Score: \", hashing_encoder_score)"
   ]
  }
 ],
 "metadata": {
  "kernelspec": {
   "display_name": ".venv",
   "language": "python",
   "name": "python3"
  },
  "language_info": {
   "codemirror_mode": {
    "name": "ipython",
    "version": 3
   },
   "file_extension": ".py",
   "mimetype": "text/x-python",
   "name": "python",
   "nbconvert_exporter": "python",
   "pygments_lexer": "ipython3",
   "version": "3.10.10"
  },
  "orig_nbformat": 4
 },
 "nbformat": 4,
 "nbformat_minor": 2
}
