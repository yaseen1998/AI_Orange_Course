{
 "cells": [
  {
   "cell_type": "code",
   "execution_count": 1,
   "metadata": {},
   "outputs": [],
   "source": [
    "import pandas as pd \n",
    "import numpy as np\n",
    "from sklearn.neighbors import NearestNeighbors"
   ]
  },
  {
   "cell_type": "code",
   "execution_count": 4,
   "metadata": {},
   "outputs": [
    {
     "name": "stdout",
     "output_type": "stream",
     "text": [
      "   userId  movieId  rating  timestamp\n",
      "0       1        1     4.0  964982703\n",
      "1       1        3     4.0  964981247\n",
      "2       1        6     4.0  964982224\n",
      "3       1       47     5.0  964983815\n",
      "4       1       50     5.0  964982931\n",
      "(100836, 4)\n",
      "   movieId                               title  \\\n",
      "0        1                    Toy Story (1995)   \n",
      "1        2                      Jumanji (1995)   \n",
      "2        3             Grumpier Old Men (1995)   \n",
      "3        4            Waiting to Exhale (1995)   \n",
      "4        5  Father of the Bride Part II (1995)   \n",
      "\n",
      "                                        genres  \n",
      "0  Adventure|Animation|Children|Comedy|Fantasy  \n",
      "1                   Adventure|Children|Fantasy  \n",
      "2                               Comedy|Romance  \n",
      "3                         Comedy|Drama|Romance  \n",
      "4                                       Comedy  \n",
      "(9742, 3)\n"
     ]
    }
   ],
   "source": [
    "# Read ratings.csv and drop \"timestamp\" column\n",
    "ratings = pd.read_csv('../csv/ratings.csv')\n",
    "print(ratings.head())\n",
    "print(ratings.shape)\n",
    "  \n",
    "# Read movies.csv and drop \"genres\" column\n",
    "movies = pd.read_csv('../csv/movies.csv')\n",
    "print(movies.head())\n",
    "print(movies.shape)"
   ]
  },
  {
   "cell_type": "code",
   "execution_count": 3,
   "metadata": {},
   "outputs": [
    {
     "name": "stdout",
     "output_type": "stream",
     "text": [
      "   userId  movieId  rating   timestamp             title  \\\n",
      "0       1        1     4.0   964982703  Toy Story (1995)   \n",
      "1       5        1     4.0   847434962  Toy Story (1995)   \n",
      "2       7        1     4.5  1106635946  Toy Story (1995)   \n",
      "3      15        1     2.5  1510577970  Toy Story (1995)   \n",
      "4      17        1     4.5  1305696483  Toy Story (1995)   \n",
      "\n",
      "                                        genres  \n",
      "0  Adventure|Animation|Children|Comedy|Fantasy  \n",
      "1  Adventure|Animation|Children|Comedy|Fantasy  \n",
      "2  Adventure|Animation|Children|Comedy|Fantasy  \n",
      "3  Adventure|Animation|Children|Comedy|Fantasy  \n",
      "4  Adventure|Animation|Children|Comedy|Fantasy  \n"
     ]
    }
   ],
   "source": [
    "# Join the two dataframes on movieId\n",
    "df = pd.merge(ratings, movies, on='movieId')\n",
    "print(df.head())"
   ]
  },
  {
   "cell_type": "code",
   "execution_count": 16,
   "metadata": {},
   "outputs": [
    {
     "name": "stdout",
     "output_type": "stream",
     "text": [
      "userId   1    2    3    4    5    6    7    8    9    10   ...  601  602  603  \\\n",
      "movieId                                                    ...                  \n",
      "1        4.0  0.0  0.0  0.0  4.0  0.0  4.5  0.0  0.0  0.0  ...  4.0  0.0  4.0   \n",
      "2        0.0  0.0  0.0  0.0  0.0  4.0  0.0  4.0  0.0  0.0  ...  0.0  4.0  0.0   \n",
      "3        4.0  0.0  0.0  0.0  0.0  5.0  0.0  0.0  0.0  0.0  ...  0.0  0.0  0.0   \n",
      "4        0.0  0.0  0.0  0.0  0.0  3.0  0.0  0.0  0.0  0.0  ...  0.0  0.0  0.0   \n",
      "5        0.0  0.0  0.0  0.0  0.0  5.0  0.0  0.0  0.0  0.0  ...  0.0  0.0  0.0   \n",
      "\n",
      "userId   604  605  606  607  608  609  610  \n",
      "movieId                                     \n",
      "1        3.0  4.0  2.5  4.0  2.5  3.0  5.0  \n",
      "2        5.0  3.5  0.0  0.0  2.0  0.0  0.0  \n",
      "3        0.0  0.0  0.0  0.0  2.0  0.0  0.0  \n",
      "4        0.0  0.0  0.0  0.0  0.0  0.0  0.0  \n",
      "5        3.0  0.0  0.0  0.0  0.0  0.0  0.0  \n",
      "\n",
      "[5 rows x 610 columns]\n"
     ]
    },
    {
     "ename": "KeyboardInterrupt",
     "evalue": "",
     "output_type": "error",
     "traceback": [
      "\u001b[0;31m---------------------------------------------------------------------------\u001b[0m",
      "\u001b[0;31mKeyboardInterrupt\u001b[0m                         Traceback (most recent call last)",
      "Cell \u001b[0;32mIn[16], line 9\u001b[0m\n\u001b[1;32m      7\u001b[0m \u001b[39mprint\u001b[39m(pivot_table\u001b[39m.\u001b[39mhead())\n\u001b[1;32m      8\u001b[0m \u001b[39m# store the pivot table in a excel file\u001b[39;00m\n\u001b[0;32m----> 9\u001b[0m pivot_table\u001b[39m.\u001b[39;49mto_excel(\u001b[39m'\u001b[39;49m\u001b[39m../csv/pivot_table.xlsx\u001b[39;49m\u001b[39m'\u001b[39;49m)\n\u001b[1;32m     10\u001b[0m movie_id_ \u001b[39m=\u001b[39m \u001b[39m318\u001b[39m\n\u001b[1;32m     11\u001b[0m \u001b[39m# get data of the movie with id 318\u001b[39;00m\n",
      "File \u001b[0;32m~/developer/AI/AI_Orange_Course/.venv/lib/python3.10/site-packages/pandas/core/generic.py:2252\u001b[0m, in \u001b[0;36mNDFrame.to_excel\u001b[0;34m(self, excel_writer, sheet_name, na_rep, float_format, columns, header, index, index_label, startrow, startcol, engine, merge_cells, inf_rep, freeze_panes, storage_options)\u001b[0m\n\u001b[1;32m   2239\u001b[0m \u001b[39mfrom\u001b[39;00m \u001b[39mpandas\u001b[39;00m\u001b[39m.\u001b[39;00m\u001b[39mio\u001b[39;00m\u001b[39m.\u001b[39;00m\u001b[39mformats\u001b[39;00m\u001b[39m.\u001b[39;00m\u001b[39mexcel\u001b[39;00m \u001b[39mimport\u001b[39;00m ExcelFormatter\n\u001b[1;32m   2241\u001b[0m formatter \u001b[39m=\u001b[39m ExcelFormatter(\n\u001b[1;32m   2242\u001b[0m     df,\n\u001b[1;32m   2243\u001b[0m     na_rep\u001b[39m=\u001b[39mna_rep,\n\u001b[0;32m   (...)\u001b[0m\n\u001b[1;32m   2250\u001b[0m     inf_rep\u001b[39m=\u001b[39minf_rep,\n\u001b[1;32m   2251\u001b[0m )\n\u001b[0;32m-> 2252\u001b[0m formatter\u001b[39m.\u001b[39;49mwrite(\n\u001b[1;32m   2253\u001b[0m     excel_writer,\n\u001b[1;32m   2254\u001b[0m     sheet_name\u001b[39m=\u001b[39;49msheet_name,\n\u001b[1;32m   2255\u001b[0m     startrow\u001b[39m=\u001b[39;49mstartrow,\n\u001b[1;32m   2256\u001b[0m     startcol\u001b[39m=\u001b[39;49mstartcol,\n\u001b[1;32m   2257\u001b[0m     freeze_panes\u001b[39m=\u001b[39;49mfreeze_panes,\n\u001b[1;32m   2258\u001b[0m     engine\u001b[39m=\u001b[39;49mengine,\n\u001b[1;32m   2259\u001b[0m     storage_options\u001b[39m=\u001b[39;49mstorage_options,\n\u001b[1;32m   2260\u001b[0m )\n",
      "File \u001b[0;32m~/developer/AI/AI_Orange_Course/.venv/lib/python3.10/site-packages/pandas/io/formats/excel.py:950\u001b[0m, in \u001b[0;36mExcelFormatter.write\u001b[0;34m(self, writer, sheet_name, startrow, startcol, freeze_panes, engine, storage_options)\u001b[0m\n\u001b[1;32m    947\u001b[0m \u001b[39mfinally\u001b[39;00m:\n\u001b[1;32m    948\u001b[0m     \u001b[39m# make sure to close opened file handles\u001b[39;00m\n\u001b[1;32m    949\u001b[0m     \u001b[39mif\u001b[39;00m need_save:\n\u001b[0;32m--> 950\u001b[0m         writer\u001b[39m.\u001b[39;49mclose()\n",
      "File \u001b[0;32m~/developer/AI/AI_Orange_Course/.venv/lib/python3.10/site-packages/pandas/io/excel/_base.py:1326\u001b[0m, in \u001b[0;36mExcelWriter.close\u001b[0;34m(self)\u001b[0m\n\u001b[1;32m   1324\u001b[0m \u001b[39mdef\u001b[39;00m \u001b[39mclose\u001b[39m(\u001b[39mself\u001b[39m) \u001b[39m-\u001b[39m\u001b[39m>\u001b[39m \u001b[39mNone\u001b[39;00m:\n\u001b[1;32m   1325\u001b[0m \u001b[39m    \u001b[39m\u001b[39m\"\"\"synonym for save, to make it more file-like\"\"\"\u001b[39;00m\n\u001b[0;32m-> 1326\u001b[0m     \u001b[39mself\u001b[39;49m\u001b[39m.\u001b[39;49m_save()\n\u001b[1;32m   1327\u001b[0m     \u001b[39mself\u001b[39m\u001b[39m.\u001b[39m_handles\u001b[39m.\u001b[39mclose()\n",
      "File \u001b[0;32m~/developer/AI/AI_Orange_Course/.venv/lib/python3.10/site-packages/pandas/io/excel/_openpyxl.py:109\u001b[0m, in \u001b[0;36mOpenpyxlWriter._save\u001b[0;34m(self)\u001b[0m\n\u001b[1;32m    105\u001b[0m \u001b[39mdef\u001b[39;00m \u001b[39m_save\u001b[39m(\u001b[39mself\u001b[39m) \u001b[39m-\u001b[39m\u001b[39m>\u001b[39m \u001b[39mNone\u001b[39;00m:\n\u001b[1;32m    106\u001b[0m \u001b[39m    \u001b[39m\u001b[39m\"\"\"\u001b[39;00m\n\u001b[1;32m    107\u001b[0m \u001b[39m    Save workbook to disk.\u001b[39;00m\n\u001b[1;32m    108\u001b[0m \u001b[39m    \"\"\"\u001b[39;00m\n\u001b[0;32m--> 109\u001b[0m     \u001b[39mself\u001b[39;49m\u001b[39m.\u001b[39;49mbook\u001b[39m.\u001b[39;49msave(\u001b[39mself\u001b[39;49m\u001b[39m.\u001b[39;49m_handles\u001b[39m.\u001b[39;49mhandle)\n\u001b[1;32m    110\u001b[0m     \u001b[39mif\u001b[39;00m \u001b[39m\"\u001b[39m\u001b[39mr+\u001b[39m\u001b[39m\"\u001b[39m \u001b[39min\u001b[39;00m \u001b[39mself\u001b[39m\u001b[39m.\u001b[39m_mode \u001b[39mand\u001b[39;00m \u001b[39mnot\u001b[39;00m \u001b[39misinstance\u001b[39m(\u001b[39mself\u001b[39m\u001b[39m.\u001b[39m_handles\u001b[39m.\u001b[39mhandle, mmap\u001b[39m.\u001b[39mmmap):\n\u001b[1;32m    111\u001b[0m         \u001b[39m# truncate file to the written content\u001b[39;00m\n\u001b[1;32m    112\u001b[0m         \u001b[39mself\u001b[39m\u001b[39m.\u001b[39m_handles\u001b[39m.\u001b[39mhandle\u001b[39m.\u001b[39mtruncate()\n",
      "File \u001b[0;32m~/developer/AI/AI_Orange_Course/.venv/lib/python3.10/site-packages/openpyxl/workbook/workbook.py:386\u001b[0m, in \u001b[0;36mWorkbook.save\u001b[0;34m(self, filename)\u001b[0m\n\u001b[1;32m    384\u001b[0m \u001b[39mif\u001b[39;00m \u001b[39mself\u001b[39m\u001b[39m.\u001b[39mwrite_only \u001b[39mand\u001b[39;00m \u001b[39mnot\u001b[39;00m \u001b[39mself\u001b[39m\u001b[39m.\u001b[39mworksheets:\n\u001b[1;32m    385\u001b[0m     \u001b[39mself\u001b[39m\u001b[39m.\u001b[39mcreate_sheet()\n\u001b[0;32m--> 386\u001b[0m save_workbook(\u001b[39mself\u001b[39;49m, filename)\n",
      "File \u001b[0;32m~/developer/AI/AI_Orange_Course/.venv/lib/python3.10/site-packages/openpyxl/writer/excel.py:294\u001b[0m, in \u001b[0;36msave_workbook\u001b[0;34m(workbook, filename)\u001b[0m\n\u001b[1;32m    292\u001b[0m workbook\u001b[39m.\u001b[39mproperties\u001b[39m.\u001b[39mmodified \u001b[39m=\u001b[39m datetime\u001b[39m.\u001b[39mdatetime\u001b[39m.\u001b[39mutcnow()\n\u001b[1;32m    293\u001b[0m writer \u001b[39m=\u001b[39m ExcelWriter(workbook, archive)\n\u001b[0;32m--> 294\u001b[0m writer\u001b[39m.\u001b[39;49msave()\n\u001b[1;32m    295\u001b[0m \u001b[39mreturn\u001b[39;00m \u001b[39mTrue\u001b[39;00m\n",
      "File \u001b[0;32m~/developer/AI/AI_Orange_Course/.venv/lib/python3.10/site-packages/openpyxl/writer/excel.py:275\u001b[0m, in \u001b[0;36mExcelWriter.save\u001b[0;34m(self)\u001b[0m\n\u001b[1;32m    273\u001b[0m \u001b[39mdef\u001b[39;00m \u001b[39msave\u001b[39m(\u001b[39mself\u001b[39m):\n\u001b[1;32m    274\u001b[0m \u001b[39m    \u001b[39m\u001b[39m\"\"\"Write data into the archive.\"\"\"\u001b[39;00m\n\u001b[0;32m--> 275\u001b[0m     \u001b[39mself\u001b[39;49m\u001b[39m.\u001b[39;49mwrite_data()\n\u001b[1;32m    276\u001b[0m     \u001b[39mself\u001b[39m\u001b[39m.\u001b[39m_archive\u001b[39m.\u001b[39mclose()\n",
      "File \u001b[0;32m~/developer/AI/AI_Orange_Course/.venv/lib/python3.10/site-packages/openpyxl/writer/excel.py:77\u001b[0m, in \u001b[0;36mExcelWriter.write_data\u001b[0;34m(self)\u001b[0m\n\u001b[1;32m     74\u001b[0m     custom_override \u001b[39m=\u001b[39m CustomOverride()\n\u001b[1;32m     75\u001b[0m     \u001b[39mself\u001b[39m\u001b[39m.\u001b[39mmanifest\u001b[39m.\u001b[39mappend(custom_override)\n\u001b[0;32m---> 77\u001b[0m \u001b[39mself\u001b[39;49m\u001b[39m.\u001b[39;49m_write_worksheets()\n\u001b[1;32m     78\u001b[0m \u001b[39mself\u001b[39m\u001b[39m.\u001b[39m_write_chartsheets()\n\u001b[1;32m     79\u001b[0m \u001b[39mself\u001b[39m\u001b[39m.\u001b[39m_write_images()\n",
      "File \u001b[0;32m~/developer/AI/AI_Orange_Course/.venv/lib/python3.10/site-packages/openpyxl/writer/excel.py:215\u001b[0m, in \u001b[0;36mExcelWriter._write_worksheets\u001b[0;34m(self)\u001b[0m\n\u001b[1;32m    212\u001b[0m \u001b[39mfor\u001b[39;00m idx, ws \u001b[39min\u001b[39;00m \u001b[39menumerate\u001b[39m(\u001b[39mself\u001b[39m\u001b[39m.\u001b[39mworkbook\u001b[39m.\u001b[39mworksheets, \u001b[39m1\u001b[39m):\n\u001b[1;32m    214\u001b[0m     ws\u001b[39m.\u001b[39m_id \u001b[39m=\u001b[39m idx\n\u001b[0;32m--> 215\u001b[0m     \u001b[39mself\u001b[39;49m\u001b[39m.\u001b[39;49mwrite_worksheet(ws)\n\u001b[1;32m    217\u001b[0m     \u001b[39mif\u001b[39;00m ws\u001b[39m.\u001b[39m_drawing:\n\u001b[1;32m    218\u001b[0m         \u001b[39mself\u001b[39m\u001b[39m.\u001b[39m_write_drawing(ws\u001b[39m.\u001b[39m_drawing)\n",
      "File \u001b[0;32m~/developer/AI/AI_Orange_Course/.venv/lib/python3.10/site-packages/openpyxl/writer/excel.py:200\u001b[0m, in \u001b[0;36mExcelWriter.write_worksheet\u001b[0;34m(self, ws)\u001b[0m\n\u001b[1;32m    198\u001b[0m \u001b[39melse\u001b[39;00m:\n\u001b[1;32m    199\u001b[0m     writer \u001b[39m=\u001b[39m WorksheetWriter(ws)\n\u001b[0;32m--> 200\u001b[0m     writer\u001b[39m.\u001b[39;49mwrite()\n\u001b[1;32m    202\u001b[0m ws\u001b[39m.\u001b[39m_rels \u001b[39m=\u001b[39m writer\u001b[39m.\u001b[39m_rels\n\u001b[1;32m    203\u001b[0m \u001b[39mself\u001b[39m\u001b[39m.\u001b[39m_archive\u001b[39m.\u001b[39mwrite(writer\u001b[39m.\u001b[39mout, ws\u001b[39m.\u001b[39mpath[\u001b[39m1\u001b[39m:])\n",
      "File \u001b[0;32m~/developer/AI/AI_Orange_Course/.venv/lib/python3.10/site-packages/openpyxl/worksheet/_writer.py:359\u001b[0m, in \u001b[0;36mWorksheetWriter.write\u001b[0;34m(self)\u001b[0m\n\u001b[1;32m    355\u001b[0m \u001b[39m\u001b[39m\u001b[39m\"\"\"\u001b[39;00m\n\u001b[1;32m    356\u001b[0m \u001b[39mHigh level\u001b[39;00m\n\u001b[1;32m    357\u001b[0m \u001b[39m\"\"\"\u001b[39;00m\n\u001b[1;32m    358\u001b[0m \u001b[39mself\u001b[39m\u001b[39m.\u001b[39mwrite_top()\n\u001b[0;32m--> 359\u001b[0m \u001b[39mself\u001b[39;49m\u001b[39m.\u001b[39;49mwrite_rows()\n\u001b[1;32m    360\u001b[0m \u001b[39mself\u001b[39m\u001b[39m.\u001b[39mwrite_tail()\n\u001b[1;32m    361\u001b[0m \u001b[39mself\u001b[39m\u001b[39m.\u001b[39mclose()\n",
      "File \u001b[0;32m~/developer/AI/AI_Orange_Course/.venv/lib/python3.10/site-packages/openpyxl/worksheet/_writer.py:124\u001b[0m, in \u001b[0;36mWorksheetWriter.write_rows\u001b[0;34m(self)\u001b[0m\n\u001b[1;32m    121\u001b[0m xf \u001b[39m=\u001b[39m \u001b[39mself\u001b[39m\u001b[39m.\u001b[39mxf\u001b[39m.\u001b[39msend(\u001b[39mTrue\u001b[39;00m)\n\u001b[1;32m    123\u001b[0m \u001b[39mwith\u001b[39;00m xf\u001b[39m.\u001b[39melement(\u001b[39m\"\u001b[39m\u001b[39msheetData\u001b[39m\u001b[39m\"\u001b[39m):\n\u001b[0;32m--> 124\u001b[0m     \u001b[39mfor\u001b[39;00m row_idx, row \u001b[39min\u001b[39;00m \u001b[39mself\u001b[39;49m\u001b[39m.\u001b[39;49mrows():\n\u001b[1;32m    125\u001b[0m         \u001b[39mself\u001b[39m\u001b[39m.\u001b[39mwrite_row(xf, row, row_idx)\n\u001b[1;32m    127\u001b[0m \u001b[39mself\u001b[39m\u001b[39m.\u001b[39mxf\u001b[39m.\u001b[39msend(\u001b[39mNone\u001b[39;00m)\n",
      "File \u001b[0;32m~/developer/AI/AI_Orange_Course/.venv/lib/python3.10/site-packages/openpyxl/worksheet/_writer.py:111\u001b[0m, in \u001b[0;36mWorksheetWriter.rows\u001b[0;34m(self)\u001b[0m\n\u001b[1;32m    109\u001b[0m rows \u001b[39m=\u001b[39m defaultdict(\u001b[39mlist\u001b[39m)\n\u001b[1;32m    110\u001b[0m \u001b[39mfor\u001b[39;00m (row, col), cell \u001b[39min\u001b[39;00m \u001b[39msorted\u001b[39m(\u001b[39mself\u001b[39m\u001b[39m.\u001b[39mws\u001b[39m.\u001b[39m_cells\u001b[39m.\u001b[39mitems()):\n\u001b[0;32m--> 111\u001b[0m     rows[row]\u001b[39m.\u001b[39;49mappend(cell)\n\u001b[1;32m    113\u001b[0m \u001b[39m# add empty rows if styling has been applied\u001b[39;00m\n\u001b[1;32m    114\u001b[0m \u001b[39mfor\u001b[39;00m row \u001b[39min\u001b[39;00m \u001b[39mself\u001b[39m\u001b[39m.\u001b[39mws\u001b[39m.\u001b[39mrow_dimensions\u001b[39m.\u001b[39mkeys() \u001b[39m-\u001b[39m rows\u001b[39m.\u001b[39mkeys():\n",
      "\u001b[0;31mKeyboardInterrupt\u001b[0m: "
     ]
    }
   ],
   "source": [
    "# Using pd.pivot_table, transform the table into a matrix so that each row represents a movie and each column represents a user\n",
    "# (index should be \"movieId\")\n",
    "pivot_table = pd.pivot_table(df, index='movieId', columns='userId', values='rating')\n",
    "\n",
    "# fill NaN values with 0\n",
    "pivot_table.fillna(0, inplace=True)\n",
    "print(pivot_table.head())\n",
    "# store the pivot table in a excel file\n",
    "pivot_table.to_excel('../csv/pivot_table.xlsx')\n",
    "movie_id_ = 318\n",
    "# get data of the movie with id 318\n",
    "movie_data = pivot_table.loc[movie_id_].values.reshape(1, -1)\n",
    "print(movie_data)"
   ]
  },
  {
   "cell_type": "code",
   "execution_count": 32,
   "metadata": {},
   "outputs": [],
   "source": [
    "# Create a function that finds the similar movies to a given movie id.\n",
    "def similar_movies(df, k, movie_id):\n",
    "    # df is the movie-user matrix \n",
    "    # k is the number of similar movies to find\n",
    "    # movie_id is the movie id to find similar movies to\n",
    "    # Build a NearestNesighbors model\n",
    "    neighbors = NearestNeighbors(n_neighbors=k, algorithm='brute', metric='cosine')\n",
    "    # Fit the model to using df\n",
    "    neighbors.fit(df)\n",
    "    # Find the closest neighbors using .kneighbors and passing the rankings associated with the movie_id\n",
    "    # This step will return a list of movie ids\n",
    "    film = df.loc[movie_id].values.reshape(1, -1)\n",
    "    distances, indices = neighbors.kneighbors(film)\n",
    "    # return a list with the recommended movie titles\n",
    "    title = []\n",
    "    indices = indices.tolist()[0]\n",
    "    for i in indices:\n",
    "            title.append(df.iloc[i].name)\n",
    "    return title"
   ]
  },
  {
   "cell_type": "code",
   "execution_count": 33,
   "metadata": {},
   "outputs": [
    {
     "name": "stdout",
     "output_type": "stream",
     "text": [
      "318\n",
      "Since you watched Shawshank Redemption, The (1994): \n",
      "\n",
      "1: Shawshank Redemption, The (1994)\n",
      "2: Forrest Gump (1994)\n",
      "3: Pulp Fiction (1994)\n",
      "4: Silence of the Lambs, The (1991)\n",
      "5: Usual Suspects, The (1995)\n",
      "6: Schindler's List (1993)\n",
      "7: Fight Club (1999)\n",
      "8: Braveheart (1995)\n",
      "9: Matrix, The (1999)\n",
      "10: Apollo 13 (1995)\n"
     ]
    }
   ],
   "source": [
    "movie_name = 'Shawshank Redemption, The (1994)'\n",
    "# Find the movieId associated with the movie_name\n",
    "movie_id = movies[movies['title'] == movie_name]['movieId'].values[0]\n",
    "# Use similar_movies() to find 10 movie recommendations\n",
    "recommended_movies = similar_movies(pivot_table, 10, movie_id)\n",
    "print(\"Since you watched %s: \\n\" % movie_name)\n",
    "for i, m in enumerate(recommended_movies):\n",
    "    movie_title = movies[movies['movieId'] == m]['title'].values[0]\n",
    "    print(\"%d: %s\" % (i+1, movie_title))"
   ]
  },
  {
   "cell_type": "code",
   "execution_count": 34,
   "metadata": {},
   "outputs": [],
   "source": [
    "## Modify the fuction to take the user id as well and ensure that the recomended movies are not already watched by the user. \n",
    "\n",
    "def similar_movies_2(df, k, movie_id, user_id):\n",
    "    neighbors = NearestNeighbors(n_neighbors=k, algorithm='brute', metric='cosine')\n",
    "    neighbors.fit(df)\n",
    "    film = df.loc[movie_id].values.reshape(1, -1)\n",
    "    distances, indices = neighbors.kneighbors(film)\n",
    "    title = []\n",
    "    indices = indices.tolist()[0]\n",
    "    for i in indices:\n",
    "        title.append(df.iloc[i].name)\n",
    "    # get the movies that the user has already watched\n",
    "    user_movies = df.loc[:, user_id]\n",
    "    user_movies = user_movies[user_movies > 0].index.values.tolist()\n",
    "    # remove the watched movies from the recommended movies\n",
    "    recommended_movies = [m for m in title if m not in user_movies]\n",
    "    return recommended_movies[:k]\n"
   ]
  },
  {
   "cell_type": "code",
   "execution_count": 38,
   "metadata": {},
   "outputs": [
    {
     "name": "stdout",
     "output_type": "stream",
     "text": [
      "Since you watched Shawshank Redemption, The (1994): \n",
      "\n",
      "1: Forrest Gump (1994)\n",
      "2: Silence of the Lambs, The (1991)\n",
      "3: Fight Club (1999)\n",
      "4: Matrix, The (1999)\n"
     ]
    }
   ],
   "source": [
    "movie_name = 'Shawshank Redemption, The (1994)'\n",
    "user_id = 5\n",
    "\n",
    "recommended_movies = similar_movies_2(pivot_table, 10, movie_id, user_id)\n",
    "\n",
    "print(\"Since you watched %s: \\n\" % movie_name)\n",
    "for i, m in enumerate(recommended_movies):\n",
    "    movie_title = movies[movies['movieId'] == m]['title'].values[0]\n",
    "    print(\"%d: %s\" % (i+1, movie_title))"
   ]
  }
 ],
 "metadata": {
  "kernelspec": {
   "display_name": ".venv",
   "language": "python",
   "name": "python3"
  },
  "language_info": {
   "codemirror_mode": {
    "name": "ipython",
    "version": 3
   },
   "file_extension": ".py",
   "mimetype": "text/x-python",
   "name": "python",
   "nbconvert_exporter": "python",
   "pygments_lexer": "ipython3",
   "version": "3.10.10"
  },
  "orig_nbformat": 4
 },
 "nbformat": 4,
 "nbformat_minor": 2
}
