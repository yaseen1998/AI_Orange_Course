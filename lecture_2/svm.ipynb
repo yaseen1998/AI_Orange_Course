{
 "cells": [
  {
   "cell_type": "code",
   "execution_count": 2,
   "metadata": {},
   "outputs": [],
   "source": [
    "import pandas as pd\n",
    "import string\n",
    "from sklearn.feature_extraction.text import CountVectorizer\n",
    "from sklearn.model_selection import train_test_split\n",
    "from sklearn.svm import SVC"
   ]
  },
  {
   "cell_type": "code",
   "execution_count": 3,
   "metadata": {},
   "outputs": [],
   "source": [
    "sms_data = pd.read_csv('../csv/SMSSpamCollection.csv')"
   ]
  },
  {
   "cell_type": "code",
   "execution_count": 4,
   "metadata": {},
   "outputs": [],
   "source": [
    "# Define a function that takes the message string as input and does the following:\n",
    "# 1. Convert all characters to lower case\n",
    "# 2. Remove all punctuation (\"string.punctuation\" contains a list of punctuations)\n",
    "# 3. Remove all digits (\"string.digits\" contains a list of numbers)\n",
    "# 4. Returns a string of the processed text\n",
    "def text_process(message):\n",
    "    message_proc = [char.lower() for char in message if (char not in string.punctuation) and (char not in string.digits)]\n",
    "    message_proc = ''.join(message_proc)\n",
    "    return message_proc"
   ]
  },
  {
   "cell_type": "code",
   "execution_count": 5,
   "metadata": {},
   "outputs": [],
   "source": [
    "# Apply the created function to the SMS column and save the results in a new column \n",
    "sms_data['SMS_processed'] = sms_data['SMS'].apply(text_process)"
   ]
  },
  {
   "cell_type": "code",
   "execution_count": 6,
   "metadata": {},
   "outputs": [],
   "source": [
    "# Instantiate a CountVectorizer and fit to the processed SMS column\n",
    "vectorizer = CountVectorizer(stop_words=\"english\")\n",
    "# Transform the processed SMS column using the vectorizer and save it in a variable X\n",
    "X = vectorizer.fit_transform(sms_data['SMS_processed'])\n",
    "# Define a variable y which includes the label\n",
    "y = sms_data['Label']"
   ]
  },
  {
   "cell_type": "code",
   "execution_count": 7,
   "metadata": {},
   "outputs": [],
   "source": [
    "# Split the data into training and testing (Set the parameter stratify=y)\n",
    "X_train, X_test, y_train, y_test = train_test_split(X, y, stratify=y, test_size=0.25, random_state=0)"
   ]
  },
  {
   "cell_type": "code",
   "execution_count": 8,
   "metadata": {},
   "outputs": [
    {
     "data": {
      "text/html": [
       "<style>#sk-container-id-1 {color: black;}#sk-container-id-1 pre{padding: 0;}#sk-container-id-1 div.sk-toggleable {background-color: white;}#sk-container-id-1 label.sk-toggleable__label {cursor: pointer;display: block;width: 100%;margin-bottom: 0;padding: 0.3em;box-sizing: border-box;text-align: center;}#sk-container-id-1 label.sk-toggleable__label-arrow:before {content: \"▸\";float: left;margin-right: 0.25em;color: #696969;}#sk-container-id-1 label.sk-toggleable__label-arrow:hover:before {color: black;}#sk-container-id-1 div.sk-estimator:hover label.sk-toggleable__label-arrow:before {color: black;}#sk-container-id-1 div.sk-toggleable__content {max-height: 0;max-width: 0;overflow: hidden;text-align: left;background-color: #f0f8ff;}#sk-container-id-1 div.sk-toggleable__content pre {margin: 0.2em;color: black;border-radius: 0.25em;background-color: #f0f8ff;}#sk-container-id-1 input.sk-toggleable__control:checked~div.sk-toggleable__content {max-height: 200px;max-width: 100%;overflow: auto;}#sk-container-id-1 input.sk-toggleable__control:checked~label.sk-toggleable__label-arrow:before {content: \"▾\";}#sk-container-id-1 div.sk-estimator input.sk-toggleable__control:checked~label.sk-toggleable__label {background-color: #d4ebff;}#sk-container-id-1 div.sk-label input.sk-toggleable__control:checked~label.sk-toggleable__label {background-color: #d4ebff;}#sk-container-id-1 input.sk-hidden--visually {border: 0;clip: rect(1px 1px 1px 1px);clip: rect(1px, 1px, 1px, 1px);height: 1px;margin: -1px;overflow: hidden;padding: 0;position: absolute;width: 1px;}#sk-container-id-1 div.sk-estimator {font-family: monospace;background-color: #f0f8ff;border: 1px dotted black;border-radius: 0.25em;box-sizing: border-box;margin-bottom: 0.5em;}#sk-container-id-1 div.sk-estimator:hover {background-color: #d4ebff;}#sk-container-id-1 div.sk-parallel-item::after {content: \"\";width: 100%;border-bottom: 1px solid gray;flex-grow: 1;}#sk-container-id-1 div.sk-label:hover label.sk-toggleable__label {background-color: #d4ebff;}#sk-container-id-1 div.sk-serial::before {content: \"\";position: absolute;border-left: 1px solid gray;box-sizing: border-box;top: 0;bottom: 0;left: 50%;z-index: 0;}#sk-container-id-1 div.sk-serial {display: flex;flex-direction: column;align-items: center;background-color: white;padding-right: 0.2em;padding-left: 0.2em;position: relative;}#sk-container-id-1 div.sk-item {position: relative;z-index: 1;}#sk-container-id-1 div.sk-parallel {display: flex;align-items: stretch;justify-content: center;background-color: white;position: relative;}#sk-container-id-1 div.sk-item::before, #sk-container-id-1 div.sk-parallel-item::before {content: \"\";position: absolute;border-left: 1px solid gray;box-sizing: border-box;top: 0;bottom: 0;left: 50%;z-index: -1;}#sk-container-id-1 div.sk-parallel-item {display: flex;flex-direction: column;z-index: 1;position: relative;background-color: white;}#sk-container-id-1 div.sk-parallel-item:first-child::after {align-self: flex-end;width: 50%;}#sk-container-id-1 div.sk-parallel-item:last-child::after {align-self: flex-start;width: 50%;}#sk-container-id-1 div.sk-parallel-item:only-child::after {width: 0;}#sk-container-id-1 div.sk-dashed-wrapped {border: 1px dashed gray;margin: 0 0.4em 0.5em 0.4em;box-sizing: border-box;padding-bottom: 0.4em;background-color: white;}#sk-container-id-1 div.sk-label label {font-family: monospace;font-weight: bold;display: inline-block;line-height: 1.2em;}#sk-container-id-1 div.sk-label-container {text-align: center;}#sk-container-id-1 div.sk-container {/* jupyter's `normalize.less` sets `[hidden] { display: none; }` but bootstrap.min.css set `[hidden] { display: none !important; }` so we also need the `!important` here to be able to override the default hidden behavior on the sphinx rendered scikit-learn.org. See: https://github.com/scikit-learn/scikit-learn/issues/21755 */display: inline-block !important;position: relative;}#sk-container-id-1 div.sk-text-repr-fallback {display: none;}</style><div id=\"sk-container-id-1\" class=\"sk-top-container\"><div class=\"sk-text-repr-fallback\"><pre>SVC()</pre><b>In a Jupyter environment, please rerun this cell to show the HTML representation or trust the notebook. <br />On GitHub, the HTML representation is unable to render, please try loading this page with nbviewer.org.</b></div><div class=\"sk-container\" hidden><div class=\"sk-item\"><div class=\"sk-estimator sk-toggleable\"><input class=\"sk-toggleable__control sk-hidden--visually\" id=\"sk-estimator-id-1\" type=\"checkbox\" checked><label for=\"sk-estimator-id-1\" class=\"sk-toggleable__label sk-toggleable__label-arrow\">SVC</label><div class=\"sk-toggleable__content\"><pre>SVC()</pre></div></div></div></div></div>"
      ],
      "text/plain": [
       "SVC()"
      ]
     },
     "execution_count": 8,
     "metadata": {},
     "output_type": "execute_result"
    }
   ],
   "source": [
    "# Instantiate a SVC classifier and fit it on the training data.\n",
    "vectorizer = SVC()\n",
    "vectorizer.fit(X_train, y_train)\n"
   ]
  },
  {
   "cell_type": "code",
   "execution_count": 9,
   "metadata": {},
   "outputs": [
    {
     "name": "stdout",
     "output_type": "stream",
     "text": [
      "Accuracy: 0.9634146341463414\n"
     ]
    }
   ],
   "source": [
    "# Calculate the accuracy\n",
    "accuracy = vectorizer.score(X_test, y_test)\n",
    "print(\"Accuracy:\", accuracy)"
   ]
  },
  {
   "cell_type": "code",
   "execution_count": 10,
   "metadata": {},
   "outputs": [
    {
     "name": "stdout",
     "output_type": "stream",
     "text": [
      "Specificity: 0.7272727272727273\n"
     ]
    }
   ],
   "source": [
    "# Calculate the specificity (True Negative Rate)\n",
    "def specificity(model, X_test, y_test):\n",
    "    # Caluclate the predictions of the model (y_pred)\n",
    "    y_pred = model.predict(X_test)\n",
    "    # Find the length of the labels that were correctly predicted as \"spam\"\n",
    "    true_negative = len(y_pred[(y_pred == 'spam') & (y_test == 'spam')])\n",
    "    # Find the length of the actual labels that are \"spam\"\n",
    "    actual_negative = len(y_test[y_test == 'spam'])\n",
    "     # Devide the numbers to get the specificity and return the value\n",
    "    return true_negative / actual_negative\n",
    "\n",
    "specificity_ = specificity(vectorizer, X_test, y_test)\n",
    "print(\"Specificity:\", specificity_)\n"
   ]
  },
  {
   "cell_type": "code",
   "execution_count": 11,
   "metadata": {},
   "outputs": [
    {
     "name": "stdout",
     "output_type": "stream",
     "text": [
      "Highest accuracy score:  0.9777618364418939\n",
      "Parameters used:  ('linear', 1, 0.1)\n"
     ]
    }
   ],
   "source": [
    "# Define a dictionary with the parameters you wish to optimize\n",
    "params = {}\n",
    "# Using for loops, find the optimal combination of parameters that lead to the mazimum accuracy\n",
    "for kernel in ['linear', 'poly', 'rbf', 'sigmoid']:\n",
    "    for C in [0.1, 1, 10, 100]:\n",
    "        for gamma in [0.1, 1, 10, 100]:\n",
    "            vectorizer = SVC(kernel=kernel, C=C, gamma=gamma)\n",
    "            vectorizer.fit(X_train, y_train)\n",
    "            accuracy = vectorizer.score(X_test, y_test)\n",
    "            params[(kernel, C, gamma)] = accuracy\n",
    "# Print your results\n",
    "print(\"Highest accuracy score: \", max(params.values()))\n",
    "print(\"Parameters used: \", max(params, key=params.get))"
   ]
  },
  {
   "cell_type": "code",
   "execution_count": 12,
   "metadata": {},
   "outputs": [
    {
     "name": "stdout",
     "output_type": "stream",
     "text": [
      "Highest specificity score:  0.839572192513369\n",
      "Parameters used:  ('linear', 1, 0.1)\n"
     ]
    }
   ],
   "source": [
    "# Define a dictionary with the parameters you wish to optimize\n",
    "params = {}\n",
    "\n",
    "# Using for loops, find the optimal combination of parameters that lead to the mazimum specificity\n",
    "for kernel in ['linear', 'poly', 'rbf', 'sigmoid']:\n",
    "    for C in [0.1, 1, 10, 100]:\n",
    "        for gamma in [0.1, 1, 10, 100]:\n",
    "            vectorizer = SVC(kernel=kernel, C=C, gamma=gamma)\n",
    "            vectorizer.fit(X_train, y_train)\n",
    "            specificity_ = specificity(vectorizer, X_test, y_test)\n",
    "            params[(kernel, C, gamma)] = specificity_\n",
    "            \n",
    "# Print your results\n",
    "print(\"Highest specificity score: \", max(params.values()))\n",
    "print(\"Parameters used: \", max(params, key=params.get))"
   ]
  },
  {
   "cell_type": "code",
   "execution_count": null,
   "metadata": {},
   "outputs": [],
   "source": []
  }
 ],
 "metadata": {
  "kernelspec": {
   "display_name": ".venv",
   "language": "python",
   "name": "python3"
  },
  "language_info": {
   "codemirror_mode": {
    "name": "ipython",
    "version": 3
   },
   "file_extension": ".py",
   "mimetype": "text/x-python",
   "name": "python",
   "nbconvert_exporter": "python",
   "pygments_lexer": "ipython3",
   "version": "3.10.10"
  },
  "orig_nbformat": 4
 },
 "nbformat": 4,
 "nbformat_minor": 2
}
