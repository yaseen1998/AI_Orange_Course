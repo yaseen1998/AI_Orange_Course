{
 "cells": [
  {
   "cell_type": "code",
   "execution_count": 1,
   "metadata": {},
   "outputs": [],
   "source": [
    "#import PCA, load_digits and GaussianNB libraries\n",
    "from sklearn.decomposition import PCA\n",
    "from sklearn.datasets import load_digits\n",
    "from sklearn.naive_bayes import GaussianNB"
   ]
  },
  {
   "cell_type": "code",
   "execution_count": 2,
   "metadata": {},
   "outputs": [],
   "source": [
    "# Load hand-written digits data here\n",
    "df = load_digits()"
   ]
  },
  {
   "cell_type": "code",
   "execution_count": 3,
   "metadata": {},
   "outputs": [
    {
     "name": "stdout",
     "output_type": "stream",
     "text": [
      "0.8580968280467446\n"
     ]
    }
   ],
   "source": [
    "# Instantiate NB Model\n",
    "model = GaussianNB()\n",
    "# Train NB Model\n",
    "model.fit(df.data, df.target)\n",
    "# Print Accurucay\n",
    "print(model.score(df.data, df.target))"
   ]
  },
  {
   "cell_type": "code",
   "execution_count": 5,
   "metadata": {},
   "outputs": [
    {
     "name": "stdout",
     "output_type": "stream",
     "text": [
      "(1797, 64)\n",
      "(1797, 10)\n"
     ]
    }
   ],
   "source": [
    "# Use PCA to reduce number of features to 10\n",
    "pca = PCA(n_components=10)\n",
    "# Fit PCA to data\n",
    "pca.fit(df.data)\n",
    "# Transform data using PCA\n",
    "transformed_data = pca.transform(df.data)\n",
    "# Print shape of data before and after PCA\n",
    "print(df.data.shape)\n",
    "# Print shape of transformed data\n",
    "print(transformed_data.shape)"
   ]
  },
  {
   "cell_type": "code",
   "execution_count": 6,
   "metadata": {},
   "outputs": [
    {
     "name": "stdout",
     "output_type": "stream",
     "text": [
      "0.9154145798553144\n"
     ]
    }
   ],
   "source": [
    "# Train NB Model on transformed data\n",
    "model.fit(transformed_data, df.target)\n",
    "# Print accuracy of model on transformed data\n",
    "print(model.score(transformed_data, df.target))\n"
   ]
  },
  {
   "cell_type": "code",
   "execution_count": 7,
   "metadata": {},
   "outputs": [],
   "source": [
    "import numpy as np"
   ]
  },
  {
   "cell_type": "code",
   "execution_count": null,
   "metadata": {},
   "outputs": [],
   "source": [
    "# Subtract the mean to center the data \n",
    "mean = np.mean(df.data, axis=0)\n",
    "# Compute the covariance matrix\n",
    "covariance_matrix = np.cov(df.data.T)\n",
    "# Calculate Eigenvalues and Eigenvectors of the covariance matrix\n",
    "eigenvalues, eigenvectors = np.linalg.eig(covariance_matrix)\n",
    "# Sort the eigenvalues in descending order to get the sorted eigenvectors\n",
    "sorted_index = np.argsort(eigenvalues)[::-1] # [::-1] reverses the order of the array\n",
    "# Select the first n eigenvectors\n",
    "first_n_eigenvectors = eigenvectors[:, sorted_index[:10]]\n",
    "# Transform the data by applying a dot product \n",
    "transformed_data = np.dot(df.data, first_n_eigenvectors)\n",
    "# Print shape of data before and after PCA\n",
    "print(df.data.shape)\n",
    "print(transformed_data.shape)"
   ]
  }
 ],
 "metadata": {
  "kernelspec": {
   "display_name": ".venv",
   "language": "python",
   "name": "python3"
  },
  "language_info": {
   "codemirror_mode": {
    "name": "ipython",
    "version": 3
   },
   "file_extension": ".py",
   "mimetype": "text/x-python",
   "name": "python",
   "nbconvert_exporter": "python",
   "pygments_lexer": "ipython3",
   "version": "3.10.10"
  },
  "orig_nbformat": 4
 },
 "nbformat": 4,
 "nbformat_minor": 2
}
