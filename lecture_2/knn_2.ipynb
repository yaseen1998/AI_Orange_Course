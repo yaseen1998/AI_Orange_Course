{
 "cells": [
  {
   "cell_type": "code",
   "execution_count": 1,
   "metadata": {},
   "outputs": [],
   "source": [
    "#Import KNeighborsClassifier, accuracy_score, train_test_split, MinMaxScaler, and load_breast_cancer from sklearn\n",
    "from sklearn.neighbors import KNeighborsClassifier\n",
    "from sklearn.metrics import accuracy_score  \n",
    "from sklearn.model_selection import train_test_split\n",
    "from sklearn.preprocessing import MinMaxScaler\n",
    "from sklearn.datasets import load_breast_cancer\n"
   ]
  },
  {
   "cell_type": "code",
   "execution_count": 2,
   "metadata": {},
   "outputs": [],
   "source": [
    "# Load the breast cancer dataset\n",
    "df = load_breast_cancer()\n"
   ]
  },
  {
   "cell_type": "code",
   "execution_count": 3,
   "metadata": {},
   "outputs": [],
   "source": [
    "# Split the data into training and testing with test_size = 0.3\n",
    "split_test_size = 0.3\n",
    "X_train, X_test, y_train, y_test = train_test_split(df.data, df.target, test_size=split_test_size, random_state=42)"
   ]
  },
  {
   "cell_type": "code",
   "execution_count": 4,
   "metadata": {},
   "outputs": [],
   "source": [
    "# Instantiate a KNN model with k=3\n",
    "knn = KNeighborsClassifier(n_neighbors=3)\n",
    "# Fit the model\n",
    "knn.fit(X_train, y_train)\n",
    "# Predict the labels by applying the model \n",
    "y_pred = knn.predict(X_test)\n",
    "# Calculate the accuracy score \n",
    "accuracy = accuracy_score(y_test, y_pred)"
   ]
  },
  {
   "cell_type": "code",
   "execution_count": 5,
   "metadata": {},
   "outputs": [],
   "source": [
    "# Instantiate a MinMaxScaler instance and fit it on the training data\n",
    "scaler = MinMaxScaler()\n",
    "# Apply the model on the training data \n",
    "minmax_train = scaler.fit_transform(X_train)\n",
    "# Apply the model on the testing data \n",
    "test_minmax = scaler.transform(X_test)\n"
   ]
  },
  {
   "cell_type": "code",
   "execution_count": 6,
   "metadata": {},
   "outputs": [],
   "source": [
    "# Instantiate a KNN model with k=3\n",
    "knn = KNeighborsClassifier(n_neighbors=3)\n",
    "# Fit the model\n",
    "knn.fit(minmax_train, y_train)\n",
    "# Predict the labels by applying the model \n",
    "y_pred = knn.predict(test_minmax)\n",
    "\n",
    "# Calculate the accuracy score \n",
    "accuracy_minmax = accuracy_score(y_test, y_pred)\n"
   ]
  },
  {
   "cell_type": "code",
   "execution_count": 7,
   "metadata": {},
   "outputs": [
    {
     "name": "stdout",
     "output_type": "stream",
     "text": [
      "Score before normalization:  0.9415204678362573\n",
      "Score after normalization:  0.9707602339181286\n"
     ]
    }
   ],
   "source": [
    "# Print score without normalization and score with normalization \n",
    "print(\"Score before normalization: \", accuracy)\n",
    "print(\"Score after normalization: \", accuracy_minmax)"
   ]
  }
 ],
 "metadata": {
  "kernelspec": {
   "display_name": ".venv",
   "language": "python",
   "name": "python3"
  },
  "language_info": {
   "codemirror_mode": {
    "name": "ipython",
    "version": 3
   },
   "file_extension": ".py",
   "mimetype": "text/x-python",
   "name": "python",
   "nbconvert_exporter": "python",
   "pygments_lexer": "ipython3",
   "version": "3.10.10"
  },
  "orig_nbformat": 4
 },
 "nbformat": 4,
 "nbformat_minor": 2
}
