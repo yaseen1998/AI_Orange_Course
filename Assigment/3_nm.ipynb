{
 "cells": [
  {
   "cell_type": "code",
   "execution_count": null,
   "metadata": {},
   "outputs": [],
   "source": [
    "from sklearn.feature_selection import SelectKBest, chi2\n",
    "from sklearn.model_selection import train_test_split\n",
    "from sklearn.preprocessing import LabelEncoder\n",
    "from sklearn.ensemble import RandomForestClassifier\n",
    "from sklearn.metrics import accuracy_score, classification_report\n",
    "import numpy as np"
   ]
  },
  {
   "cell_type": "code",
   "execution_count": null,
   "metadata": {},
   "outputs": [],
   "source": [
    "df = pd.read_csv(\"no-data.csv\")\n"
   ]
  },
  {
   "cell_type": "code",
   "execution_count": null,
   "metadata": {},
   "outputs": [],
   "source": [
    "#Make this predictive model for Payment_of_Min_Amount, I have a value NM    which is 12007 rows\n",
    "\n",
    "\n",
    "\n",
    "# Prepare data for feature selection\n",
    "# We'll consider only numerical columns for now as chi-squared test requires numerical features and labels\n",
    "numerical_cols = df.select_dtypes(include=['int64', 'float64']).columns\n",
    "\n",
    "# Exclude columns that are identifiers or may not be relevant for predicting 'Type_of_Loan'\n",
    "# We can't use 'ID' or 'Customer_ID' as they are merely identifiers and not features\n",
    "# 'Month' is also excluded as it is a time-based identifier\n",
    "relevant_cols = [col for col in numerical_cols if col not in ['Month']]\n",
    "\n",
    "# Prepare the training set for feature selection (exclude rows with 'No Data' in 'Type_of_Loan')\n",
    "df_for_feature_selection = df[df['Payment_of_Min_Amount'] != 'NM']\n",
    "\n",
    "X = df_for_feature_selection[relevant_cols]  # Feature matrix\n",
    "y = df_for_feature_selection['Payment_of_Min_Amount']  # Target variable\n",
    "\n",
    "# Apply SelectKBest class to extract top features using Chi-squared test\n",
    "bestfeatures = SelectKBest(score_func=chi2, k='all')\n",
    "\n",
    "fit = bestfeatures.fit(X, y)\n",
    "\n",
    "# Get the scores for each feature\n",
    "feature_scores = pd.DataFrame({'Feature': relevant_cols, 'Score': fit.scores_}).sort_values(by='Score', ascending=False)\n"
   ]
  },
  {
   "cell_type": "code",
   "execution_count": null,
   "metadata": {},
   "outputs": [],
   "source": [
    "\n",
    "# Filter features based on the threshold (1e5)\n",
    "selected_features = feature_scores[feature_scores['Score'] > 1e5]['Feature'].tolist()\n",
    "\n",
    "# Prepare the dataset\n",
    "# Exclude rows with 'No Data' in 'Type_of_Loan' for the training set\n",
    "train_data = df[df['Payment_of_Min_Amount'] != 'NM']\n",
    "# Include only rows with 'No Data' in 'Type_of_Loan' for the prediction set\n",
    "predict_data = df[df['Payment_of_Min_Amount'] == 'NM']\n",
    "\n",
    "# Select only the chosen features and the target for training\n",
    "X_train_full = train_data[selected_features]\n",
    "y_train_full = train_data['Payment_of_Min_Amount']\n",
    "\n",
    "# Label encode the target variable\n",
    "label_encoder = LabelEncoder()\n",
    "y_train_full_encoded = label_encoder.fit_transform(y_train_full)\n",
    "\n",
    "# Split the data into training and validation sets\n",
    "X_train, X_val, y_train, y_val = train_test_split(X_train_full, y_train_full_encoded, test_size=0.2, random_state=42)\n",
    "\n",
    "# Prepare the prediction set\n",
    "X_predict = predict_data[selected_features]"
   ]
  },
  {
   "cell_type": "code",
   "execution_count": null,
   "metadata": {},
   "outputs": [],
   "source": [
    "\n",
    "\n",
    "# Initialize the Random Forest Classifier\n",
    "rf_classifier = RandomForestClassifier(n_estimators=100, random_state=42)\n",
    "\n",
    "# Train the model on the training set\n",
    "rf_classifier.fit(X_train, y_train)\n",
    "\n",
    "# Evaluate the model on the validation set\n",
    "y_val_pred = rf_classifier.predict(X_val)\n",
    "val_accuracy = accuracy_score(y_val, y_val_pred)"
   ]
  },
  {
   "cell_type": "code",
   "execution_count": null,
   "metadata": {},
   "outputs": [],
   "source": [
    "y_predict_encoded = rf_classifier.predict(X_predict)\n",
    "\n",
    "# Decode the predicted labels back to original categories\n",
    "y_predict = label_encoder.inverse_transform(y_predict_encoded)"
   ]
  },
  {
   "cell_type": "code",
   "execution_count": null,
   "metadata": {},
   "outputs": [],
   "source": [
    "df.loc[df['Payment_of_Min_Amount'] == 'NM', 'Payment_of_Min_Amount'] = y_predict\n",
    "df.to_csv('remove_null.csv', index=False)"
   ]
  },
  {
   "cell_type": "code",
   "execution_count": null,
   "metadata": {},
   "outputs": [],
   "source": []
  }
 ],
 "metadata": {
  "language_info": {
   "name": "python"
  },
  "orig_nbformat": 4
 },
 "nbformat": 4,
 "nbformat_minor": 2
}
