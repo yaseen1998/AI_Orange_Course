{
 "cells": [
  {
   "cell_type": "code",
   "execution_count": null,
   "metadata": {},
   "outputs": [],
   "source": [
    "from sklearn.feature_selection import SelectKBest, chi2\n",
    "import pandas as pd\n",
    "from sklearn.model_selection import train_test_split\n",
    "from sklearn.preprocessing import LabelEncoder\n",
    "from sklearn.ensemble import RandomForestClassifier\n",
    "from sklearn.metrics import accuracy_score"
   ]
  },
  {
   "cell_type": "code",
   "execution_count": null,
   "metadata": {},
   "outputs": [],
   "source": [
    "df = pd.read_csv('credit_score.csv')\n",
    "df = df.drop(['Name','Customer_ID', 'ID',\"SSN\"], axis=1)"
   ]
  },
  {
   "cell_type": "code",
   "execution_count": null,
   "metadata": {},
   "outputs": [],
   "source": [
    "numerical_cols = df.select_dtypes(include=['int64', 'float64']).columns\n",
    "relevant_cols = [col for col in numerical_cols if col not in ['Month']]"
   ]
  },
  {
   "cell_type": "code",
   "execution_count": null,
   "metadata": {},
   "outputs": [],
   "source": [
    "def apply_k_beast(X, y):\n",
    "    bestfeatures = SelectKBest(score_func=chi2, k='all')\n",
    "\n",
    "    fit = bestfeatures.fit(X, y)\n",
    "\n",
    "    # Get the scores for each feature\n",
    "    feature_scores = pd.DataFrame({'Feature': relevant_cols, 'Score': fit.scores_}).sort_values(by='Score', ascending=False)\n",
    "    selected_features = feature_scores[feature_scores['Score'] > 1e5]['Feature'].tolist()\n",
    "    return selected_features"
   ]
  },
  {
   "cell_type": "code",
   "execution_count": null,
   "metadata": {},
   "outputs": [],
   "source": [
    "def random_classifier(X_train, X_val, y_train, y_val, X_predict, label_encoder):\n",
    "    # Initialize the Random Forest Classifier\n",
    "    rf_classifier = RandomForestClassifier(n_estimators=50, random_state=42)\n",
    "\n",
    "    # Train the model on the training set\n",
    "    rf_classifier.fit(X_train, y_train)\n",
    "\n",
    "    # Evaluate the model on the validation set\n",
    "    y_val_pred = rf_classifier.predict(X_val)\n",
    "    val_accuracy = accuracy_score(y_val, y_val_pred)\n",
    "    #Predict the 'Type_of_Loan' for the prediction set\n",
    "    y_predict_encoded = rf_classifier.predict(X_predict)\n",
    "\n",
    "    # Decode the predicted labels back to original categories\n",
    "    y_predict = label_encoder.inverse_transform(y_predict_encoded)\n",
    "    return y_predict"
   ]
  },
  {
   "cell_type": "code",
   "execution_count": null,
   "metadata": {},
   "outputs": [],
   "source": [
    "def label_train_data(train_data, predict_data, selected_features, column):\n",
    "    X_train_full = train_data[selected_features]\n",
    "    y_train_full = train_data[column]\n",
    "\n",
    "    # Label encode the target variable\n",
    "    label_encoder = LabelEncoder()\n",
    "    y_train_full_encoded = label_encoder.fit_transform(y_train_full)\n",
    "\n",
    "    # Split the data into training and validation sets\n",
    "    X_train, X_val, y_train, y_val = train_test_split(X_train_full, y_train_full_encoded, test_size=0.2, random_state=42)\n",
    "\n",
    "    # Prepare the prediction set\n",
    "    X_predict = predict_data[selected_features]\n",
    "    y_predict = random_classifier(X_train, X_val, y_train, y_val, X_predict, label_encoder)\n",
    "    return y_predict"
   ]
  },
  {
   "cell_type": "code",
   "execution_count": null,
   "metadata": {},
   "outputs": [],
   "source": [
    "df_for_feature_selection = df[df['Type_of_Loan'] != 'No Data'] #\n",
    "\n",
    "X = df_for_feature_selection[relevant_cols]  # Feature matrix\n",
    "y = df_for_feature_selection['Type_of_Loan']  # Target variable #\n",
    "selected_features = apply_k_beast(X, y)"
   ]
  },
  {
   "cell_type": "code",
   "execution_count": null,
   "metadata": {},
   "outputs": [],
   "source": [
    "train_data = df[df['Type_of_Loan'] != 'No Data']\n",
    "# Include only rows with 'No Data' in 'Type_of_Loan' for the prediction set\n",
    "predict_data = df[df['Type_of_Loan'] == 'No Data']\n",
    "y_predict = label_train_data(train_data, predict_data, selected_features, 'Type_of_Loan')"
   ]
  },
  {
   "cell_type": "code",
   "execution_count": null,
   "metadata": {},
   "outputs": [],
   "source": [
    "df.loc[df['Type_of_Loan'] == 'No Data', 'Type_of_Loan'] = y_predict"
   ]
  },
  {
   "cell_type": "code",
   "execution_count": null,
   "metadata": {},
   "outputs": [],
   "source": [
    "df_for_feature_selection = df[df['Payment_of_Min_Amount'] != 'NM']\n",
    "X = df_for_feature_selection[relevant_cols]  # Feature matrix\n",
    "y = df_for_feature_selection['Payment_of_Min_Amount']  # Target variable #\n",
    "selected_features = apply_k_beast(X, y)"
   ]
  },
  {
   "cell_type": "code",
   "execution_count": null,
   "metadata": {},
   "outputs": [],
   "source": [
    "train_data = df[df['Payment_of_Min_Amount'] != 'NM']\n",
    "predict_data = df[df['Payment_of_Min_Amount'] == 'NM']\n",
    "y_predict = label_train_data(train_data, predict_data, selected_features, 'Payment_of_Min_Amount')\n"
   ]
  },
  {
   "cell_type": "code",
   "execution_count": null,
   "metadata": {},
   "outputs": [],
   "source": [
    "df.loc[df['Payment_of_Min_Amount'] == 'NM', 'Payment_of_Min_Amount'] = y_predict"
   ]
  },
  {
   "cell_type": "code",
   "execution_count": null,
   "metadata": {},
   "outputs": [],
   "source": [
    "df.to_csv('remove_null.csv', index=False)"
   ]
  }
 ],
 "metadata": {
  "kernelspec": {
   "display_name": ".venv",
   "language": "python",
   "name": "python3"
  },
  "language_info": {
   "name": "python",
   "version": "3.10.10"
  },
  "orig_nbformat": 4
 },
 "nbformat": 4,
 "nbformat_minor": 2
}
