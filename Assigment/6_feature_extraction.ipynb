{
 "cells": [
  {
   "cell_type": "code",
   "execution_count": 1,
   "metadata": {},
   "outputs": [],
   "source": [
    "import pandas as pd \n",
    "import seaborn as sns\n",
    "import matplotlib.pyplot as plt"
   ]
  },
  {
   "cell_type": "code",
   "execution_count": 3,
   "metadata": {},
   "outputs": [],
   "source": [
    "df = pd.read_csv('../csv/assigment/credit_score_clean.csv')"
   ]
  },
  {
   "cell_type": "code",
   "execution_count": 4,
   "metadata": {},
   "outputs": [],
   "source": [
    "df['Debt_to_Income_Ratio'] = df['Outstanding_Debt'] / (df['Monthly_Inhand_Salary'] * 12)\n",
    "df['EMI_to_Income_Ratio'] = df['Total_EMI_per_month'] / df['Monthly_Inhand_Salary']\n",
    "df['Investment_to_Income_Ratio'] = df['Amount_invested_monthly'] / df['Monthly_Inhand_Salary']\n",
    "df['Loan_to_Income_Ratio'] = df['Outstanding_Debt'] / (df['Monthly_Inhand_Salary'] * 12)\n",
    "df['Total_Financial_Obligations'] = df['Total_EMI_per_month'] + df['Amount_invested_monthly']\n",
    "df['Credit_Utilization'] = df['Outstanding_Debt'] / df['Changed_Credit_Limit']\n",
    "df['Net_Monthly_Savings'] = df['Monthly_Inhand_Salary'] - df['Total_Financial_Obligations']\n",
    "df['Interest_Loan_Interaction'] = df['Interest_Rate'] * df['Num_of_Loan']"
   ]
  },
  {
   "cell_type": "code",
   "execution_count": null,
   "metadata": {},
   "outputs": [],
   "source": [
    "extrat = ['Debt_to_Income_Ratio','EMI_to_Income_Ratio','Investment_to_Income_Ratio','Loan_to_Income_Ratio',\n",
    "          'Total_Financial_Obligations',\"Credit_Utilization\",'Net_Monthly_Savings','Interest_Loan_Interaction']\n",
    "dfExtraction = df[extrat]\n",
    "\n",
    "\n",
    "disc_extra = dfExtraction.describe().drop('count')\n",
    "\n",
    "plt.figure(figsize=(28, 8))\n",
    "sns.heatmap(data=disc_extra, annot=True, fmt=\".2f\", cmap=\"viridis\")\n",
    "plt.title('Summary Statistics Heatmap')\n",
    "plt.xticks()\n",
    "plt.show()"
   ]
  },
  {
   "cell_type": "code",
   "execution_count": 5,
   "metadata": {},
   "outputs": [],
   "source": [
    "df.to_csv('../csv/assigment/credit_score_clean_extraction.csv', index=False)"
   ]
  }
 ],
 "metadata": {
  "kernelspec": {
   "display_name": ".venv",
   "language": "python",
   "name": "python3"
  },
  "language_info": {
   "codemirror_mode": {
    "name": "ipython",
    "version": 3
   },
   "file_extension": ".py",
   "mimetype": "text/x-python",
   "name": "python",
   "nbconvert_exporter": "python",
   "pygments_lexer": "ipython3",
   "version": "3.10.10"
  },
  "orig_nbformat": 4
 },
 "nbformat": 4,
 "nbformat_minor": 2
}
