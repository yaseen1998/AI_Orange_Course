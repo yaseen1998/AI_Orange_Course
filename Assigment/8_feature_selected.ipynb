{
 "cells": [
  {
   "cell_type": "code",
   "execution_count": 4,
   "metadata": {},
   "outputs": [],
   "source": [
    "import pandas as pd\n",
    "from sklearn.feature_selection import SelectKBest, f_classif,RFE\n",
    "from sklearn.linear_model import LogisticRegression\n",
    "from sklearn.ensemble import RandomForestClassifier\n",
    "import numpy as np\n",
    "import json\n"
   ]
  },
  {
   "cell_type": "code",
   "execution_count": 5,
   "metadata": {},
   "outputs": [],
   "source": [
    "res = {\n",
    "    \"scale_min_max\": {\n",
    "        \"column_1\": [],\n",
    "        \"column_2\": [],\n",
    "        \"column_3\": [],\n",
    "        'model': pd.read_csv('../csv/assigment/scale_min_max.csv')\n",
    "        },\n",
    "    \"scale_Robust\": {\n",
    "        \"column_1\": [],\n",
    "        \"column_2\": [],\n",
    "        \"column_3\": [],\n",
    "        'model': pd.read_csv('../csv/assigment/scale_Robust.csv')\n",
    "        \n",
    "        },\n",
    "    \"scaled_min_sklearn\": {\n",
    "        \"column_1\": [],\n",
    "        \"column_2\": [],\n",
    "        \"column_3\": [],\n",
    "        'model': pd.read_csv('../csv/assigment/scale_min_sklearn.csv')\n",
    "        },\n",
    "    \"scale_standard\":{\n",
    "        \"column_1\": [],\n",
    "        \"column_2\": [],\n",
    "        \"column_3\": [],\n",
    "        'model': pd.read_csv('../csv/assigment/scale_standard.csv')\n",
    "        },\n",
    "    \n",
    "}\n"
   ]
  },
  {
   "cell_type": "code",
   "execution_count": 6,
   "metadata": {},
   "outputs": [],
   "source": [
    "def select_beat_feature(i,res,k,x,y):\n",
    "    selector = SelectKBest(score_func=f_classif, k=k)  # Select top 5 features\n",
    "    X_new = selector.fit_transform(x, y)\n",
    "    selected_indices = selector.get_support(indices=True)\n",
    "    selected_feature_names = list(x.columns[selected_indices])\n",
    "    res[i]['column_1'] = selected_feature_names"
   ]
  },
  {
   "cell_type": "code",
   "execution_count": 7,
   "metadata": {},
   "outputs": [],
   "source": [
    "def rfe_feature(i,res,k,x,y):\n",
    "    model = LogisticRegression(max_iter=1000)\n",
    "    rfe = RFE(model, n_features_to_select=k)  # Select top 5 features\n",
    "    X_selected = rfe.fit_transform(x, y)\n",
    "    selected_feature_indices = rfe.support_\n",
    "    selected_feature_names = list(x.columns[selected_feature_indices])\n",
    "    res[i]['column_2'] = selected_feature_names"
   ]
  },
  {
   "cell_type": "code",
   "execution_count": 8,
   "metadata": {},
   "outputs": [],
   "source": [
    "def random_selection(i,res,k,x,y):\n",
    "    model = RandomForestClassifier()\n",
    "    model.fit(x,y)\n",
    "    importances = model.feature_importances_\n",
    "    indices = np.argsort(importances)[::-1]\n",
    "    selected_feature_names = [x.columns[i] for i in indices[:k]]\n",
    "    res[i]['column_3'] = selected_feature_names"
   ]
  },
  {
   "cell_type": "code",
   "execution_count": 9,
   "metadata": {},
   "outputs": [
    {
     "name": "stdout",
     "output_type": "stream",
     "text": [
      "scale_min_max\n",
      "scale_Robust\n",
      "scaled_min_sklearn\n",
      "scale_standard\n",
      "scaled_log\n",
      "scaled_log error\n"
     ]
    }
   ],
   "source": [
    "\n",
    "for i in res:\n",
    "    try:\n",
    "        scaled = res[i]['model']\n",
    "        x = scaled.drop(\"Credit_Score\", axis=1)\n",
    "        y = scaled[\"Credit_Score\"]\n",
    "        select_beat_feature(i,res,12,x,y)\n",
    "        rfe_feature(i,res,12,x,y)\n",
    "        random_selection(i,res,12,x,y)\n",
    "    except:\n",
    "        print(i,\"error\")\n",
    "        continue\n",
    "# check if all column are same\n",
    "\n",
    "    \n",
    "    \n",
    "    \n",
    "    \n",
    "\n"
   ]
  },
  {
   "cell_type": "code",
   "execution_count": 23,
   "metadata": {},
   "outputs": [],
   "source": [
    "loads = res.copy()\n",
    "del loads['scaled_log']\n",
    "commons_1= loads['scale_min_max']['column_1']\n",
    "commons_2= loads['scale_min_max']['column_2']\n",
    "commons_3= loads['scale_min_max']['column_3']\n",
    "for i in loads:\n",
    "    column_1 = loads[i]['column_1']\n",
    "    column_2 = loads[i]['column_2']\n",
    "    column_3 = loads[i]['column_3']\n",
    "    # extract what is common in all three\n",
    "    common = list(set(column_1) & set(column_2) & set(column_3))\n",
    "    loads[i]['common'] = common\n",
    "    commons_1 = list(set(commons_1) & set(column_1))\n",
    "    commons_2 = list(set(commons_2) & set(column_2))\n",
    "    commons_3 = list(set(commons_3) & set(column_3))\n",
    "loads['common_1'] = list(commons_1)\n",
    "loads['common_2'] = list(commons_2)\n",
    "loads['common_3'] = list(commons_3)\n",
    "loads['common'] = list(set(commons_1) & set(commons_2) & set(commons_3))\n",
    "\n",
    "print(loads)\n",
    "with open('feature_selected.json', 'w') as fp:\n",
    "    json.dump(loads, fp)\n",
    "        \n",
    "    "
   ]
  },
  {
   "cell_type": "code",
   "execution_count": 24,
   "metadata": {},
   "outputs": [
    {
     "name": "stdout",
     "output_type": "stream",
     "text": [
      "{'scale_min_max': {'column_1': ['Num_Bank_Accounts', 'Num_Credit_Card', 'Interest_Rate', 'Num_of_Loan', 'Delay_from_due_date', 'Num_of_Delayed_Payment', 'Num_Credit_Inquiries', 'Credit_Mix', 'Outstanding_Debt', 'Credit_History_Age', 'Payment_of_Min_Amount', 'Interest_Loan_Interaction'], 'column_2': ['Num_Credit_Card', 'Interest_Rate', 'Num_of_Loan', 'Delay_from_due_date', 'Changed_Credit_Limit', 'Num_Credit_Inquiries', 'Credit_Mix', 'Outstanding_Debt', 'Total_EMI_per_month', 'EMI_to_Income_Ratio', 'Loan_to_Income_Ratio', 'Interest_Loan_Interaction'], 'column_3': ['Outstanding_Debt', 'Credit_Mix', 'Interest_Rate', 'Credit_History_Age', 'Delay_from_due_date', 'Monthly_Balance', 'Month', 'Credit_Utilization_Ratio', 'Changed_Credit_Limit', 'Interest_Loan_Interaction', 'Credit_Utilization', 'Num_Credit_Inquiries'], 'common': ['Outstanding_Debt', 'Interest_Rate', 'Delay_from_due_date', 'Interest_Loan_Interaction', 'Credit_Mix', 'Num_Credit_Inquiries']}, 'scale_Robust': {'column_1': ['Num_Bank_Accounts', 'Num_Credit_Card', 'Interest_Rate', 'Num_of_Loan', 'Delay_from_due_date', 'Num_of_Delayed_Payment', 'Num_Credit_Inquiries', 'Credit_Mix', 'Outstanding_Debt', 'Credit_History_Age', 'Payment_of_Min_Amount', 'Interest_Loan_Interaction'], 'column_2': ['Annual_Income', 'Monthly_Inhand_Salary', 'Num_Credit_Card', 'Interest_Rate', 'Num_of_Loan', 'Delay_from_due_date', 'Changed_Credit_Limit', 'Num_Credit_Inquiries', 'Credit_Mix', 'Outstanding_Debt', 'Net_Monthly_Savings', 'Interest_Loan_Interaction'], 'column_3': ['Outstanding_Debt', 'Credit_Mix', 'Credit_History_Age', 'Interest_Rate', 'Delay_from_due_date', 'Monthly_Balance', 'Month', 'Changed_Credit_Limit', 'Credit_Utilization_Ratio', 'Interest_Loan_Interaction', 'Credit_Utilization', 'Num_of_Delayed_Payment'], 'common': ['Outstanding_Debt', 'Interest_Rate', 'Delay_from_due_date', 'Interest_Loan_Interaction', 'Credit_Mix']}, 'scaled_min_sklearn': {'column_1': ['Num_Bank_Accounts', 'Num_Credit_Card', 'Interest_Rate', 'Delay_from_due_date', 'Num_of_Delayed_Payment', 'Num_Credit_Inquiries', 'Credit_Mix', 'Outstanding_Debt', 'Credit_History_Age', 'Debt_to_Income_Ratio', 'Loan_to_Income_Ratio', 'Interest_Loan_Interaction'], 'column_2': ['Annual_Income', 'Monthly_Inhand_Salary', 'Num_Credit_Card', 'Interest_Rate', 'Num_of_Loan', 'Delay_from_due_date', 'Changed_Credit_Limit', 'Num_Credit_Inquiries', 'Credit_Mix', 'Outstanding_Debt', 'EMI_to_Income_Ratio', 'Net_Monthly_Savings'], 'column_3': ['Outstanding_Debt', 'Credit_Mix', 'Interest_Rate', 'Credit_History_Age', 'Delay_from_due_date', 'Month', 'Credit_Utilization_Ratio', 'Changed_Credit_Limit', 'Monthly_Balance', 'Interest_Loan_Interaction', 'Num_Credit_Card', 'Credit_Utilization'], 'common': ['Num_Credit_Card', 'Outstanding_Debt', 'Interest_Rate', 'Delay_from_due_date', 'Credit_Mix']}, 'scale_standard': {'column_1': ['Num_Bank_Accounts', 'Num_Credit_Card', 'Interest_Rate', 'Num_of_Loan', 'Delay_from_due_date', 'Num_of_Delayed_Payment', 'Num_Credit_Inquiries', 'Credit_Mix', 'Outstanding_Debt', 'Credit_History_Age', 'Payment_of_Min_Amount', 'Interest_Loan_Interaction'], 'column_2': ['Annual_Income', 'Monthly_Inhand_Salary', 'Num_Credit_Card', 'Interest_Rate', 'Num_of_Loan', 'Delay_from_due_date', 'Changed_Credit_Limit', 'Num_Credit_Inquiries', 'Credit_Mix', 'Total_Financial_Obligations', 'Net_Monthly_Savings', 'Interest_Loan_Interaction'], 'column_3': ['Credit_Mix', 'Outstanding_Debt', 'Credit_History_Age', 'Interest_Rate', 'Delay_from_due_date', 'Monthly_Balance', 'Month', 'Changed_Credit_Limit', 'Interest_Loan_Interaction', 'Credit_Utilization_Ratio', 'Credit_Utilization', 'Debt_to_Income_Ratio'], 'common': ['Credit_Mix', 'Delay_from_due_date', 'Interest_Loan_Interaction', 'Interest_Rate']}, 'scaled_log': {'column_1': [], 'column_2': [], 'column_3': [], 'common': []}}\n",
      "['Num_Credit_Card', 'Num_Bank_Accounts', 'Outstanding_Debt', 'Interest_Rate', 'Payment_of_Min_Amount', 'Delay_from_due_date', 'Interest_Loan_Interaction', 'Credit_Mix', 'Credit_History_Age', 'Num_Credit_Inquiries', 'Num_of_Loan', 'Num_of_Delayed_Payment']\n",
      "['Num_Credit_Card', 'Num_Bank_Accounts', 'Outstanding_Debt', 'Interest_Rate', 'Payment_of_Min_Amount', 'Delay_from_due_date', 'Interest_Loan_Interaction', 'Credit_Mix', 'Credit_History_Age', 'Num_Credit_Inquiries', 'Num_of_Loan', 'Num_of_Delayed_Payment']\n",
      "['Num_Credit_Card', 'Num_Bank_Accounts', 'Outstanding_Debt', 'Interest_Rate', 'Delay_from_due_date', 'Interest_Loan_Interaction', 'Credit_Mix', 'Credit_History_Age', 'Num_Credit_Inquiries', 'Num_of_Delayed_Payment']\n",
      "['Num_Credit_Card', 'Num_Bank_Accounts', 'Outstanding_Debt', 'Interest_Rate', 'Delay_from_due_date', 'Interest_Loan_Interaction', 'Credit_Mix', 'Credit_History_Age', 'Num_Credit_Inquiries', 'Num_of_Delayed_Payment']\n",
      "{'scale_min_max': {'column_1': ['Num_Bank_Accounts', 'Num_Credit_Card', 'Interest_Rate', 'Num_of_Loan', 'Delay_from_due_date', 'Num_of_Delayed_Payment', 'Num_Credit_Inquiries', 'Credit_Mix', 'Outstanding_Debt', 'Credit_History_Age', 'Payment_of_Min_Amount', 'Interest_Loan_Interaction'], 'column_2': ['Num_Credit_Card', 'Interest_Rate', 'Num_of_Loan', 'Delay_from_due_date', 'Changed_Credit_Limit', 'Num_Credit_Inquiries', 'Credit_Mix', 'Outstanding_Debt', 'Total_EMI_per_month', 'EMI_to_Income_Ratio', 'Loan_to_Income_Ratio', 'Interest_Loan_Interaction'], 'column_3': ['Outstanding_Debt', 'Credit_Mix', 'Interest_Rate', 'Credit_History_Age', 'Delay_from_due_date', 'Monthly_Balance', 'Month', 'Credit_Utilization_Ratio', 'Changed_Credit_Limit', 'Interest_Loan_Interaction', 'Credit_Utilization', 'Num_Credit_Inquiries'], 'common': ['Outstanding_Debt', 'Interest_Rate', 'Delay_from_due_date', 'Interest_Loan_Interaction', 'Credit_Mix', 'Num_Credit_Inquiries']}, 'scale_Robust': {'column_1': ['Num_Bank_Accounts', 'Num_Credit_Card', 'Interest_Rate', 'Num_of_Loan', 'Delay_from_due_date', 'Num_of_Delayed_Payment', 'Num_Credit_Inquiries', 'Credit_Mix', 'Outstanding_Debt', 'Credit_History_Age', 'Payment_of_Min_Amount', 'Interest_Loan_Interaction'], 'column_2': ['Annual_Income', 'Monthly_Inhand_Salary', 'Num_Credit_Card', 'Interest_Rate', 'Num_of_Loan', 'Delay_from_due_date', 'Changed_Credit_Limit', 'Num_Credit_Inquiries', 'Credit_Mix', 'Outstanding_Debt', 'Net_Monthly_Savings', 'Interest_Loan_Interaction'], 'column_3': ['Outstanding_Debt', 'Credit_Mix', 'Credit_History_Age', 'Interest_Rate', 'Delay_from_due_date', 'Monthly_Balance', 'Month', 'Changed_Credit_Limit', 'Credit_Utilization_Ratio', 'Interest_Loan_Interaction', 'Credit_Utilization', 'Num_of_Delayed_Payment'], 'common': ['Outstanding_Debt', 'Interest_Rate', 'Delay_from_due_date', 'Interest_Loan_Interaction', 'Credit_Mix']}, 'scaled_min_sklearn': {'column_1': ['Num_Bank_Accounts', 'Num_Credit_Card', 'Interest_Rate', 'Delay_from_due_date', 'Num_of_Delayed_Payment', 'Num_Credit_Inquiries', 'Credit_Mix', 'Outstanding_Debt', 'Credit_History_Age', 'Debt_to_Income_Ratio', 'Loan_to_Income_Ratio', 'Interest_Loan_Interaction'], 'column_2': ['Annual_Income', 'Monthly_Inhand_Salary', 'Num_Credit_Card', 'Interest_Rate', 'Num_of_Loan', 'Delay_from_due_date', 'Changed_Credit_Limit', 'Num_Credit_Inquiries', 'Credit_Mix', 'Outstanding_Debt', 'EMI_to_Income_Ratio', 'Net_Monthly_Savings'], 'column_3': ['Outstanding_Debt', 'Credit_Mix', 'Interest_Rate', 'Credit_History_Age', 'Delay_from_due_date', 'Month', 'Credit_Utilization_Ratio', 'Changed_Credit_Limit', 'Monthly_Balance', 'Interest_Loan_Interaction', 'Num_Credit_Card', 'Credit_Utilization'], 'common': ['Num_Credit_Card', 'Outstanding_Debt', 'Interest_Rate', 'Delay_from_due_date', 'Credit_Mix']}, 'scale_standard': {'column_1': ['Num_Bank_Accounts', 'Num_Credit_Card', 'Interest_Rate', 'Num_of_Loan', 'Delay_from_due_date', 'Num_of_Delayed_Payment', 'Num_Credit_Inquiries', 'Credit_Mix', 'Outstanding_Debt', 'Credit_History_Age', 'Payment_of_Min_Amount', 'Interest_Loan_Interaction'], 'column_2': ['Annual_Income', 'Monthly_Inhand_Salary', 'Num_Credit_Card', 'Interest_Rate', 'Num_of_Loan', 'Delay_from_due_date', 'Changed_Credit_Limit', 'Num_Credit_Inquiries', 'Credit_Mix', 'Total_Financial_Obligations', 'Net_Monthly_Savings', 'Interest_Loan_Interaction'], 'column_3': ['Credit_Mix', 'Outstanding_Debt', 'Credit_History_Age', 'Interest_Rate', 'Delay_from_due_date', 'Monthly_Balance', 'Month', 'Changed_Credit_Limit', 'Interest_Loan_Interaction', 'Credit_Utilization_Ratio', 'Credit_Utilization', 'Debt_to_Income_Ratio'], 'common': ['Credit_Mix', 'Delay_from_due_date', 'Interest_Loan_Interaction', 'Interest_Rate']}, 'common_1': ['Num_Credit_Card', 'Num_Bank_Accounts', 'Outstanding_Debt', 'Interest_Rate', 'Delay_from_due_date', 'Interest_Loan_Interaction', 'Credit_Mix', 'Credit_History_Age', 'Num_Credit_Inquiries', 'Num_of_Delayed_Payment'], 'common_2': ['Changed_Credit_Limit', 'Num_Credit_Card', 'Interest_Rate', 'Delay_from_due_date', 'Credit_Mix', 'Num_Credit_Inquiries', 'Num_of_Loan'], 'common_3': ['Changed_Credit_Limit', 'Credit_Utilization', 'Month', 'Outstanding_Debt', 'Interest_Rate', 'Delay_from_due_date', 'Interest_Loan_Interaction', 'Credit_Mix', 'Credit_History_Age', 'Monthly_Balance', 'Credit_Utilization_Ratio'], 'common': ['Credit_Mix', 'Delay_from_due_date', 'Interest_Rate']}\n"
     ]
    }
   ],
   "source": [
    "\n",
    "\n",
    "    \n",
    "\n",
    "\n",
    "\n",
    "    \n",
    "    \n",
    "    \n",
    "\n"
   ]
  },
  {
   "cell_type": "code",
   "execution_count": 12,
   "metadata": {},
   "outputs": [],
   "source": [
    "\n",
    "\n",
    "\n",
    "\n",
    "# print(list(set(commons)))"
   ]
  },
  {
   "cell_type": "code",
   "execution_count": null,
   "metadata": {},
   "outputs": [],
   "source": []
  }
 ],
 "metadata": {
  "kernelspec": {
   "display_name": ".venv",
   "language": "python",
   "name": "python3"
  },
  "language_info": {
   "codemirror_mode": {
    "name": "ipython",
    "version": 3
   },
   "file_extension": ".py",
   "mimetype": "text/x-python",
   "name": "python",
   "nbconvert_exporter": "python",
   "pygments_lexer": "ipython3",
   "version": "3.10.10"
  },
  "orig_nbformat": 4
 },
 "nbformat": 4,
 "nbformat_minor": 2
}
