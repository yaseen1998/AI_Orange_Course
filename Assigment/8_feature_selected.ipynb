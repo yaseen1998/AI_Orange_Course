{
 "cells": [
  {
   "cell_type": "code",
   "execution_count": 1,
   "metadata": {},
   "outputs": [],
   "source": [
    "import pandas as pd\n",
    "from sklearn.feature_selection import SelectKBest, f_classif,RFE,RFECV,SelectFromModel\n",
    "from sklearn.linear_model import LogisticRegression\n",
    "from sklearn.ensemble import RandomForestClassifier\n",
    "import numpy as np\n",
    "import json\n"
   ]
  },
  {
   "cell_type": "code",
   "execution_count": 2,
   "metadata": {},
   "outputs": [],
   "source": [
    "res = {\n",
    "    \"scale_Robust\": {\n",
    "        \"column_1\": [],\n",
    "        \"column_2\": [],\n",
    "        \"column_3\": [],\n",
    "        'model': pd.read_csv('scale_Robust.csv')\n",
    "        \n",
    "        },\n",
    "    \n",
    "    \"scaled_min_sklearn\": {\n",
    "        \"column_1\": [],\n",
    "        \"column_2\": [],\n",
    "        \"column_3\": [],\n",
    "        'model': pd.read_csv('scale_min_sklearn.csv')\n",
    "        },\n",
    "    \"scale_standard\":{\n",
    "        \"column_1\": [],\n",
    "        \"column_2\": [],\n",
    "        \"column_3\": [],\n",
    "        'model': pd.read_csv('scale_standard.csv')\n",
    "        },\n",
    "    \n",
    "}"
   ]
  },
  {
   "cell_type": "code",
   "execution_count": 2,
   "metadata": {},
   "outputs": [],
   "source": [
    "def select_beat_feature(i,res,k,x,y):\n",
    "    selector = SelectKBest(score_func=f_classif, k=k)  # Select top 5 features\n",
    "    X_new = selector.fit_transform(x, y)\n",
    "    selected_indices = selector.get_support(indices=True)\n",
    "    selected_feature_names = list(x.columns[selected_indices])\n",
    "    res[i]['column_1'] = selected_feature_names"
   ]
  },
  {
   "cell_type": "code",
   "execution_count": 3,
   "metadata": {},
   "outputs": [],
   "source": [
    "def rfe_feature(i,res,k,x,y):\n",
    "    model = RandomForestClassifier(n_estimators=100)\n",
    "    selector = SelectFromModel(model,max_features=k)\n",
    "    selector.fit(x, y)\n",
    "    selected_indices = selector.get_support(indices=True)\n",
    "    selected_feature_names = list(x.columns[selected_indices])\n",
    "    res[i]['column_2'] = selected_feature_names\n",
    "    "
   ]
  },
  {
   "cell_type": "code",
   "execution_count": 4,
   "metadata": {},
   "outputs": [],
   "source": [
    "def random_selection(i,res,k,x,y):\n",
    "    model = RandomForestClassifier(n_estimators=100)\n",
    "    rfecv = RFECV(model, step=1, cv=5, scoring='accuracy',min_features_to_select=k)\n",
    "    rfecv.fit(x, y)\n",
    "    selected_feature_indices = rfecv.support_\n",
    "    selected_feature_names = list(x.columns[selected_feature_indices])\n",
    "    res[i]['column_3'] = selected_feature_names\n",
    "    "
   ]
  },
  {
   "cell_type": "code",
   "execution_count": 16,
   "metadata": {},
   "outputs": [],
   "source": [
    "scaled = pd.read_csv('credit_score_clean_extraction.csv')\n",
    "res = {'extract':{\n",
    "    \"column_1\": [],\n",
    "        \"column_2\": [],\n",
    "        \"column_3\": [],\n",
    "}}\n",
    "# for i in res:\n",
    "#     try:\n",
    "\n",
    "\n",
    "x = scaled.drop(\"Credit_Score\", axis=1)\n",
    "y = scaled[\"Credit_Score\"]\n",
    "select_beat_feature('extract',res,15,x,y)\n",
    "rfe_feature('extract',res,15,x,y)\n",
    "random_selection('extract',res,15,x,y)\n",
    "    # except:\n",
    "    #     print(i,\"error\")\n",
    "    #     continue\n",
    "# check if all column are same\n",
    "\n",
    "    \n",
    "    \n",
    "    \n",
    "    \n",
    "\n"
   ]
  },
  {
   "cell_type": "code",
   "execution_count": 22,
   "metadata": {},
   "outputs": [
    {
     "name": "stdout",
     "output_type": "stream",
     "text": [
      "['Interest_Rate', 'Delay_from_due_date', 'Num_of_Delayed_Payment', 'Changed_Credit_Limit', 'Credit_Mix', 'Outstanding_Debt', 'Credit_History_Age']\n"
     ]
    }
   ],
   "source": [
    "column_1 = res['extract']['column_1']\n",
    "result =[]\n",
    "for i in column_1:\n",
    "    if i in res['extract']['column_2'] and i in res['extract']['column_3']:\n",
    "        result.append(i)\n",
    "print(result)"
   ]
  },
  {
   "cell_type": "code",
   "execution_count": 14,
   "metadata": {},
   "outputs": [
    {
     "name": "stdout",
     "output_type": "stream",
     "text": [
      "                 Age  Annual_Income  Monthly_Inhand_Salary  Num_Bank_Accounts  \\\n",
      "count  100000.000000  100000.000000          100000.000000      100000.000000   \n",
      "mean       19.316340    6242.960000            6623.226210           5.368820   \n",
      "std        10.764812    3604.708348            3823.690014           2.593314   \n",
      "min         0.000000       0.000000               0.000000           0.000000   \n",
      "25%        10.000000    3121.750000            3314.000000           3.000000   \n",
      "50%        19.000000    6241.500000            6621.000000           5.000000   \n",
      "75%        28.000000    9365.250000            9932.000000           7.000000   \n",
      "max        42.000000   12487.000000           13240.000000          11.000000   \n",
      "\n",
      "       Num_Credit_Card  Interest_Rate    Num_of_Loan  Delay_from_due_date  \\\n",
      "count    100000.000000   100000.00000  100000.000000         100000.00000   \n",
      "mean          5.533570       13.53208       3.532880             21.08141   \n",
      "std           2.067098        8.74133       2.446356             14.80456   \n",
      "min           0.000000        0.00000       0.000000              0.00000   \n",
      "25%           4.000000        6.00000       2.000000             10.00000   \n",
      "50%           5.000000       12.00000       3.000000             18.00000   \n",
      "75%           7.000000       19.00000       5.000000             28.00000   \n",
      "max          11.000000       33.00000       9.000000             62.00000   \n",
      "\n",
      "       Num_of_Delayed_Payment  Changed_Credit_Limit  ...   Credit_Score  \\\n",
      "count           100000.000000         100000.000000  ...  100000.000000   \n",
      "mean                13.313120           1411.063460  ...       1.353460   \n",
      "std                  6.237166            788.949925  ...       0.764913   \n",
      "min                  0.000000              0.000000  ...       0.000000   \n",
      "25%                  9.000000            812.000000  ...       1.000000   \n",
      "50%                 14.000000           1354.000000  ...       2.000000   \n",
      "75%                 18.000000           1955.000000  ...       2.000000   \n",
      "max                 25.000000           3451.000000  ...       2.000000   \n",
      "\n",
      "       Type_of_Loan  Debt_to_Income_Ratio  EMI_to_Income_Ratio  \\\n",
      "count  100000.00000          1.000000e+05         1.000000e+05   \n",
      "mean      211.35634                   inf                  inf   \n",
      "std       151.74002                   NaN                  NaN   \n",
      "min         0.00000          0.000000e+00         0.000000e+00   \n",
      "25%        79.00000          3.333333e-02         4.604268e-01   \n",
      "50%       187.00000          7.635745e-02         8.558683e-01   \n",
      "75%       308.00000          1.616990e-01         1.230477e+00   \n",
      "max       506.00000                   inf                  inf   \n",
      "\n",
      "       Investment_to_Income_Ratio  Loan_to_Income_Ratio  \\\n",
      "count               100000.000000          1.000000e+05   \n",
      "mean                     1.125988                   inf   \n",
      "std                      1.271445                   NaN   \n",
      "min                      0.000000          0.000000e+00   \n",
      "25%                      0.652901          3.333333e-02   \n",
      "50%                      0.894565          7.635745e-02   \n",
      "75%                      1.146754          1.616990e-01   \n",
      "max                     37.736842                   inf   \n",
      "\n",
      "       Total_Financial_Obligations  Credit_Utilization  Net_Monthly_Savings  \\\n",
      "count                100000.000000        1.000000e+05        100000.000000   \n",
      "mean                  11173.298240                 inf         -4550.072030   \n",
      "std                    6131.916856                 NaN          3923.125682   \n",
      "min                       0.000000        0.000000e+00        -17137.000000   \n",
      "25%                    6130.000000        2.554032e+00         -7636.000000   \n",
      "50%                   10668.000000        4.224332e+00         -4596.000000   \n",
      "75%                   16344.000000        6.911457e+00         -1567.000000   \n",
      "max                   24140.000000                 inf          5505.000000   \n",
      "\n",
      "       Interest_Loan_Interaction  \n",
      "count              100000.000000  \n",
      "mean                   59.764320  \n",
      "std                    66.735114  \n",
      "min                     0.000000  \n",
      "25%                     9.000000  \n",
      "50%                    32.000000  \n",
      "75%                    96.000000  \n",
      "max                   297.000000  \n",
      "\n",
      "[8 rows x 29 columns]\n"
     ]
    }
   ],
   "source": [
    "# check which column are max more than 10000\n",
    "print(scaled.describe())"
   ]
  },
  {
   "cell_type": "code",
   "execution_count": 12,
   "metadata": {},
   "outputs": [],
   "source": [
    "# del res['scale_min_max']\n",
    "# for i in res:\n",
    "#     del res[i]['model']\n",
    "    \n",
    "with open('feature_selected.json', 'w') as fp:\n",
    "    json.dump(res, fp)"
   ]
  },
  {
   "cell_type": "code",
   "execution_count": 13,
   "metadata": {},
   "outputs": [
    {
     "name": "stdout",
     "output_type": "stream",
     "text": [
      "{'scale_Robust': {'column_1': ['Num_Bank_Accounts', 'Num_Credit_Card', 'Interest_Rate', 'Num_of_Loan', 'Delay_from_due_date', 'Num_of_Delayed_Payment', 'Num_Credit_Inquiries', 'Credit_Mix', 'Outstanding_Debt', 'Credit_History_Age', 'Payment_of_Min_Amount', 'Interest_Loan_Interaction'], 'column_2': ['Annual_Income', 'Monthly_Inhand_Salary', 'Num_Credit_Card', 'Interest_Rate', 'Num_of_Loan', 'Delay_from_due_date', 'Changed_Credit_Limit', 'Num_Credit_Inquiries', 'Credit_Mix', 'Payment_of_Min_Amount', 'Net_Monthly_Savings', 'Interest_Loan_Interaction'], 'column_3': ['Credit_Mix', 'Outstanding_Debt', 'Credit_History_Age', 'Interest_Rate', 'Delay_from_due_date', 'Interest_Loan_Interaction', 'Monthly_Balance', 'Month', 'Credit_Utilization', 'Credit_Utilization_Ratio', 'Changed_Credit_Limit', 'Num_Credit_Inquiries'], 'common': ['Interest_Rate', 'Num_Credit_Inquiries', 'Delay_from_due_date', 'Credit_Mix', 'Interest_Loan_Interaction']}, 'scaled_min_sklearn': {'column_1': ['Num_Bank_Accounts', 'Num_Credit_Card', 'Interest_Rate', 'Delay_from_due_date', 'Num_of_Delayed_Payment', 'Num_Credit_Inquiries', 'Credit_Mix', 'Outstanding_Debt', 'Credit_History_Age', 'Payment_of_Min_Amount', 'Loan_to_Income_Ratio', 'Interest_Loan_Interaction'], 'column_2': ['Annual_Income', 'Monthly_Inhand_Salary', 'Num_Credit_Card', 'Interest_Rate', 'Num_of_Loan', 'Delay_from_due_date', 'Changed_Credit_Limit', 'Num_Credit_Inquiries', 'Credit_Mix', 'Outstanding_Debt', 'EMI_to_Income_Ratio', 'Net_Monthly_Savings'], 'column_3': ['Outstanding_Debt', 'Credit_Mix', 'Credit_History_Age', 'Interest_Rate', 'Delay_from_due_date', 'Interest_Loan_Interaction', 'Month', 'Credit_Utilization_Ratio', 'Credit_Utilization', 'Monthly_Balance', 'Changed_Credit_Limit', 'Num_Credit_Card'], 'common': ['Interest_Rate', 'Delay_from_due_date', 'Credit_Mix', 'Num_Credit_Card', 'Outstanding_Debt']}, 'scale_standard': {'column_1': ['Num_Bank_Accounts', 'Num_Credit_Card', 'Interest_Rate', 'Num_of_Loan', 'Delay_from_due_date', 'Num_of_Delayed_Payment', 'Num_Credit_Inquiries', 'Credit_Mix', 'Outstanding_Debt', 'Credit_History_Age', 'Payment_of_Min_Amount', 'Interest_Loan_Interaction'], 'column_2': ['Annual_Income', 'Monthly_Inhand_Salary', 'Num_Credit_Card', 'Interest_Rate', 'Num_of_Loan', 'Delay_from_due_date', 'Changed_Credit_Limit', 'Num_Credit_Inquiries', 'Credit_Mix', 'Total_Financial_Obligations', 'Net_Monthly_Savings', 'Interest_Loan_Interaction'], 'column_3': ['Credit_Mix', 'Outstanding_Debt', 'Credit_History_Age', 'Interest_Rate', 'Delay_from_due_date', 'Monthly_Balance', 'Month', 'Credit_Utilization_Ratio', 'Changed_Credit_Limit', 'Credit_Utilization', 'Interest_Loan_Interaction', 'Debt_to_Income_Ratio'], 'common': ['Interest_Rate', 'Delay_from_due_date', 'Credit_Mix', 'Interest_Loan_Interaction']}, 'common_1': ['Interest_Rate', 'Num_Credit_Inquiries', 'Num_of_Delayed_Payment', 'Delay_from_due_date', 'Credit_History_Age', 'Credit_Mix', 'Interest_Loan_Interaction', 'Num_Bank_Accounts', 'Num_Credit_Card', 'Payment_of_Min_Amount', 'Outstanding_Debt'], 'common_2': ['Interest_Rate', 'Num_Credit_Inquiries', 'Num_of_Loan', 'Net_Monthly_Savings', 'Delay_from_due_date', 'Credit_Mix', 'Num_Credit_Card', 'Annual_Income', 'Changed_Credit_Limit', 'Monthly_Inhand_Salary'], 'common_3': ['Interest_Rate', 'Month', 'Monthly_Balance', 'Delay_from_due_date', 'Credit_History_Age', 'Credit_Mix', 'Interest_Loan_Interaction', 'Credit_Utilization_Ratio', 'Credit_Utilization', 'Outstanding_Debt', 'Changed_Credit_Limit'], 'common': ['Interest_Rate', 'Num_Credit_Inquiries', 'Delay_from_due_date', 'Credit_History_Age', 'Credit_Mix', 'Interest_Loan_Interaction', 'Num_Credit_Card', 'Outstanding_Debt']}\n"
     ]
    }
   ],
   "source": [
    "loads = res.copy()\n",
    "commons_1= loads['scale_Robust']['column_1']\n",
    "commons_2= loads['scale_Robust']['column_2']\n",
    "commons_3= loads['scale_Robust']['column_3']\n",
    "for i in loads:\n",
    "    column_1 = loads[i]['column_1']\n",
    "    column_2 = loads[i]['column_2']\n",
    "    column_3 = loads[i]['column_3']\n",
    "    # extract what is common in all three\n",
    "    common = list(set(column_1) & set(column_2) & set(column_3))\n",
    "    loads[i]['common'] = common\n",
    "    commons_1 = list(set(commons_1) & set(column_1))\n",
    "    commons_2 = list(set(commons_2) & set(column_2))\n",
    "    commons_3 = list(set(commons_3) & set(column_3))\n",
    "loads['common_1'] = list(commons_1)\n",
    "loads['common_2'] = list(commons_2)\n",
    "loads['common_3'] = list(commons_3)\n",
    "\n",
    "common = []\n",
    "for i in commons_1:\n",
    "    if i in commons_2 or i in commons_3:\n",
    "        common.append(i)\n",
    "loads['common'] = common\n",
    "\n",
    "print(loads)\n",
    "with open('feature_selected_2.json', 'w') as fp:\n",
    "    json.dump(loads, fp)\n",
    "        \n",
    "    "
   ]
  }
 ],
 "metadata": {
  "kernelspec": {
   "display_name": ".venv",
   "language": "python",
   "name": "python3"
  },
  "language_info": {
   "codemirror_mode": {
    "name": "ipython",
    "version": 3
   },
   "file_extension": ".py",
   "mimetype": "text/x-python",
   "name": "python",
   "nbconvert_exporter": "python",
   "pygments_lexer": "ipython3",
   "version": "3.10.10"
  },
  "orig_nbformat": 4
 },
 "nbformat": 4,
 "nbformat_minor": 2
}
