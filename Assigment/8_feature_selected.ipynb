{
 "cells": [
  {
   "cell_type": "code",
   "execution_count": 1,
   "metadata": {},
   "outputs": [],
   "source": [
    "import pandas as pd\n",
    "from sklearn.feature_selection import SelectKBest, f_classif,RFE,RFECV,SelectFromModel\n",
    "from sklearn.linear_model import LogisticRegression\n",
    "from sklearn.ensemble import RandomForestClassifier\n",
    "import numpy as np\n",
    "import json\n"
   ]
  },
  {
   "cell_type": "code",
   "execution_count": 2,
   "metadata": {},
   "outputs": [],
   "source": [
    "res = {\n",
    "    \"scale_Robust\": {\n",
    "        \"column_1\": [],\n",
    "        \"column_2\": [],\n",
    "        \"column_3\": [],\n",
    "        'model': pd.read_csv('scale_Robust.csv')\n",
    "        \n",
    "        },\n",
    "    \n",
    "    \"scaled_min_sklearn\": {\n",
    "        \"column_1\": [],\n",
    "        \"column_2\": [],\n",
    "        \"column_3\": [],\n",
    "        'model': pd.read_csv('scale_min_sklearn.csv')\n",
    "        },\n",
    "    \"scale_standard\":{\n",
    "        \"column_1\": [],\n",
    "        \"column_2\": [],\n",
    "        \"column_3\": [],\n",
    "        'model': pd.read_csv('scale_standard.csv')\n",
    "        },\n",
    "    \n",
    "}"
   ]
  },
  {
   "cell_type": "code",
   "execution_count": 3,
   "metadata": {},
   "outputs": [],
   "source": [
    "def select_beat_feature(i,res,k,x,y):\n",
    "    selector = SelectKBest(score_func=f_classif, k=k)  # Select top 5 features\n",
    "    X_new = selector.fit_transform(x, y)\n",
    "    selected_indices = selector.get_support(indices=True)\n",
    "    selected_feature_names = list(x.columns[selected_indices])\n",
    "    res[i]['column_1'] = selected_feature_names"
   ]
  },
  {
   "cell_type": "code",
   "execution_count": 4,
   "metadata": {},
   "outputs": [],
   "source": [
    "def rfe_feature(i,res,k,x,y):\n",
    "    model = RandomForestClassifier(n_estimators=100)\n",
    "    selector = SelectFromModel(model,max_features=k)\n",
    "    selector.fit(x, y)\n",
    "    selected_indices = selector.get_support(indices=True)\n",
    "    selected_feature_names = list(x.columns[selected_indices])\n",
    "    res[i]['column_2'] = selected_feature_names\n",
    "    "
   ]
  },
  {
   "cell_type": "code",
   "execution_count": 5,
   "metadata": {},
   "outputs": [],
   "source": [
    "def random_selection(i,res,k,x,y):\n",
    "    model = RandomForestClassifier(n_estimators=100)\n",
    "    rfecv = RFECV(model, step=1, cv=5, scoring='accuracy',min_features_to_select=k)\n",
    "    rfecv.fit(x, y)\n",
    "    selected_feature_indices = rfecv.support_\n",
    "    selected_feature_names = list(x.columns[selected_feature_indices])\n",
    "    res[i]['column_3'] = selected_feature_names\n",
    "    "
   ]
  },
  {
   "cell_type": "code",
   "execution_count": 8,
   "metadata": {},
   "outputs": [],
   "source": [
    "\n",
    "for i in res:\n",
    "    try:\n",
    "        scaled = res[i]['model']\n",
    "        x = scaled.drop(\"Credit_Score\", axis=1)\n",
    "        y = scaled[\"Credit_Score\"]\n",
    "        select_beat_feature(i,res,12,x,y)\n",
    "        rfe_feature(i,res,12,x,y)\n",
    "        random_selection(i,res,12,x,y)\n",
    "    except:\n",
    "        print(i,\"error\")\n",
    "        continue\n",
    "# check if all column are same\n",
    "\n",
    "    \n",
    "    \n",
    "    \n",
    "    \n",
    "\n"
   ]
  },
  {
   "cell_type": "code",
   "execution_count": 12,
   "metadata": {},
   "outputs": [],
   "source": [
    "# del res['scale_min_max']\n",
    "# for i in res:\n",
    "#     del res[i]['model']\n",
    "    \n",
    "with open('feature_selected.json', 'w') as fp:\n",
    "    json.dump(res, fp)"
   ]
  },
  {
   "cell_type": "code",
   "execution_count": 13,
   "metadata": {},
   "outputs": [
    {
     "name": "stdout",
     "output_type": "stream",
     "text": [
      "{'scale_Robust': {'column_1': ['Num_Bank_Accounts', 'Num_Credit_Card', 'Interest_Rate', 'Num_of_Loan', 'Delay_from_due_date', 'Num_of_Delayed_Payment', 'Num_Credit_Inquiries', 'Credit_Mix', 'Outstanding_Debt', 'Credit_History_Age', 'Payment_of_Min_Amount', 'Interest_Loan_Interaction'], 'column_2': ['Annual_Income', 'Monthly_Inhand_Salary', 'Num_Credit_Card', 'Interest_Rate', 'Num_of_Loan', 'Delay_from_due_date', 'Changed_Credit_Limit', 'Num_Credit_Inquiries', 'Credit_Mix', 'Payment_of_Min_Amount', 'Net_Monthly_Savings', 'Interest_Loan_Interaction'], 'column_3': ['Credit_Mix', 'Outstanding_Debt', 'Credit_History_Age', 'Interest_Rate', 'Delay_from_due_date', 'Interest_Loan_Interaction', 'Monthly_Balance', 'Month', 'Credit_Utilization', 'Credit_Utilization_Ratio', 'Changed_Credit_Limit', 'Num_Credit_Inquiries'], 'common': ['Interest_Rate', 'Num_Credit_Inquiries', 'Delay_from_due_date', 'Credit_Mix', 'Interest_Loan_Interaction']}, 'scaled_min_sklearn': {'column_1': ['Num_Bank_Accounts', 'Num_Credit_Card', 'Interest_Rate', 'Delay_from_due_date', 'Num_of_Delayed_Payment', 'Num_Credit_Inquiries', 'Credit_Mix', 'Outstanding_Debt', 'Credit_History_Age', 'Payment_of_Min_Amount', 'Loan_to_Income_Ratio', 'Interest_Loan_Interaction'], 'column_2': ['Annual_Income', 'Monthly_Inhand_Salary', 'Num_Credit_Card', 'Interest_Rate', 'Num_of_Loan', 'Delay_from_due_date', 'Changed_Credit_Limit', 'Num_Credit_Inquiries', 'Credit_Mix', 'Outstanding_Debt', 'EMI_to_Income_Ratio', 'Net_Monthly_Savings'], 'column_3': ['Outstanding_Debt', 'Credit_Mix', 'Credit_History_Age', 'Interest_Rate', 'Delay_from_due_date', 'Interest_Loan_Interaction', 'Month', 'Credit_Utilization_Ratio', 'Credit_Utilization', 'Monthly_Balance', 'Changed_Credit_Limit', 'Num_Credit_Card'], 'common': ['Interest_Rate', 'Delay_from_due_date', 'Credit_Mix', 'Num_Credit_Card', 'Outstanding_Debt']}, 'scale_standard': {'column_1': ['Num_Bank_Accounts', 'Num_Credit_Card', 'Interest_Rate', 'Num_of_Loan', 'Delay_from_due_date', 'Num_of_Delayed_Payment', 'Num_Credit_Inquiries', 'Credit_Mix', 'Outstanding_Debt', 'Credit_History_Age', 'Payment_of_Min_Amount', 'Interest_Loan_Interaction'], 'column_2': ['Annual_Income', 'Monthly_Inhand_Salary', 'Num_Credit_Card', 'Interest_Rate', 'Num_of_Loan', 'Delay_from_due_date', 'Changed_Credit_Limit', 'Num_Credit_Inquiries', 'Credit_Mix', 'Total_Financial_Obligations', 'Net_Monthly_Savings', 'Interest_Loan_Interaction'], 'column_3': ['Credit_Mix', 'Outstanding_Debt', 'Credit_History_Age', 'Interest_Rate', 'Delay_from_due_date', 'Monthly_Balance', 'Month', 'Credit_Utilization_Ratio', 'Changed_Credit_Limit', 'Credit_Utilization', 'Interest_Loan_Interaction', 'Debt_to_Income_Ratio'], 'common': ['Interest_Rate', 'Delay_from_due_date', 'Credit_Mix', 'Interest_Loan_Interaction']}, 'common_1': ['Interest_Rate', 'Num_Credit_Inquiries', 'Num_of_Delayed_Payment', 'Delay_from_due_date', 'Credit_History_Age', 'Credit_Mix', 'Interest_Loan_Interaction', 'Num_Bank_Accounts', 'Num_Credit_Card', 'Payment_of_Min_Amount', 'Outstanding_Debt'], 'common_2': ['Interest_Rate', 'Num_Credit_Inquiries', 'Num_of_Loan', 'Net_Monthly_Savings', 'Delay_from_due_date', 'Credit_Mix', 'Num_Credit_Card', 'Annual_Income', 'Changed_Credit_Limit', 'Monthly_Inhand_Salary'], 'common_3': ['Interest_Rate', 'Month', 'Monthly_Balance', 'Delay_from_due_date', 'Credit_History_Age', 'Credit_Mix', 'Interest_Loan_Interaction', 'Credit_Utilization_Ratio', 'Credit_Utilization', 'Outstanding_Debt', 'Changed_Credit_Limit'], 'common': ['Interest_Rate', 'Num_Credit_Inquiries', 'Delay_from_due_date', 'Credit_History_Age', 'Credit_Mix', 'Interest_Loan_Interaction', 'Num_Credit_Card', 'Outstanding_Debt']}\n"
     ]
    }
   ],
   "source": [
    "loads = res.copy()\n",
    "commons_1= loads['scale_Robust']['column_1']\n",
    "commons_2= loads['scale_Robust']['column_2']\n",
    "commons_3= loads['scale_Robust']['column_3']\n",
    "for i in loads:\n",
    "    column_1 = loads[i]['column_1']\n",
    "    column_2 = loads[i]['column_2']\n",
    "    column_3 = loads[i]['column_3']\n",
    "    # extract what is common in all three\n",
    "    common = list(set(column_1) & set(column_2) & set(column_3))\n",
    "    loads[i]['common'] = common\n",
    "    commons_1 = list(set(commons_1) & set(column_1))\n",
    "    commons_2 = list(set(commons_2) & set(column_2))\n",
    "    commons_3 = list(set(commons_3) & set(column_3))\n",
    "loads['common_1'] = list(commons_1)\n",
    "loads['common_2'] = list(commons_2)\n",
    "loads['common_3'] = list(commons_3)\n",
    "\n",
    "common = []\n",
    "for i in commons_1:\n",
    "    if i in commons_2 or i in commons_3:\n",
    "        common.append(i)\n",
    "loads['common'] = common\n",
    "\n",
    "print(loads)\n",
    "with open('feature_selected_2.json', 'w') as fp:\n",
    "    json.dump(loads, fp)\n",
    "        \n",
    "    "
   ]
  }
 ],
 "metadata": {
  "kernelspec": {
   "display_name": ".venv",
   "language": "python",
   "name": "python3"
  },
  "language_info": {
   "codemirror_mode": {
    "name": "ipython",
    "version": 3
   },
   "file_extension": ".py",
   "mimetype": "text/x-python",
   "name": "python",
   "nbconvert_exporter": "python",
   "pygments_lexer": "ipython3",
   "version": "3.10.10"
  },
  "orig_nbformat": 4
 },
 "nbformat": 4,
 "nbformat_minor": 2
}
