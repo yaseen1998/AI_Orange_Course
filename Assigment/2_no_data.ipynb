{
 "cells": [
  {
   "cell_type": "code",
   "execution_count": 3,
   "metadata": {},
   "outputs": [],
   "source": [
    "from sklearn.feature_selection import SelectKBest, chi2\n",
    "import pandas as pd\n",
    "from sklearn.model_selection import train_test_split\n",
    "from sklearn.preprocessing import LabelEncoder\n",
    "from sklearn.ensemble import RandomForestClassifier\n",
    "from sklearn.metrics import accuracy_score, classification_report\n",
    "import numpy as np"
   ]
  },
  {
   "cell_type": "code",
   "execution_count": 4,
   "metadata": {},
   "outputs": [],
   "source": [
    "df = pd.read_csv('credit_score.csv')"
   ]
  },
  {
   "cell_type": "code",
   "execution_count": 5,
   "metadata": {},
   "outputs": [],
   "source": [
    "# Prepare data for feature selection\n",
    "# We'll consider only numerical columns for now as chi-squared test requires numerical features and labels\n",
    "numerical_cols = df.select_dtypes(include=['int64', 'float64']).columns\n",
    "\n",
    "# Exclude columns that are identifiers or may not be relevant for predicting 'Type_of_Loan'\n",
    "# We can't use 'ID' or 'Customer_ID' as they are merely identifiers and not features\n",
    "# 'Month' is also excluded as it is a time-based identifier\n",
    "relevant_cols = [col for col in numerical_cols if col not in ['Month']]\n",
    "\n",
    "# Prepare the training set for feature selection (exclude rows with 'No Data' in 'Type_of_Loan')\n",
    "df_for_feature_selection = df[df['Type_of_Loan'] != 'No Data']\n",
    "\n",
    "X = df_for_feature_selection[relevant_cols]  # Feature matrix\n",
    "y = df_for_feature_selection['Type_of_Loan']  # Target variable\n",
    "\n",
    "# Apply SelectKBest class to extract top features using Chi-squared test\n",
    "bestfeatures = SelectKBest(score_func=chi2, k='all')\n",
    "\n",
    "fit = bestfeatures.fit(X, y)\n",
    "\n",
    "# Get the scores for each feature\n",
    "feature_scores = pd.DataFrame({'Feature': relevant_cols, 'Score': fit.scores_}).sort_values(by='Score', ascending=False)\n",
    "\n",
    "# Display the feature scores\n"
   ]
  },
  {
   "cell_type": "code",
   "execution_count": 6,
   "metadata": {},
   "outputs": [],
   "source": [
    "selected_features = feature_scores[feature_scores['Score'] > 1e5]['Feature'].tolist()\n",
    "\n",
    "# Prepare the dataset\n",
    "# Exclude rows with 'No Data' in 'Type_of_Loan' for the training set\n",
    "train_data = df[df['Type_of_Loan'] != 'No Data']\n",
    "# Include only rows with 'No Data' in 'Type_of_Loan' for the prediction set\n",
    "predict_data = df[df['Type_of_Loan'] == 'No Data']\n",
    "\n",
    "# Select only the chosen features and the target for training\n",
    "X_train_full = train_data[selected_features]\n",
    "y_train_full = train_data['Type_of_Loan']\n",
    "\n",
    "# Label encode the target variable\n",
    "label_encoder = LabelEncoder()\n",
    "y_train_full_encoded = label_encoder.fit_transform(y_train_full)\n",
    "\n",
    "# Split the data into training and validation sets\n",
    "X_train, X_val, y_train, y_val = train_test_split(X_train_full, y_train_full_encoded, test_size=0.2, random_state=42)\n",
    "\n",
    "# Prepare the prediction set\n",
    "X_predict = predict_data[selected_features]\n",
    "\n",
    "# Show the shape of the data to confirm\n"
   ]
  },
  {
   "cell_type": "code",
   "execution_count": 7,
   "metadata": {},
   "outputs": [
    {
     "ename": "",
     "evalue": "",
     "output_type": "error",
     "traceback": [
      "\u001b[1;31mThe Kernel crashed while executing code in the the current cell or a previous cell. Please review the code in the cell(s) to identify a possible cause of the failure. Click <a href='https://aka.ms/vscodeJupyterKernelCrash'>here</a> for more info. View Jupyter <a href='command:jupyter.viewOutput'>log</a> for further details."
     ]
    }
   ],
   "source": [
    "\n",
    "\n",
    "# Initialize the Random Forest Classifier\n",
    "rf_classifier = RandomForestClassifier(n_estimators=50, random_state=42)\n",
    "\n",
    "# Train the model on the training set\n",
    "rf_classifier.fit(X_train, y_train)\n",
    "\n",
    "# Evaluate the model on the validation set\n",
    "y_val_pred = rf_classifier.predict(X_val)\n",
    "val_accuracy = accuracy_score(y_val, y_val_pred)\n",
    "\n",
    "# Display the validation accuracy\n",
    "val_accuracy"
   ]
  },
  {
   "cell_type": "code",
   "execution_count": null,
   "metadata": {},
   "outputs": [],
   "source": [
    "#Predict the 'Type_of_Loan' for the prediction set\n",
    "y_predict_encoded = rf_classifier.predict(X_predict)\n",
    "\n",
    "# Decode the predicted labels back to original categories\n",
    "y_predict = label_encoder.inverse_transform(y_predict_encoded)"
   ]
  },
  {
   "cell_type": "code",
   "execution_count": null,
   "metadata": {},
   "outputs": [],
   "source": [
    "#Impute the predicted 'Type_of_Loan' values into the original dataset\n",
    "df.loc[df['Type_of_Loan'] == 'No Data', 'Type_of_Loan'] = y_predict\n",
    "df.to_csv('../csv/no_data.csv', index=False)"
   ]
  }
 ],
 "metadata": {
  "kernelspec": {
   "display_name": ".venv",
   "language": "python",
   "name": "python3"
  },
  "language_info": {
   "codemirror_mode": {
    "name": "ipython",
    "version": 3
   },
   "file_extension": ".py",
   "mimetype": "text/x-python",
   "name": "python",
   "nbconvert_exporter": "python",
   "pygments_lexer": "ipython3",
   "version": "3.10.10"
  },
  "orig_nbformat": 4
 },
 "nbformat": 4,
 "nbformat_minor": 2
}
