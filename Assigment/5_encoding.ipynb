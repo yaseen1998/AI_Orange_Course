{
 "cells": [
  {
   "cell_type": "code",
   "execution_count": null,
   "metadata": {},
   "outputs": [],
   "source": [
    "import matplotlib.pyplot as plt\n",
    "import seaborn as sns\n",
    "import pandas as pd"
   ]
  },
  {
   "cell_type": "code",
   "execution_count": null,
   "metadata": {},
   "outputs": [],
   "source": [
    "def hot_enocding(x,column):\n",
    "    encoding_column = pd.get_dummies(x[column], prefix=column)\n",
    "    x = x.drop(column, axis=1)\n",
    "    x = x.join(encoding_column)\n",
    "    return x\n",
    "    \n",
    "def custom_encoding(y):\n",
    "    mapping = {\"Standard\":1,\"Good\":2,\"Poor\":0,\"Bad\":0,'NM':0,\"No\":1,\"Yes\":2}\n",
    "    y = y.map(mapping)\n",
    "    return y"
   ]
  },
  {
   "cell_type": "code",
   "execution_count": null,
   "metadata": {},
   "outputs": [],
   "source": [
    "df = pd.read_csv(\"credit_score_clean.csv\")"
   ]
  },
  {
   "cell_type": "code",
   "execution_count": null,
   "metadata": {},
   "outputs": [],
   "source": [
    "unique = x['Type_of_Loan'].unique()\n",
    "res =set()\n",
    "# create column for every unique value\n",
    "for i in unique:\n",
    "    split_unique = i.split(\",\")\n",
    "    for j in split_unique:\n",
    "        strpe_replace = j.replace(\"and\",\"\")\n",
    "        stripe_j = strpe_replace.strip()\n",
    "        res.add(stripe_j)\n",
    "        \n",
    "for i in res:\n",
    "    x[i] = x['Type_of_Loan'].str.contains(i)\n",
    "    \n",
    "x = x.drop(['Type_of_Loan'], axis=1)\n"
   ]
  },
  {
   "cell_type": "code",
   "execution_count": null,
   "metadata": {},
   "outputs": [],
   "source": [
    "x[\"Payment_of_Min_Amount\"]=custom_encoding(x[\"Payment_of_Min_Amount\"])\n"
   ]
  },
  {
   "cell_type": "code",
   "execution_count": null,
   "metadata": {},
   "outputs": [],
   "source": [
    "x[\"Credit_Mix\"]= custom_encoding(x[\"Credit_Mix\"])\n"
   ]
  },
  {
   "cell_type": "code",
   "execution_count": null,
   "metadata": {},
   "outputs": [],
   "source": [
    "x=hot_enocding(x,\"Payment_Behaviour\")\n"
   ]
  },
  {
   "cell_type": "code",
   "execution_count": null,
   "metadata": {},
   "outputs": [],
   "source": [
    "x=hot_enocding(x,\"Occupation\")\n"
   ]
  },
  {
   "cell_type": "code",
   "execution_count": null,
   "metadata": {},
   "outputs": [],
   "source": [
    "loan = ['Personal Loan', 'Home Equity Loan', 'Auto Loan', 'Debt Consolidation Loan', 'Not Specified', 'Payday Loan', 'Student Loan', 'Mortgage Loan', 'Credit-Builder Loan']\n",
    "\n",
    "boolean_counts = x.apply(pd.Series.value_counts)\n",
    "\n",
    "# Create a clustered bar chart\n",
    "fig, ax = plt.subplots(figsize=(10, 6))\n",
    "x = np.arange(len(loan))\n",
    "width = 0.4\n",
    "\n",
    "ax.bar(x - width/2, boolean_counts.loc[False], width, label='False')\n",
    "ax.bar(x + width/2, boolean_counts.loc[True], width, label='True')\n",
    "\n",
    "ax.set_title('Counts of True/False in Loan Types')\n",
    "ax.set_xlabel('Loan Types')\n",
    "ax.set_ylabel('Count')\n",
    "ax.set_xticks(x)\n",
    "ax.set_xticklabels(loan, rotation=45, ha='right')\n",
    "ax.legend(title='Values', loc='upper right')\n",
    "\n",
    "plt.tight_layout()\n",
    "plt.show()"
   ]
  }
 ],
 "metadata": {
  "language_info": {
   "name": "python"
  },
  "orig_nbformat": 4
 },
 "nbformat": 4,
 "nbformat_minor": 2
}
